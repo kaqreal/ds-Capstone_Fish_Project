{
 "cells": [
  {
   "cell_type": "markdown",
   "id": "084de10d-b85c-4f2f-b654-e7548ef7e69f",
   "metadata": {},
   "source": [
    "# FLICKR image scraping with API key"
   ]
  },
  {
   "cell_type": "code",
   "execution_count": 2,
   "id": "55551076-77da-4d3e-bbf1-8346d1e07545",
   "metadata": {
    "tags": []
   },
   "outputs": [],
   "source": [
    "# Flickr API key, specific for this project\n",
    "API_KEY = \"key_string_goes_here\"\n"
   ]
  },
  {
   "cell_type": "code",
   "execution_count": 3,
   "id": "0dce31a9-9665-4237-8c66-515a7ff0c76e",
   "metadata": {
    "tags": []
   },
   "outputs": [],
   "source": [
    "import requests\n",
    "import json\n",
    "import os\n",
    "\n",
    "def search_and_download(search_terms, num_images_per_folder):\n",
    "    # Create a directory to store the images\n",
    "    if not os.path.exists(\"image_scraping\"):\n",
    "        os.makedirs(\"image_scraping\")\n",
    " \n",
    "    # Search for images with a Creative Commons license on Flickr\n",
    "    for search_term in search_terms:\n",
    "        search_term_formatted = search_term.replace('_', '+')\n",
    "        search_url = f\"https://api.flickr.com/services/rest/?method=flickr.photos.search&api_key={API_KEY}&text={search_term_formatted}&per_page={num_images_per_folder}&format=json&nojsoncallback=1&sort=relevance&license=4,5,6,7\"\n",
    "        response = requests.get(search_url)\n",
    "        data = json.loads(response.text)\n",
    "        if data[\"stat\"] == \"ok\":\n",
    "            photos = data[\"photos\"][\"photo\"]\n",
    "            if not os.path.exists(f\"image_scraping/{search_term}\"):\n",
    "                os.makedirs(f\"image_scraping/{search_term}\")\n",
    "            for i, photo in enumerate(photos):\n",
    "                photo_url = f\"https://farm{photo['farm']}.staticflickr.com/{photo['server']}/{photo['id']}_{photo['secret']}.jpg\"\n",
    "                response = requests.get(photo_url)\n",
    "                with open(f\"image_scraping/{search_term}/{i}.jpg\", \"wb\") as f:\n",
    "                    f.write(response.content)\n",
    "        else:\n",
    "            print(\"An error occurred while searching for images on Flickr.\")\n",
    "\n",
    "# Example usage\n",
    "search_terms = [\"dog\", \"cat\", \"bird\"]\n",
    "#search_terms = class_names[13:]\n",
    "\n",
    "num_images_per_folder = 50\n",
    "search_and_download(search_terms, num_images_per_folder)"
   ]
  },
  {
   "cell_type": "markdown",
   "id": "a4a7ffe5-a300-435f-8e35-0ad7ffd1ad05",
   "metadata": {},
   "source": [
    "# IUCN red list API"
   ]
  },
  {
   "cell_type": "code",
   "execution_count": 1,
   "id": "dac72d83-4c91-41ec-ba68-b58ebd5e25e2",
   "metadata": {
    "tags": []
   },
   "outputs": [],
   "source": [
    "class_names = ['A73EGS-P', 'CUNWCB-Y', 'Istiophorus_platypterus', 'P1ROZC-Z', 'PQV7DP-S', 'acanthaluteres_brownii', 'acanthaluteres_spilomelanurus', 'acanthaluteres_vittiger', 'acanthistius_cinctus', 'acanthopagrus_australis', 'acanthopagrus_berda', 'acanthopagrus_latus', 'achoerodus_gouldii', 'achoerodus_viridis', 'acreichthys_tomentosus', 'aesopia_cornuta', 'aethaloperca_rogaa', 'alectis_ciliaris', 'alectis_indica', 'alepes_kleinii', 'aluterus_monoceros', 'aluterus_scriptus', 'amanses_scopas', 'anampses_caeruleopunctatus', 'anampses_elegans', 'anampses_femininus', 'anampses_geographicus', 'anampses_lennardi', 'anampses_melanurus', 'anampses_meleagrides', 'anampses_neoguinaicus', 'anampses_twistii', 'anodontostoma_chacunda', 'anyperodon_leucogrammicus', 'aphareus_furca', 'aphareus_rutilans', 'aprion_virescens', 'argyrops_spinifer', 'aseraggodes_melanostictus', 'atractoscion_aequidens', 'atule_mate', 'auxis_rochei', 'auxis_thazard', 'bathylagichthys_greyae', 'beryx_decadactylus', 'bodianus_anthioides', 'bodianus_axillaris', 'bodianus_bilunulatus', 'bodianus_bimaculatus', 'bodianus_diana', 'bodianus_loxozonus', 'bodianus_mesothorax', 'bodianus_perditio', 'bodianus_unimaculatus', 'bodianus_vulpinus', 'bothus_mancus', 'bothus_myriaster', 'bothus_pantherinus', 'brachaluteres_jacksonianus', 'brachirus_orientalis', 'caesioperca_lepidopterus', 'cantherhines_dumerilii', 'cantherhines_fronticinctus', 'cantherhines_pardalis', 'cantheschenia_grandisquamis', 'caprodon_longimanus', 'caprodon_schlegelii', 'carangoides_caeruleopinnatus', 'carangoides_chrysophrys', 'carangoides_equula', 'carangoides_ferdau', 'carangoides_fulvoguttatus', 'carangoides_hedlandensis', 'carangoides_malabaricus', 'carangoides_orthogrammus', 'carangoides_plagiotaenia', 'caranx_ignobilis', 'caranx_lugubris', 'caranx_melampygus', 'caranx_sexfasciatus', 'carcharhinus_albimarginatus', 'carcharhinus_amblyrhynchos', 'carcharhinus_falciformis', 'carcharhinus_galapagensis', 'carcharhinus_limbatus', 'carcharhinus_melanopterus', 'carcharhinus_obscurus', 'carcharhinus_plumbeus', 'carcharhinus_sorrah', 'centroberyx_affinis', 'centrogenys_vaigiensis', 'centroscymnus_coelolepis', 'cephalopholis_argus', 'cephalopholis_boenak', 'cephalopholis_cyanostigma', 'cephalopholis_formosa', 'cephalopholis_igarashiensis', 'cephalopholis_leopardus', 'cephalopholis_microprion', 'cephalopholis_miniata', 'cephalopholis_sexmaculata', 'cephalopholis_sonnerati', 'cephalopholis_spiloparaea', 'chascanopsetta_lugubris', 'cheilinus_chlorourus', 'cheilinus_fasciatus', 'cheilinus_oxycephalus', 'cheilinus_trilobatus', 'cheilinus_undulatus', 'cheilio_inermis', 'cheilodactylus_ephippium', 'cheilodactylus_fuscus', 'cheilodactylus_spectabilis', 'cheilodactylus_vestitus', 'chelidonichthys_kumu', 'chirocentrus_dorab', 'chirocentrus_nudus', 'choerodon_anchorago', 'choerodon_cauteroma', 'choerodon_cyanodus', 'choerodon_fasciatus', 'choerodon_graphicus', 'choerodon_jordani', 'choerodon_rubescens', 'choerodon_schoenleinii', 'choerodon_venustus', 'choerodon_vitta', 'choerodon_zamboangae', 'chromileptes_altivelis', 'cirrhilabrus_bathyphilus', 'cirrhilabrus_condei', 'cirrhilabrus_cyanopleura', 'cirrhilabrus_exquisitus', 'cirrhilabrus_laboutei', 'cirrhilabrus_punctatus', 'cirrhilabrus_scottorum', 'cirrhilabrus_temminckii', 'coris_aygula', 'coris_batuensis', 'coris_bulbifrons', 'coris_caudimacula', 'coris_dorsomacula', 'coris_gaimard', 'coris_picta', 'coris_pictoides', 'coris_sandeyeri', 'crenimugil_crenilabis', 'cymbacephalus_nematophthalmus', 'cymolutes_praetextatus', 'cymolutes_torquatus', 'cynoglossus_puncticeps', 'cyttopsis_rosea', 'dactylophora_nigricans', 'decapterus_macrosoma', 'decapterus_russelli', 'diproctacanthus_xanthurus', 'dotalabrus_aurantiacus', 'elagatis_bipinnulata', 'epibulus_insidiator', 'epinephelus_areolatus', 'epinephelus_bleekeri', 'epinephelus_chlorostigma', 'epinephelus_coeruleopunctatus', 'epinephelus_coioides', 'epinephelus_corallicola', 'epinephelus_cyanopodus', 'epinephelus_epistictus', 'epinephelus_fasciatus', 'epinephelus_fuscoguttatus', 'epinephelus_hexagonatus', 'epinephelus_howlandi', 'epinephelus_lanceolatus', 'epinephelus_latifasciatus', 'epinephelus_macrospilos', 'epinephelus_maculatus', 'epinephelus_melanostigma', 'epinephelus_merra', 'epinephelus_morrhua', 'epinephelus_multinotatus', 'epinephelus_ongus', 'epinephelus_polyphekadion', 'epinephelus_quoyanus', 'epinephelus_radiatus', 'epinephelus_retouti', 'epinephelus_rivulatus', 'epinephelus_sexfasciatus', 'epinephelus_spilotoceps', 'epinephelus_tauvina', 'epinephelus_undulatostriatus', 'etelis_carbunculus', 'etelis_coruscans', 'eubalichthys_cyanoura', 'eubalichthys_mosaicus', 'eupetrichthys_angustipes', 'euthynnus_affinis', 'evistias_acutirostris', 'gempylus_serpens', 'gnathanodon_speciosus', 'gnathodentex_aureolineatus', 'gracila_albomarginata', 'gymnocranius_audleyi', 'gymnocranius_euanus', 'gymnocranius_grandoculis', 'gymnocranius_microdon', 'gymnosarda_unicolor', 'halichoeres_argus', 'halichoeres_biocellatus', 'halichoeres_chloropterus', 'halichoeres_chrysus', 'halichoeres_hartzfeldii', 'halichoeres_hortulanus', 'halichoeres_leucurus', 'halichoeres_margaritaceus', 'halichoeres_marginatus', 'halichoeres_melanochir', 'halichoeres_melanurus', 'halichoeres_melasmapomus', 'halichoeres_miniatus', 'halichoeres_nebulosus', 'halichoeres_nigrescens', 'halichoeres_scapularis', 'halichoeres_trimaculatus', 'harriotta_raleighana', 'hemigymnus_fasciatus', 'hemigymnus_melapterus', 'hemiramphus_far', 'herklotsichthys_quadrimaculatus', 'hologymnosus_annulatus', 'hologymnosus_doliatus', 'hyporhamphus_affinis', 'hyporhamphus_dussumieri', 'inegocia_japonica', 'johnius_borneensis', 'katsuwonus_pelamis', 'labrichthys_unilineatus', 'labroides_bicolor', 'labroides_dimidiatus', 'labroides_pectoralis', 'labropsis_australis', 'labropsis_manabei', 'labropsis_xanthonota', 'latridopsis_forsteri', 'lepidocybium_flavobrunneum', 'leptojulis_cyanopleura', 'lethrinus_amboinensis', 'lethrinus_atkinsoni', 'lethrinus_erythracanthus', 'lethrinus_genivittatus', 'lethrinus_harak', 'lethrinus_lentjan', 'lethrinus_microdon', 'lethrinus_miniatus', 'lethrinus_nebulosus', 'lethrinus_obsoletus', 'lethrinus_olivaceus', 'lethrinus_ornatus', 'lethrinus_rubrioperculatus', 'lethrinus_semicinctus', 'lethrinus_variegatus', 'lethrinus_xanthochilus', 'liopropoma_mitratum', 'liopropoma_susumi', 'liza_subviridis', 'liza_vaigiensis', 'lniistius_aneitensis', 'lniistius_pavo', 'lutjanus_adetii', 'lutjanus_argentimaculatus', 'lutjanus_biguttatus', 'lutjanus_bohar', 'lutjanus_carponotatus', 'lutjanus_decussatus', 'lutjanus_ehrenbergii', 'lutjanus_erythropterus', 'lutjanus_fulviflamma', 'lutjanus_fulvus', 'lutjanus_gibbus', 'lutjanus_johnii', 'lutjanus_kasmira', 'lutjanus_lemniscatus', 'lutjanus_lutjanus', 'lutjanus_malabaricus', 'lutjanus_monostigma', 'lutjanus_quinquelineatus', 'lutjanus_rivulatus', 'lutjanus_russellii', 'lutjanus_sebae', 'lutjanus_semicinctus', 'lutjanus_semicinctus_quoy', 'lutjanus_timoriensis', 'lutjanus_vitta', 'macolor_macularis', 'macolor_niger', 'macropharyngodon_choati', 'macropharyngodon_kuiteri', 'macropharyngodon_meleagris', 'macropharyngodon_negrosensis', 'macropharyngodon_ornatus', 'megalaspis_cordyla', 'meuschenia_australis', 'meuschenia_freycineti', 'meuschenia_galii', 'meuschenia_hippocrepis', 'meuschenia_scaber', 'meuschenia_trachylepis', 'monacanthus_chinensis', 'monotaxis_grandoculis', 'mugim_cephalus', 'naucrates_ductor', 'negaprion_acutidens', 'nemadactylus_douglasii', 'nemipterus_furcosus', 'nemipterus_hexodon', 'nemipterus_peronii', 'netuma_thalassina', 'nibea_soldado', 'notolabrus_fucicola', 'notolabrus_gymnogenis', 'notolabrus_tetricus', 'notorynchus_cepedianus', 'novaculichthys_taeniourus', 'novaculoides_macrolepidotus', 'oedalechilus_labiosus', 'ophthalmolepis_lineolatus', 'otolithes_ruber', 'oxycheilinus_bimaculatus', 'oxycheilinus_celebicus', 'oxycheilinus_digrammus', 'oxycheilinus_unifasciatus', 'oxymonacanthus_longirostris', 'pagrus_auratus', 'paracaesio_kusakarii', 'paracheilinus_filamentosus', 'paraluteres_prionurus', 'paramonacanthus_choirocephalus', 'paraplagusia_bilineata', 'parastromateus_niger', 'pardachirus_hedleyi', 'pardachirus_pavoninus', 'pentapodus_aureofasciatus', 'pentapodus_paradiseus', 'pentapodus_vitta_quoy', 'pervagor_alternans', 'pervagor_aspricaudus', 'pervagor_janthinosoma', 'pervagor_melanocephalus', 'pervagor_nigrolineatus', 'pinjalo_lewisi', 'platycephalus_indicus', 'plectranthias_longimanus', 'plectranthias_nanus', 'plectranthias_winniensis', 'plectropomus_areolatus', 'plectropomus_laevis', 'plectropomus_leopardus', 'plectropomus_maculatus', 'plectropomus_oligacanthus', 'plotosus_lineatus', 'pristipomoides_argyrogrammicus', 'pristipomoides_auricilla', 'pristipomoides_filamentosus', 'pristipomoides_flavipinnis', 'pristipomoides_sieboldii', 'pristipomoides_zonatus', 'promethichthys_prometheus', 'protonibea_diacanthus', 'psettodes_erumei', 'pseudalutarius_nasicornis', 'pseudanthias_bicolor', 'pseudanthias_cooperi', 'pseudanthias_dispar', 'pseudanthias_fasciatus', 'pseudanthias_huchtii', 'pseudanthias_hypselosoma', 'pseudanthias_lori', 'pseudanthias_luzonensis', 'pseudanthias_pictilis', 'pseudanthias_pleurotaenia', 'pseudanthias_rubrizonatus', 'pseudanthias_sheni', 'pseudanthias_smithvanizi', 'pseudanthias_squamipinnis', 'pseudanthias_tuka', 'pseudanthias_ventralis', 'pseudocaranx_dentex', 'pseudocarcharias_kamoharai', 'pseudocheilinus_evanidus', 'pseudocheilinus_hexataenia', 'pseudocheilinus_ocellatus', 'pseudocheilinus_octotaenia', 'pseudodax_moluccanus', 'pseudojuloides_cerasinus', 'pseudolabrus_biserialis', 'pseudolabrus_guentheri', 'pseudolabrus_luculentus', 'pseudorhombus_argus', 'pseudorhombus_arsius', 'pseudorhombus_elevatus', 'pteragogus_cryptus', 'pteragogus_enneacanthus', 'pteragogus_flagellifer', 'rastrelliger_kanagurta', 'retropinna_semoni', 'rhabdosargus_sarba', 'rhincodon_typus', 'rhizoprionodon_acutus', 'ruvettus_pretiosus', 'samaris_cristatus', 'samariscus_triocellatus', 'sarda_orientalis', 'sardinella_albella', 'sardinella_gibbosa', 'sardinops_sagax', 'scaevius_milii', 'scolopsis_affinis', 'scolopsis_bilineata', 'scolopsis_lineata', 'scolopsis_margaritifer', 'scolopsis_monogramma', 'scolopsis_trilineata', 'scolopsis_vosmeri', 'scolopsis_xenochrous', 'scomberoides_commersonnianus', 'scomberoides_lysan', 'scomberomorus_commerson', 'selar_crumenophthalmus', 'selaroides_leptolepis', 'seriola_dumerili', 'seriola_hippos', 'seriola_rivoliana', 'seriolina_nigrofasciata', 'serranocirrhitus_latus', 'sillago_ciliata', 'sillago_sihama', 'soleichthys_heterorhinos', 'sphyraena_barracuda', 'sphyraena_forsteri', 'sphyraena_jello', 'sphyraena_obtusata', 'stegostoma_fasciatum', 'stethojulis_bandanensis', 'stethojulis_interrupta', 'stethojulis_strigiventer', 'stethojulis_trilineata', 'stolephorus_waitei', 'suezichthys_arquatus', 'suezichthys_cyanolaemus', 'suezichthys_gracilis', 'symphorichthys_spilurus', 'symphorus_nematophorus', 'thalassoma_amblycephalum', 'thalassoma_hardwicke', 'thalassoma_jansenii', 'thalassoma_lunare', 'thalassoma_lutescens', 'thalassoma_nigrofasciatum', 'thalassoma_purpureum', 'thalassoma_quinquevittatum', 'thalassoma_trilobatum', 'thryssa_baelama', 'thryssa_hamiltonii', 'thunnus_alalunga', 'thunnus_albacares', 'thysanophrys_celebica', 'thysanophrys_chiltonae', 'trachichthys_australis', 'trachinotus_baillonii', 'trachinotus_blochii', 'trachinotus_botla', 'trachypoma_macracanthus', 'triaenodon_obesus', 'uraspis_secunda', 'valamugil_cunnesius', 'valamugil_engeli', 'valamugil_seheli', 'variola_albimarginata', 'variola_louti', 'wattsia_mossambica', 'wetmorella_albofasciata', 'wetmorella_nigropinnata', 'xiphocheilus_typus', 'zenarchopterus_dispar', 'zeus_faber']\n",
    "\n",
    "\n"
   ]
  },
  {
   "cell_type": "code",
   "execution_count": 267,
   "id": "7147efd5-7b5a-4a42-9db1-1b5d6d28c9bf",
   "metadata": {
    "tags": []
   },
   "outputs": [],
   "source": [
    "# IUCN red list API KEY\n",
    "token = \"key_string_goes_here\""
   ]
  },
  {
   "cell_type": "code",
   "execution_count": 301,
   "id": "d2743de0-859c-45c6-87e3-cafaf2636423",
   "metadata": {
    "tags": []
   },
   "outputs": [
    {
     "data": {
      "text/html": [
       "<div>\n",
       "<style scoped>\n",
       "    .dataframe tbody tr th:only-of-type {\n",
       "        vertical-align: middle;\n",
       "    }\n",
       "\n",
       "    .dataframe tbody tr th {\n",
       "        vertical-align: top;\n",
       "    }\n",
       "\n",
       "    .dataframe thead th {\n",
       "        text-align: right;\n",
       "    }\n",
       "</style>\n",
       "<table border=\"1\" class=\"dataframe\">\n",
       "  <thead>\n",
       "    <tr style=\"text-align: right;\">\n",
       "      <th></th>\n",
       "      <th>JSON_column</th>\n",
       "    </tr>\n",
       "  </thead>\n",
       "  <tbody>\n",
       "    <tr>\n",
       "      <th>0</th>\n",
       "      <td>Information not found</td>\n",
       "    </tr>\n",
       "    <tr>\n",
       "      <th>1</th>\n",
       "      <td>Information not found</td>\n",
       "    </tr>\n",
       "  </tbody>\n",
       "</table>\n",
       "</div>"
      ],
      "text/plain": [
       "             JSON_column\n",
       "0  Information not found\n",
       "1  Information not found"
      ]
     },
     "execution_count": 301,
     "metadata": {},
     "output_type": "execute_result"
    }
   ],
   "source": [
    "# import species information from IUCN red list website via API\n",
    "\n",
    "import requests\n",
    "\n",
    "def get_species_info(species_name, token):\n",
    "    search_term_formatted = species_name.replace('_', ' ')\n",
    "    species_url = f\"http://apiv3.iucnredlist.org/api/v3/species/{search_term_formatted}?token={token}\"\n",
    "    response = requests.get(species_url)\n",
    "    if response.status_code == 200:\n",
    "        data = response.json()\n",
    "        result = data.get(\"result\")\n",
    "        if result:\n",
    "            return result[0]\n",
    "        else:\n",
    "            return \"Information not found\"\n",
    "    else:\n",
    "        return \"Error retrieving information\"\n",
    "    \n",
    "\n",
    "species_list = class_names\n",
    "\n",
    "species_info = [get_species_info(species.replace(\" \", \"_\"), token) for species in species_list]\n",
    "\n",
    "df = pd.DataFrame(species_info, columns=['JSON_column'])\n"
   ]
  },
  {
   "cell_type": "code",
   "execution_count": 303,
   "id": "5bd98612-cfa9-4a36-b5ed-0222f513a453",
   "metadata": {
    "tags": []
   },
   "outputs": [
    {
     "data": {
      "text/html": [
       "<div>\n",
       "<style scoped>\n",
       "    .dataframe tbody tr th:only-of-type {\n",
       "        vertical-align: middle;\n",
       "    }\n",
       "\n",
       "    .dataframe tbody tr th {\n",
       "        vertical-align: top;\n",
       "    }\n",
       "\n",
       "    .dataframe thead th {\n",
       "        text-align: right;\n",
       "    }\n",
       "</style>\n",
       "<table border=\"1\" class=\"dataframe\">\n",
       "  <thead>\n",
       "    <tr style=\"text-align: right;\">\n",
       "      <th></th>\n",
       "      <th>JSON_column</th>\n",
       "    </tr>\n",
       "  </thead>\n",
       "  <tbody>\n",
       "    <tr>\n",
       "      <th>0</th>\n",
       "      <td>Information not found</td>\n",
       "    </tr>\n",
       "    <tr>\n",
       "      <th>1</th>\n",
       "      <td>Information not found</td>\n",
       "    </tr>\n",
       "    <tr>\n",
       "      <th>2</th>\n",
       "      <td>{'taxonid': 170338, 'scientific_name': 'Istiop...</td>\n",
       "    </tr>\n",
       "    <tr>\n",
       "      <th>3</th>\n",
       "      <td>Information not found</td>\n",
       "    </tr>\n",
       "    <tr>\n",
       "      <th>4</th>\n",
       "      <td>Information not found</td>\n",
       "    </tr>\n",
       "  </tbody>\n",
       "</table>\n",
       "</div>"
      ],
      "text/plain": [
       "                                         JSON_column\n",
       "0                              Information not found\n",
       "1                              Information not found\n",
       "2  {'taxonid': 170338, 'scientific_name': 'Istiop...\n",
       "3                              Information not found\n",
       "4                              Information not found"
      ]
     },
     "execution_count": 303,
     "metadata": {},
     "output_type": "execute_result"
    }
   ],
   "source": [
    "df.head(5)\n"
   ]
  },
  {
   "cell_type": "code",
   "execution_count": 306,
   "id": "a373065d-bb30-46a0-95e7-94a31ee86d93",
   "metadata": {
    "tags": []
   },
   "outputs": [],
   "source": [
    "df.to_csv('data/fish_data/red_list_species.csv')"
   ]
  },
  {
   "cell_type": "code",
   "execution_count": 302,
   "id": "5c5d76a6-ade5-4da5-a564-203b99a9de0f",
   "metadata": {
    "tags": []
   },
   "outputs": [
    {
     "data": {
      "text/html": [
       "<div>\n",
       "<style scoped>\n",
       "    .dataframe tbody tr th:only-of-type {\n",
       "        vertical-align: middle;\n",
       "    }\n",
       "\n",
       "    .dataframe tbody tr th {\n",
       "        vertical-align: top;\n",
       "    }\n",
       "\n",
       "    .dataframe thead th {\n",
       "        text-align: right;\n",
       "    }\n",
       "</style>\n",
       "<table border=\"1\" class=\"dataframe\">\n",
       "  <thead>\n",
       "    <tr style=\"text-align: right;\">\n",
       "      <th></th>\n",
       "      <th>JSON_column</th>\n",
       "    </tr>\n",
       "  </thead>\n",
       "  <tbody>\n",
       "    <tr>\n",
       "      <th>0</th>\n",
       "      <td>Information not found</td>\n",
       "    </tr>\n",
       "    <tr>\n",
       "      <th>1</th>\n",
       "      <td>Information not found</td>\n",
       "    </tr>\n",
       "  </tbody>\n",
       "</table>\n",
       "</div>"
      ],
      "text/plain": [
       "             JSON_column\n",
       "0  Information not found\n",
       "1  Information not found"
      ]
     },
     "execution_count": 302,
     "metadata": {},
     "output_type": "execute_result"
    }
   ],
   "source": [
    "# import text information form the IUCN red list\n",
    "import requests\n",
    "\n",
    "def get_species_info(species_name, token):\n",
    "    search_term_formatted = species_name.replace('_', ' ')\n",
    "    species_url = f\"http://apiv3.iucnredlist.org/api/v3/species/narrative/{search_term_formatted}?token={token}\"\n",
    "    response = requests.get(species_url)\n",
    "    if response.status_code == 200:\n",
    "        data = response.json()\n",
    "        result = data.get(\"result\")\n",
    "        if result:\n",
    "            return result[0]\n",
    "        else:\n",
    "            return \"Information not found\"\n",
    "    else:\n",
    "        return \"Error retrieving information\"\n",
    "    \n",
    "\n",
    "species_list = class_names\n",
    "\n",
    "species_info = [get_species_info(species.replace(\" \", \"_\"), token) for species in species_list]\n",
    "\n",
    "df_2 = pd.DataFrame(species_info, columns=['JSON_column'])"
   ]
  },
  {
   "cell_type": "code",
   "execution_count": 305,
   "id": "0e332fa8-c54b-45d0-81e4-767bcae928d1",
   "metadata": {
    "tags": []
   },
   "outputs": [
    {
     "data": {
      "text/html": [
       "<div>\n",
       "<style scoped>\n",
       "    .dataframe tbody tr th:only-of-type {\n",
       "        vertical-align: middle;\n",
       "    }\n",
       "\n",
       "    .dataframe tbody tr th {\n",
       "        vertical-align: top;\n",
       "    }\n",
       "\n",
       "    .dataframe thead th {\n",
       "        text-align: right;\n",
       "    }\n",
       "</style>\n",
       "<table border=\"1\" class=\"dataframe\">\n",
       "  <thead>\n",
       "    <tr style=\"text-align: right;\">\n",
       "      <th></th>\n",
       "      <th>JSON_column</th>\n",
       "    </tr>\n",
       "  </thead>\n",
       "  <tbody>\n",
       "    <tr>\n",
       "      <th>0</th>\n",
       "      <td>Information not found</td>\n",
       "    </tr>\n",
       "    <tr>\n",
       "      <th>1</th>\n",
       "      <td>Information not found</td>\n",
       "    </tr>\n",
       "    <tr>\n",
       "      <th>2</th>\n",
       "      <td>{'species_id': 170338, 'taxonomicnotes': 'Ther...</td>\n",
       "    </tr>\n",
       "    <tr>\n",
       "      <th>3</th>\n",
       "      <td>Information not found</td>\n",
       "    </tr>\n",
       "    <tr>\n",
       "      <th>4</th>\n",
       "      <td>Information not found</td>\n",
       "    </tr>\n",
       "  </tbody>\n",
       "</table>\n",
       "</div>"
      ],
      "text/plain": [
       "                                         JSON_column\n",
       "0                              Information not found\n",
       "1                              Information not found\n",
       "2  {'species_id': 170338, 'taxonomicnotes': 'Ther...\n",
       "3                              Information not found\n",
       "4                              Information not found"
      ]
     },
     "execution_count": 305,
     "metadata": {},
     "output_type": "execute_result"
    }
   ],
   "source": [
    "df_2.head(5)\n"
   ]
  },
  {
   "cell_type": "code",
   "execution_count": 307,
   "id": "6c4f009c-bea1-4368-8caf-33deec82df17",
   "metadata": {
    "tags": []
   },
   "outputs": [],
   "source": [
    "df_2.to_csv('data/fish_data/red_list_species_text.csv')"
   ]
  },
  {
   "cell_type": "markdown",
   "id": "b3ee3fb2-587d-4ea8-aceb-30214c3c4953",
   "metadata": {
    "tags": []
   },
   "source": [
    "### IUCN JSON exploding - species information"
   ]
  },
  {
   "cell_type": "code",
   "execution_count": null,
   "id": "25690886-13b5-44ef-8eee-f74f30172deb",
   "metadata": {},
   "outputs": [],
   "source": [
    "# Formatting the column display in jupyter labs\n",
    "pd.set_option('display.max_columns', None)\n",
    "pd.set_option(\"display.max_rows\", 200)\n",
    "pd.set_option('display.max_colwidth', None)"
   ]
  },
  {
   "cell_type": "code",
   "execution_count": 61,
   "id": "5eaea7a4-3d78-4929-8ee6-22a998681ae5",
   "metadata": {
    "tags": []
   },
   "outputs": [],
   "source": [
    "df_testi_1 = pd.read_csv('data/fish_data/red_list_species.csv')\n",
    "df_testi_2 = pd.read_csv('data/fish_data/red_list_species_text.csv')"
   ]
  },
  {
   "cell_type": "code",
   "execution_count": 62,
   "id": "e5bc467e-8a57-438e-8856-127b8f4be953",
   "metadata": {
    "tags": []
   },
   "outputs": [
    {
     "data": {
      "text/plain": [
       "'Information not found'"
      ]
     },
     "execution_count": 62,
     "metadata": {},
     "output_type": "execute_result"
    }
   ],
   "source": [
    "df_testi_1['JSON_column'][0]"
   ]
  },
  {
   "cell_type": "code",
   "execution_count": 63,
   "id": "9701fa37-a67f-475b-807e-fcfb319ee8a9",
   "metadata": {
    "tags": []
   },
   "outputs": [],
   "source": [
    "# replace errors with JSON dummies\n",
    "empty_json = \"{'taxonid': 0, 'scientific_name': 'NA', 'kingdom': 'NA', 'phylum': 'NA', 'class': 'NA', 'order': 'NA', 'family': 'NA', 'genus': 'NA', 'main_common_name': 'NA', 'authority': 'NA', 'published_year': 'NA', 'assessment_date': 'NA', 'category': 'NA', 'criteria': 'NA', 'population_trend': 'NA', 'marine_system': 'NA', 'freshwater_system': 'NA', 'terrestrial_system': 'NA', 'assessor': 'NA', 'reviewer': 'NA', 'aoo_km2': 'NA', 'eoo_km2': 'NA', 'elevation_upper': 'NA', 'elevation_lower': 'NA', 'depth_upper': 'NA', 'depth_lower': 'NA', 'errata_flag': 'NA', 'errata_reason': 'NA', 'amended_flag': 'NA', 'amended_reason': 'NA'}\"\n",
    "empty_json_2 =\"{'species_id': 0, 'taxonomicnotes': 'NA', 'rationale': 'NA', 'geographicrange':'NA', 'population':'NA', 'populationtrend':'NA', 'habitat\\': 'NA', 'threats': 'NA', 'conservationmeasures': 'NA', 'usetrade': 'NA'}\"\n",
    "\n",
    "\n",
    "error_1 = \"Information not found\"\n",
    "error_2 = \"Error retrieving information\"\n",
    "\n",
    "df_testi_1.JSON_column.replace([error_1, error_2], [empty_json, empty_json], inplace=True)\n",
    "df_testi_2.JSON_column.replace([error_1, error_2], [empty_json_2,empty_json_2], inplace=True)"
   ]
  },
  {
   "cell_type": "code",
   "execution_count": 64,
   "id": "ecb5d800-1ce4-4d90-bd89-572f84868969",
   "metadata": {
    "tags": []
   },
   "outputs": [
    {
     "data": {
      "text/plain": [
       "'{\\'taxonid\\': 187587, \\'scientific_name\\': \\'Bodianus diana\\', \\'kingdom\\': \\'ANIMALIA\\', \\'phylum\\': \\'CHORDATA\\', \\'class\\': \\'ACTINOPTERYGII\\', \\'order\\': \\'PERCIFORMES\\', \\'family\\': \\'LABRIDAE\\', \\'genus\\': \\'Bodianus\\', \\'main_common_name\\': \"Indian Diana\\'s Hogfish\", \\'authority\\': \\'(Lacepède, 1801)\\', \\'published_year\\': 2010, \\'assessment_date\\': \\'2008-03-12\\', \\'category\\': \\'LC\\', \\'criteria\\': None, \\'population_trend\\': \\'Unknown\\', \\'marine_system\\': True, \\'freshwater_system\\': False, \\'terrestrial_system\\': False, \\'assessor\\': \\'Russell, B.\\', \\'reviewer\\': \\'Sadovy, Y. & Carpenter, K.E.\\', \\'aoo_km2\\': None, \\'eoo_km2\\': None, \\'elevation_upper\\': None, \\'elevation_lower\\': None, \\'depth_upper\\': 9, \\'depth_lower\\': 30, \\'errata_flag\\': None, \\'errata_reason\\': None, \\'amended_flag\\': None, \\'amended_reason\\': None}'"
      ]
     },
     "execution_count": 64,
     "metadata": {},
     "output_type": "execute_result"
    }
   ],
   "source": [
    "df_testi_1['JSON_column'][49]"
   ]
  },
  {
   "cell_type": "code",
   "execution_count": 65,
   "id": "e28f7c53-33d9-4e8f-a4f3-9bc6cd478e09",
   "metadata": {
    "tags": []
   },
   "outputs": [],
   "source": [
    "# workaround for inconsistent JSON formatting\n",
    "\n",
    "\n",
    "df_testi_1['JSON_column'] = df_testi_1['JSON_column'].str.replace(r'\\'\\: \\\"',r\"\\'\\: \\'\", regex = True)\n",
    "df_testi_1['JSON_column'] = df_testi_1['JSON_column'].str.replace(r'\", \\'', r\"', \\'\", regex=True)\n",
    "\n",
    "df_testi_1['JSON_column'] = df_testi_1['JSON_column'].str.replace(r'\"','öadfnvöjadfn', regex = True)\n",
    "\n",
    "\n",
    "df_testi_1['JSON_column'] = df_testi_1['JSON_column'].str.replace(r'\\'',r'\\\"', regex = True)\n",
    "df_testi_1['JSON_column'] = df_testi_1['JSON_column'].str.replace(r\"\\\\'\",r'\"', regex = True)\n",
    " \n",
    "\n",
    "df_testi_1['JSON_column'] = df_testi_1['JSON_column'].str.replace('öadfnvöjadfn','\\'', regex = True)\n",
    "\n",
    "df_testi_1['JSON_column'] = df_testi_1['JSON_column'].str.replace( r\"\\\\\" ,'', regex = True)\n",
    "\n",
    "df_testi_1['JSON_column'] = df_testi_1['JSON_column'].str.replace('\\\\\\'',r\"'\", regex = True)\n",
    "\n",
    "\n",
    "df_testi_1['JSON_column'] = df_testi_1['JSON_column'].str.replace('None','\"None\"', regex = True)\n",
    "df_testi_1['JSON_column'] = df_testi_1['JSON_column'].str.replace('True',r'\"True\"', regex = True)\n",
    "df_testi_1['JSON_column'] = df_testi_1['JSON_column'].str.replace('False','\"False\"', regex = True)\n",
    "\n",
    "# replace specific context \"double\" colons with placeholders, then change outermost colons to single colons and replace placeholders again \n",
    "\n",
    "df_testi_1['JSON_column'] = df_testi_1['JSON_column'].str.replace('\\\"\\, \\\"','aksFDBVÖsdbvöksdjbnv', regex = True)\n",
    "df_testi_1['JSON_column'] = df_testi_1['JSON_column'].str.replace('\\\"\\: \\\"','öoaerhgvöaoejnvnö', regex = True)\n",
    "\n",
    "df_testi_1['JSON_column'] = df_testi_1['JSON_column'].str.replace('\\{\\\"','äonväladfnvdLFKnbv#aldfnbäaldf', regex = True)\n",
    "df_testi_1['JSON_column'] = df_testi_1['JSON_column'].str.replace('\\\"\\:','ydfökvamdnfäljbhdkfnvakjsd', regex = True)\n",
    "df_testi_1['JSON_column'] = df_testi_1['JSON_column'].str.replace('\\, \\\"','öakdjfbvökadfbvydfkjbnvadk', regex = True)\n",
    "df_testi_1['JSON_column'] = df_testi_1['JSON_column'].str.replace('\\\"\\}','äadlfjbnvadäofbnadälfbv', regex = True)\n",
    "\n",
    "df_testi_1['JSON_column'] = df_testi_1['JSON_column'].str.replace(r'\\\"', r\"'\", regex = True)\n",
    "\n",
    "\n",
    "\n",
    "df_testi_1['JSON_column'] = df_testi_1['JSON_column'].str.replace('aksFDBVÖsdbvöksdjbnv', r'\", \"', regex = True)\n",
    "df_testi_1['JSON_column'] = df_testi_1['JSON_column'].str.replace('öoaerhgvöaoejnvnö',r'\": \"', regex = True)\n",
    "\n",
    "df_testi_1['JSON_column'] = df_testi_1['JSON_column'].str.replace('äonväladfnvdLFKnbv#aldfnbäaldf',r'{\"', regex = True)\n",
    "df_testi_1['JSON_column'] = df_testi_1['JSON_column'].str.replace('ydfökvamdnfäljbhdkfnvakjsd', r'\":', regex = True)\n",
    "df_testi_1['JSON_column'] = df_testi_1['JSON_column'].str.replace('öakdjfbvökadfbvydfkjbnvadk', r', \"', regex = True)\n",
    "df_testi_1['JSON_column'] = df_testi_1['JSON_column'].str.replace('äadlfjbnvadäofbnadälfbv', r'\"}', regex = True)\n",
    "\n"
   ]
  },
  {
   "cell_type": "code",
   "execution_count": 66,
   "id": "cda797c3-6e21-4f29-8db4-1f7140cec28d",
   "metadata": {
    "tags": []
   },
   "outputs": [
    {
     "data": {
      "text/plain": [
       "'{\"taxonid\": 187587, \"scientific_name\": \"Bodianus diana\", \"kingdom\": \"ANIMALIA\", \"phylum\": \"CHORDATA\", \"class\": \"ACTINOPTERYGII\", \"order\": \"PERCIFORMES\", \"family\": \"LABRIDAE\", \"genus\": \"Bodianus\", \"main_common_name\": \"Indian Diana\\'s Hogfish\", \"authority\": \"(Lacepède, 1801)\", \"published_year\": 2010, \"assessment_date\": \"2008-03-12\", \"category\": \"LC\", \"criteria\": \"None\", \"population_trend\": \"Unknown\", \"marine_system\": \"True\", \"freshwater_system\": \"False\", \"terrestrial_system\": \"False\", \"assessor\": \"Russell, B.\", \"reviewer\": \"Sadovy, Y. & Carpenter, K.E.\", \"aoo_km2\": \"None\", \"eoo_km2\": \"None\", \"elevation_upper\": \"None\", \"elevation_lower\": \"None\", \"depth_upper\": 9, \"depth_lower\": 30, \"errata_flag\": \"None\", \"errata_reason\": \"None\", \"amended_flag\": \"None\", \"amended_reason\": \"None\"}'"
      ]
     },
     "execution_count": 66,
     "metadata": {},
     "output_type": "execute_result"
    }
   ],
   "source": [
    "df_testi_1['JSON_column'][49]"
   ]
  },
  {
   "cell_type": "code",
   "execution_count": 67,
   "id": "c05a6e3e-5eab-4002-b22c-94eca24955ee",
   "metadata": {
    "tags": []
   },
   "outputs": [],
   "source": [
    "# define function to explode json columns\n",
    "\n",
    "def explode_json(df, col_name):\n",
    "    ''' explodes json columns'''\n",
    "    exploded = pd.json_normalize(df[col_name].apply(json.loads))\n",
    "    return exploded\n"
   ]
  },
  {
   "cell_type": "code",
   "execution_count": 68,
   "id": "cb25f464-9960-4f1e-b6ec-e18becd5b92e",
   "metadata": {},
   "outputs": [
    {
     "data": {
      "text/plain": [
       "str"
      ]
     },
     "execution_count": 68,
     "metadata": {},
     "output_type": "execute_result"
    }
   ],
   "source": [
    "type(df_testi_1['JSON_column'][2])"
   ]
  },
  {
   "cell_type": "code",
   "execution_count": 37,
   "id": "c693673b-638c-4591-ab72-59eeba9fac54",
   "metadata": {
    "tags": []
   },
   "outputs": [
    {
     "data": {
      "text/plain": [
       "'{\"taxonid\": 198578, \"scientific_name\": \"Beryx decadactylus\", \"kingdom\": \"ANIMALIA\", \"phylum\": \"CHORDATA\", \"class\": \"ACTINOPTERYGII\", \"order\": \"BERYCIFORMES\", \"family\": \"BERYCIDAE\", \"genus\": \"Beryx\", \"main_common_name\": \"Alfonsino\", \"authority\": \"Cuvier, 1829\", \"published_year\": 2015, \"assessment_date\": \"2013-01-29\", \"category\": \"LC\", \"criteria\": \"None\", \"population_trend\": \"Unknown\", \"marine_system\": \"True\", \"freshwater_system\": \"False\", \"terrestrial_system\": \"False\", \"assessor\": \"Iwamoto, T., Russell, B., Polanco Fernandez, A., McEachran, J.D. & Moore, J.\", \"reviewer\": \"Weller, S., Strongin, K., Carpenter, K.E. & Polidoro, B.\", \"aoo_km2\": \"None\", \"eoo_km2\": \"None\", \"elevation_upper\": \"None\", \"elevation_lower\": \"None\", \"depth_upper\": 150, \"depth_lower\": 1000, \"errata_flag\": \"None\", \"errata_reason\": \"None\", \"amended_flag\": \"None\", \"amended_reason\": \"None\"}'"
      ]
     },
     "execution_count": 37,
     "metadata": {},
     "output_type": "execute_result"
    }
   ],
   "source": [
    "df_testi_1['JSON_column'][44]"
   ]
  },
  {
   "cell_type": "code",
   "execution_count": 38,
   "id": "c4f1ff25-8d17-4240-ac0d-9db7fa6e11d6",
   "metadata": {
    "tags": []
   },
   "outputs": [
    {
     "data": {
      "text/plain": [
       "'{\"taxonid\": 187744, \"scientific_name\": \"Bodianus loxozonus\", \"kingdom\": \"ANIMALIA\", \"phylum\": \"CHORDATA\", \"class\": \"ACTINOPTERYGII\", \"order\": \"PERCIFORMES\", \"family\": \"LABRIDAE\", \"genus\": \"Bodianus\", \"main_common_name\": \"Blackfin Hogfish\", \"authority\": \"(Snyder, 1908)\", \"published_year\": 2010, \"assessment_date\": \"2008-04-12\", \"category\": \"LC\", \"criteria\": \"None\", \"population_trend\": \"Unknown\", \"marine_system\": \"True\", \"freshwater_system\": \"False\", \"terrestrial_system\": \"False\", \"assessor\": \"Russell, B.\", \"reviewer\": \"Sadovy, Y. & Carpenter, K.E.\", \"aoo_km2\": \"None\", \"eoo_km2\": \"None\", \"elevation_upper\": \"None\", \"elevation_lower\": \"None\", \"depth_upper\": 3, \"depth_lower\": 50, \"errata_flag\": \"None\", \"errata_reason\": \"None\", \"amended_flag\": \"None\", \"amended_reason\": \"None\"}'"
      ]
     },
     "execution_count": 38,
     "metadata": {},
     "output_type": "execute_result"
    }
   ],
   "source": [
    "df_testi_1['JSON_column'][50]"
   ]
  },
  {
   "cell_type": "code",
   "execution_count": 39,
   "id": "059f4c91-42c9-4cde-85e3-b82367ea571e",
   "metadata": {
    "tags": []
   },
   "outputs": [
    {
     "data": {
      "text/plain": [
       "Unnamed: 0      int64\n",
       "JSON_column    object\n",
       "dtype: object"
      ]
     },
     "execution_count": 39,
     "metadata": {},
     "output_type": "execute_result"
    }
   ],
   "source": [
    "df_testi_1.dtypes"
   ]
  },
  {
   "cell_type": "code",
   "execution_count": 2,
   "id": "c4ccd183-fc6c-4363-9ce9-c8e71109630d",
   "metadata": {
    "tags": []
   },
   "outputs": [],
   "source": [
    "#df_testi_1['JSON_column'] = df_testi_1['JSON_column'].fillna(empty_json)\n",
    "\n",
    "df_species_exploded = explode_json(df_testi_1, 'JSON_column')\n"
   ]
  },
  {
   "cell_type": "code",
   "execution_count": 3,
   "id": "5fe23f1f-8c27-4b76-8cce-4b503503f8e8",
   "metadata": {
    "tags": []
   },
   "outputs": [],
   "source": [
    "df_species_exploded.to_csv('data/fish_data/red_list_species_exploded.csv')"
   ]
  },
  {
   "cell_type": "code",
   "execution_count": 4,
   "id": "22573fe8-5102-44b8-9076-64fc6250bce6",
   "metadata": {
    "tags": []
   },
   "outputs": [],
   "source": [
    "df_species_exploded"
   ]
  },
  {
   "cell_type": "code",
   "execution_count": 43,
   "id": "f394ece7-f1d4-4d10-a04a-af840bc8a5bf",
   "metadata": {
    "tags": []
   },
   "outputs": [],
   "source": []
  },
  {
   "cell_type": "markdown",
   "id": "2a85af07-ab76-440c-9cc6-7c1c1027c52a",
   "metadata": {},
   "source": [
    "### IUCN JSON exploding - description texts"
   ]
  },
  {
   "cell_type": "code",
   "execution_count": null,
   "id": "7d1f8200-4845-4025-88ab-6d7299dd6f32",
   "metadata": {},
   "outputs": [],
   "source": [
    "# Formatting the column display in jupyter labs\n",
    "pd.set_option('display.max_columns', None)\n",
    "pd.set_option(\"display.max_rows\", 200)\n",
    "pd.set_option('display.max_colwidth', None)"
   ]
  },
  {
   "cell_type": "code",
   "execution_count": 44,
   "id": "bc7c25d6-7224-4951-bfb3-a46583280a1c",
   "metadata": {
    "tags": []
   },
   "outputs": [],
   "source": [
    "df_testi_2 = pd.read_csv('data/fish_data/red_list_species_text.csv')"
   ]
  },
  {
   "cell_type": "code",
   "execution_count": 45,
   "id": "23dc4cb1-26d7-4583-bac1-f11baa9ee4c7",
   "metadata": {
    "tags": []
   },
   "outputs": [],
   "source": [
    "# define function to explode json columns\n",
    "\n",
    "def explode_json(df, col_name):\n",
    "    ''' explodes json columns'''\n",
    "    exploded = pd.json_normalize(df[col_name].apply(json.loads))\n",
    "    return exploded\n"
   ]
  },
  {
   "cell_type": "code",
   "execution_count": 46,
   "id": "2cc821e5-845e-4709-ba84-fab3bf6fd473",
   "metadata": {
    "tags": []
   },
   "outputs": [
    {
     "data": {
      "text/plain": [
       "'{\\'species_id\\': 20256729, \\'taxonomicnotes\\': None, \\'rationale\\': \\'This species<em>&#160;</em>ranges from South Africa to Japan and the Hawaiian Islands. This species&#160;occurs in coastal waters throughout its range. Although this species<em>&#160;</em>is not considered a highly commercial species, it is heavily exploited in some parts of its range and is also taken&#160;as bycatch of shrimp trawl fisheries. While this species may be overexploited in parts of its range, global declines are not suspected. Given its widespread distribution and relative abundance in many parts of its range, it is listed as Least Concern.\\', \\'geographicrange\\': \\'This species<em> </em>is broadly distributed throughout the Indo-West Pacific from South Africa to the Persian Gulf, including Europa, Madagascar, Reunion and the Seychelles, east to the Hawaiian Islands (Smith-Vaniz 1984) and French Polynesia, north to Japan (Gushiken 1984) and south to Australia (Western Australia to New South Wales) and New Caledonia (Paxton <em>et al. </em>1989, Graham and Wood 1997, R. Myers pers. comm. 2016). The depth range for this species is 1 to 80 m (Mundy 2005).\\', \\'population\\': \"This species is relatively common throughout most of its range (W. Smith-Vaniz pers. comm. 2015).<br/><br/>Egg abundance in&#160;Kane\\'ohe Bay, Hawai\\'i in the southern part of the bay averaged 92 eggs per m² with a&#160;range of 45 to 264. Egg abundances during 1989 and 1990 were on the order of 1-2 x 10<sup>8</sup>&#160;and about twice that of 1991. About 135 to 270 kg or 870 to 1740 averaged sized spawning females were present per day during the first two years and 270 to 540 kg or 1740 to 3480 females per day in 1991. The sex ratio was close to 1:1. The total &#160;reported annual catch in Kane\\'ohe Bay was over 500 kg two times since 1966 and was usually less than 250 kg, while the unreported commercial and recreational catch could well be comparable with the reported catch. A total catch of 500 kg would represent about 30 to 60% of the estimated biomass for 1989 or 1990&#160;(Clarke 1996).&#160;<br/><br/>Between 2001 and 2002, Paighambari and Daliri (2012) sampled shrimp trawl fisheries by-catch composition in the Bushehr province (Iranian waters). During the two fishing seasons,<em>&#160;</em>2.18 and 37.08 kg of this species&#160;were collected as by-catch, which comprised of 0.01 and 0.28% of the total catch, respectively. CPUE was determined to be 0.21 and 0.24 kg/h, respectively.&#160;Between 2009 and 2010, Hosseini&#160;<em>et al.</em>&#160;(2012) conducted a study on the bycatch of the cutlassfish trawl fishery in Bushehr and Hormozgan waters. In Bushehr waters, this species&#160;occurred in 2.5% of trawls and wasn\\'t recorded in Hormozgan trawls.&#160;Chen&#160;<em>et al.&#160;</em>(2013) recorded between 11 and 100 kg of this species<em>&#160;</em>were collected as bycatch from September 2010 through January 2011 in Kuwait\\'s shrimp trawl fishery, in which 0-1 kg were retained and the remain 10-100 kg&#160;were discarded.&#160;<br/><br/>This species comprised 1.03% of the catch composition of multiple hook and line in Lagonoy Gulf (July 1997 through June 2002) (Olaño&#160;<em>et al.</em>&#160;2009).&#160;<br/><p>This species is caught as bycatch  in shrimp trawl and trap fisheries throughout the Persian Gulf, however,  species-specific landings data are not available except in Abu Dhabi (J. Bishop,  S. Hartmann, and F. Kaymaram pers. comm. 2013). CPUE of the trap fishery off Abu  Dhabi has been declining over a period of 8 years (2005: 220; 2006 252; 2007  186; 2008 131; 2009 151; 2010 62; 2011 92; 2012 59) (S. Hartmann pers. comm. 2013).  Off Abu Dhabi, it is considered underexploited (Grandcourt <em>et al. </em>2012).<br/></p>\", \\'populationtrend\\': \\'unknown\\', \\'habitat\\': \"This species<em>&#160;</em>occurs in coastal waters in schools to depths of 80 m. Its<em>&#160;</em>diet consists of crustaceans and cephalopods, and it inhabits coastal bays and mangroves (Paxton <em>et al.</em>&#160;1989) and in estuaries and mud flats.&#160;The maximum recorded total length is 30 cm (Smith-Vaniz 1984) and the size at first maturity is about 17 cm (Kasim 2003). Spawning takes place during April to May and January to February and recruitment occurs in July and October (Kasim 2003). In Kane\\'ohe Bay, Hawai\\'i; spawning usually occurs in open areas of the bay (Clarke 1996). Carpenter&#160;<em>et al.&#160;</em>(1997) noted that this species<em>&#160;</em>is occasionally observed visiting reefs of Kuwait and has been seen forming very large aggregations off the northern edge of Qaro Island in the spring.<br/><br/>Fecundity estimated for 20 females sampled from&#160;Kane\\'ohe Bay, Hawaii; ranged from 63,000 to 161,000 while mean relative fecundity was 741 eggs per gram (Clarke 1996).\", \\'threats\\': \\'This species is considered to be overfished off the Kerala coast of India (Kasim 2003) and is heavily exploited in other parts of its range. However, it is taken predominately in recreational and subsistence fisheries in most parts of its range, and there have not been any observed or suspected declines in its population due to exploitation at this time.\\', \\'conservationmeasures\\': \\'There are no species-specific conservation measures for this species; however, its range overlaps with a number of marine protected areas (IUCN and UNEP 2014).\\', \\'usetrade\\': \"This species<em>&#160;</em>is harvested for human consumption and collected mainly by hook and line and other types of artisanal gear. It<em>&#160;</em>is marketed fresh, as well as dried and salted&#160;(Smith-Vaniz 1984) and is targeted by recreational fishers and by subsistence fisherman. This species is taken as by-catch in commercial bottom trawl fisheries in Qatar waters. This species does comprise a significant portion of the mixed catch of certain fisheries (Kuthalingam 1959, Oakley and Bakhsh 1989). Before about 1970 in Kane\\'ohe Bay, Hawai\\'i; this species was sought after by handline fisherman in small boats most days during the summer; however, effort, catch and catch per effort have all dropped since that time. This species is heavily exploited in Kane\\'ohe Bay during the spawning season (Clarke 1996) and is commercially targeted off India (Nair 2000, Kasim 2003).\"}'"
      ]
     },
     "execution_count": 46,
     "metadata": {},
     "output_type": "execute_result"
    }
   ],
   "source": [
    "df_testi_2['JSON_column'][40]"
   ]
  },
  {
   "cell_type": "code",
   "execution_count": 47,
   "id": "958561a5-982e-4fc8-b41c-0fc8261a41f5",
   "metadata": {
    "tags": []
   },
   "outputs": [],
   "source": [
    "# getting rid of some HTML code leftover in the description texts\n",
    "\n",
    "html_leftovers = ['<span style=\"font-style: italic;\">','</span>','<strong>', '</strong>','<u>', '</u>','<br/>','</em>','<em>','</p>','<p>','&#160;']\n",
    "\n",
    "def delete_HTML(df,html_leftover,replacement):\n",
    "        df['JSON_column'] = df['JSON_column'].str.replace(html_leftover,replacement, regex = True)\n",
    "        return df\n",
    "\n",
    "for html_leftover in html_leftovers:\n",
    "    replacement = \" \"\n",
    "    df_testi_2 = delete_HTML(df_testi_2, html_leftover, replacement)\n"
   ]
  },
  {
   "cell_type": "code",
   "execution_count": 48,
   "id": "49755127-576d-45f5-9d00-4f390cce6a6e",
   "metadata": {
    "tags": []
   },
   "outputs": [
    {
     "data": {
      "text/plain": [
       "'{\\'species_id\\': 20256729, \\'taxonomicnotes\\': None, \\'rationale\\': \\'This species<em>&#160;</em>ranges from South Africa to Japan and the Hawaiian Islands. This species&#160;occurs in coastal waters throughout its range. Although this species<em>&#160;</em>is not considered a highly commercial species, it is heavily exploited in some parts of its range and is also taken&#160;as bycatch of shrimp trawl fisheries. While this species may be overexploited in parts of its range, global declines are not suspected. Given its widespread distribution and relative abundance in many parts of its range, it is listed as Least Concern.\\', \\'geographicrange\\': \\'This species<em> </em>is broadly distributed throughout the Indo-West Pacific from South Africa to the Persian Gulf, including Europa, Madagascar, Reunion and the Seychelles, east to the Hawaiian Islands (Smith-Vaniz 1984) and French Polynesia, north to Japan (Gushiken 1984) and south to Australia (Western Australia to New South Wales) and New Caledonia (Paxton <em>et al. </em>1989, Graham and Wood 1997, R. Myers pers. comm. 2016). The depth range for this species is 1 to 80 m (Mundy 2005).\\', \\'population\\': \"This species is relatively common throughout most of its range (W. Smith-Vaniz pers. comm. 2015).<br/><br/>Egg abundance in&#160;Kane\\'ohe Bay, Hawai\\'i in the southern part of the bay averaged 92 eggs per m² with a&#160;range of 45 to 264. Egg abundances during 1989 and 1990 were on the order of 1-2 x 10<sup>8</sup>&#160;and about twice that of 1991. About 135 to 270 kg or 870 to 1740 averaged sized spawning females were present per day during the first two years and 270 to 540 kg or 1740 to 3480 females per day in 1991. The sex ratio was close to 1:1. The total &#160;reported annual catch in Kane\\'ohe Bay was over 500 kg two times since 1966 and was usually less than 250 kg, while the unreported commercial and recreational catch could well be comparable with the reported catch. A total catch of 500 kg would represent about 30 to 60% of the estimated biomass for 1989 or 1990&#160;(Clarke 1996).&#160;<br/><br/>Between 2001 and 2002, Paighambari and Daliri (2012) sampled shrimp trawl fisheries by-catch composition in the Bushehr province (Iranian waters). During the two fishing seasons,<em>&#160;</em>2.18 and 37.08 kg of this species&#160;were collected as by-catch, which comprised of 0.01 and 0.28% of the total catch, respectively. CPUE was determined to be 0.21 and 0.24 kg/h, respectively.&#160;Between 2009 and 2010, Hosseini&#160;<em>et al.</em>&#160;(2012) conducted a study on the bycatch of the cutlassfish trawl fishery in Bushehr and Hormozgan waters. In Bushehr waters, this species&#160;occurred in 2.5% of trawls and wasn\\'t recorded in Hormozgan trawls.&#160;Chen&#160;<em>et al.&#160;</em>(2013) recorded between 11 and 100 kg of this species<em>&#160;</em>were collected as bycatch from September 2010 through January 2011 in Kuwait\\'s shrimp trawl fishery, in which 0-1 kg were retained and the remain 10-100 kg&#160;were discarded.&#160;<br/><br/>This species comprised 1.03% of the catch composition of multiple hook and line in Lagonoy Gulf (July 1997 through June 2002) (Olaño&#160;<em>et al.</em>&#160;2009).&#160;<br/><p>This species is caught as bycatch  in shrimp trawl and trap fisheries throughout the Persian Gulf, however,  species-specific landings data are not available except in Abu Dhabi (J. Bishop,  S. Hartmann, and F. Kaymaram pers. comm. 2013). CPUE of the trap fishery off Abu  Dhabi has been declining over a period of 8 years (2005: 220; 2006 252; 2007  186; 2008 131; 2009 151; 2010 62; 2011 92; 2012 59) (S. Hartmann pers. comm. 2013).  Off Abu Dhabi, it is considered underexploited (Grandcourt <em>et al. </em>2012).<br/></p>\", \\'populationtrend\\': \\'unknown\\', \\'habitat\\': \"This species<em>&#160;</em>occurs in coastal waters in schools to depths of 80 m. Its<em>&#160;</em>diet consists of crustaceans and cephalopods, and it inhabits coastal bays and mangroves (Paxton <em>et al.</em>&#160;1989) and in estuaries and mud flats.&#160;The maximum recorded total length is 30 cm (Smith-Vaniz 1984) and the size at first maturity is about 17 cm (Kasim 2003). Spawning takes place during April to May and January to February and recruitment occurs in July and October (Kasim 2003). In Kane\\'ohe Bay, Hawai\\'i; spawning usually occurs in open areas of the bay (Clarke 1996). Carpenter&#160;<em>et al.&#160;</em>(1997) noted that this species<em>&#160;</em>is occasionally observed visiting reefs of Kuwait and has been seen forming very large aggregations off the northern edge of Qaro Island in the spring.<br/><br/>Fecundity estimated for 20 females sampled from&#160;Kane\\'ohe Bay, Hawaii; ranged from 63,000 to 161,000 while mean relative fecundity was 741 eggs per gram (Clarke 1996).\", \\'threats\\': \\'This species is considered to be overfished off the Kerala coast of India (Kasim 2003) and is heavily exploited in other parts of its range. However, it is taken predominately in recreational and subsistence fisheries in most parts of its range, and there have not been any observed or suspected declines in its population due to exploitation at this time.\\', \\'conservationmeasures\\': \\'There are no species-specific conservation measures for this species; however, its range overlaps with a number of marine protected areas (IUCN and UNEP 2014).\\', \\'usetrade\\': \"This species<em>&#160;</em>is harvested for human consumption and collected mainly by hook and line and other types of artisanal gear. It<em>&#160;</em>is marketed fresh, as well as dried and salted&#160;(Smith-Vaniz 1984) and is targeted by recreational fishers and by subsistence fisherman. This species is taken as by-catch in commercial bottom trawl fisheries in Qatar waters. This species does comprise a significant portion of the mixed catch of certain fisheries (Kuthalingam 1959, Oakley and Bakhsh 1989). Before about 1970 in Kane\\'ohe Bay, Hawai\\'i; this species was sought after by handline fisherman in small boats most days during the summer; however, effort, catch and catch per effort have all dropped since that time. This species is heavily exploited in Kane\\'ohe Bay during the spawning season (Clarke 1996) and is commercially targeted off India (Nair 2000, Kasim 2003).\"}'"
      ]
     },
     "execution_count": 48,
     "metadata": {},
     "output_type": "execute_result"
    }
   ],
   "source": [
    "df_testi_2['JSON_column'][40]"
   ]
  },
  {
   "cell_type": "code",
   "execution_count": 49,
   "id": "c6778cad-3d0d-4e8c-bff2-54c19a8c8d48",
   "metadata": {
    "tags": []
   },
   "outputs": [],
   "source": [
    "# replace errors with JSON dummies\n",
    "empty_json_2 = \"{'species_id': 0, 'taxonomicnotes': 'NA', 'rationale': 'NA', 'geographicrange': 'NA', 'population': 'NA', 'populationtrend': 'NA', 'habitat': 'NA', 'threats': 'NA', 'conservationmeasures': 'NA', 'usetrade': 'NA'}\"\n",
    "\n",
    "error_1 = \"Information not found\"\n",
    "error_2 = \"Error retrieving information\"\n",
    "\n",
    "df_testi_2.JSON_column.replace([error_1, error_2], [empty_json_2,empty_json_2], inplace=True)"
   ]
  },
  {
   "cell_type": "code",
   "execution_count": 50,
   "id": "39a8f710-ddb4-4ce7-ad7e-9a099d82e909",
   "metadata": {
    "tags": []
   },
   "outputs": [
    {
     "data": {
      "text/plain": [
       "'{\\'species_id\\': 20256729, \\'taxonomicnotes\\': None, \\'rationale\\': \\'This species<em>&#160;</em>ranges from South Africa to Japan and the Hawaiian Islands. This species&#160;occurs in coastal waters throughout its range. Although this species<em>&#160;</em>is not considered a highly commercial species, it is heavily exploited in some parts of its range and is also taken&#160;as bycatch of shrimp trawl fisheries. While this species may be overexploited in parts of its range, global declines are not suspected. Given its widespread distribution and relative abundance in many parts of its range, it is listed as Least Concern.\\', \\'geographicrange\\': \\'This species<em> </em>is broadly distributed throughout the Indo-West Pacific from South Africa to the Persian Gulf, including Europa, Madagascar, Reunion and the Seychelles, east to the Hawaiian Islands (Smith-Vaniz 1984) and French Polynesia, north to Japan (Gushiken 1984) and south to Australia (Western Australia to New South Wales) and New Caledonia (Paxton <em>et al. </em>1989, Graham and Wood 1997, R. Myers pers. comm. 2016). The depth range for this species is 1 to 80 m (Mundy 2005).\\', \\'population\\': \"This species is relatively common throughout most of its range (W. Smith-Vaniz pers. comm. 2015).<br/><br/>Egg abundance in&#160;Kane\\'ohe Bay, Hawai\\'i in the southern part of the bay averaged 92 eggs per m² with a&#160;range of 45 to 264. Egg abundances during 1989 and 1990 were on the order of 1-2 x 10<sup>8</sup>&#160;and about twice that of 1991. About 135 to 270 kg or 870 to 1740 averaged sized spawning females were present per day during the first two years and 270 to 540 kg or 1740 to 3480 females per day in 1991. The sex ratio was close to 1:1. The total &#160;reported annual catch in Kane\\'ohe Bay was over 500 kg two times since 1966 and was usually less than 250 kg, while the unreported commercial and recreational catch could well be comparable with the reported catch. A total catch of 500 kg would represent about 30 to 60% of the estimated biomass for 1989 or 1990&#160;(Clarke 1996).&#160;<br/><br/>Between 2001 and 2002, Paighambari and Daliri (2012) sampled shrimp trawl fisheries by-catch composition in the Bushehr province (Iranian waters). During the two fishing seasons,<em>&#160;</em>2.18 and 37.08 kg of this species&#160;were collected as by-catch, which comprised of 0.01 and 0.28% of the total catch, respectively. CPUE was determined to be 0.21 and 0.24 kg/h, respectively.&#160;Between 2009 and 2010, Hosseini&#160;<em>et al.</em>&#160;(2012) conducted a study on the bycatch of the cutlassfish trawl fishery in Bushehr and Hormozgan waters. In Bushehr waters, this species&#160;occurred in 2.5% of trawls and wasn\\'t recorded in Hormozgan trawls.&#160;Chen&#160;<em>et al.&#160;</em>(2013) recorded between 11 and 100 kg of this species<em>&#160;</em>were collected as bycatch from September 2010 through January 2011 in Kuwait\\'s shrimp trawl fishery, in which 0-1 kg were retained and the remain 10-100 kg&#160;were discarded.&#160;<br/><br/>This species comprised 1.03% of the catch composition of multiple hook and line in Lagonoy Gulf (July 1997 through June 2002) (Olaño&#160;<em>et al.</em>&#160;2009).&#160;<br/><p>This species is caught as bycatch  in shrimp trawl and trap fisheries throughout the Persian Gulf, however,  species-specific landings data are not available except in Abu Dhabi (J. Bishop,  S. Hartmann, and F. Kaymaram pers. comm. 2013). CPUE of the trap fishery off Abu  Dhabi has been declining over a period of 8 years (2005: 220; 2006 252; 2007  186; 2008 131; 2009 151; 2010 62; 2011 92; 2012 59) (S. Hartmann pers. comm. 2013).  Off Abu Dhabi, it is considered underexploited (Grandcourt <em>et al. </em>2012).<br/></p>\", \\'populationtrend\\': \\'unknown\\', \\'habitat\\': \"This species<em>&#160;</em>occurs in coastal waters in schools to depths of 80 m. Its<em>&#160;</em>diet consists of crustaceans and cephalopods, and it inhabits coastal bays and mangroves (Paxton <em>et al.</em>&#160;1989) and in estuaries and mud flats.&#160;The maximum recorded total length is 30 cm (Smith-Vaniz 1984) and the size at first maturity is about 17 cm (Kasim 2003). Spawning takes place during April to May and January to February and recruitment occurs in July and October (Kasim 2003). In Kane\\'ohe Bay, Hawai\\'i; spawning usually occurs in open areas of the bay (Clarke 1996). Carpenter&#160;<em>et al.&#160;</em>(1997) noted that this species<em>&#160;</em>is occasionally observed visiting reefs of Kuwait and has been seen forming very large aggregations off the northern edge of Qaro Island in the spring.<br/><br/>Fecundity estimated for 20 females sampled from&#160;Kane\\'ohe Bay, Hawaii; ranged from 63,000 to 161,000 while mean relative fecundity was 741 eggs per gram (Clarke 1996).\", \\'threats\\': \\'This species is considered to be overfished off the Kerala coast of India (Kasim 2003) and is heavily exploited in other parts of its range. However, it is taken predominately in recreational and subsistence fisheries in most parts of its range, and there have not been any observed or suspected declines in its population due to exploitation at this time.\\', \\'conservationmeasures\\': \\'There are no species-specific conservation measures for this species; however, its range overlaps with a number of marine protected areas (IUCN and UNEP 2014).\\', \\'usetrade\\': \"This species<em>&#160;</em>is harvested for human consumption and collected mainly by hook and line and other types of artisanal gear. It<em>&#160;</em>is marketed fresh, as well as dried and salted&#160;(Smith-Vaniz 1984) and is targeted by recreational fishers and by subsistence fisherman. This species is taken as by-catch in commercial bottom trawl fisheries in Qatar waters. This species does comprise a significant portion of the mixed catch of certain fisheries (Kuthalingam 1959, Oakley and Bakhsh 1989). Before about 1970 in Kane\\'ohe Bay, Hawai\\'i; this species was sought after by handline fisherman in small boats most days during the summer; however, effort, catch and catch per effort have all dropped since that time. This species is heavily exploited in Kane\\'ohe Bay during the spawning season (Clarke 1996) and is commercially targeted off India (Nair 2000, Kasim 2003).\"}'"
      ]
     },
     "execution_count": 50,
     "metadata": {},
     "output_type": "execute_result"
    }
   ],
   "source": [
    "df_testi_2['JSON_column'][40]"
   ]
  },
  {
   "cell_type": "code",
   "execution_count": 51,
   "id": "23e12253-32a6-407d-b549-46f968724209",
   "metadata": {
    "tags": []
   },
   "outputs": [],
   "source": [
    "# format incosistent JSON column\n",
    "\n",
    "# change special cases:   ': \" to ': ' and  \", ' to ', ' and .\"} to .'}\n",
    "df_testi_2['JSON_column'] = df_testi_2['JSON_column'].str.replace(r'\\'\\: \\\"',r\"\\'\\: \\'\", regex = True)\n",
    "df_testi_2['JSON_column'] = df_testi_2['JSON_column'].str.replace(r'\", \\'', r\"', \\'\", regex=True)\n",
    "df_testi_2['JSON_column'] = df_testi_2['JSON_column'].str.replace(r'.\"}', r\".'}\", regex=True)\n",
    "\n",
    "\n",
    "\n",
    "\n",
    "# replace outermost qoutes \" with placeholder\n",
    "df_testi_2['JSON_column'] = df_testi_2['JSON_column'].str.replace(r'\"','öadfnvöjadfn', regex = True)\n",
    "\n",
    "# change all  ' to \" and all \\' to \"\n",
    "df_testi_2['JSON_column'] = df_testi_2['JSON_column'].str.replace(r'\\'',r'\\\"', regex = True)\n",
    "df_testi_2['JSON_column'] = df_testi_2['JSON_column'].str.replace(r\"\\\\'\",r'\"', regex = True)\n",
    "\n",
    "#change placeholder outermost quotes to '\n",
    "df_testi_2['JSON_column'] = df_testi_2['JSON_column'].str.replace('öadfnvöjadfn',r'\\'', regex = True)\n",
    "\n",
    "\n",
    "\n",
    "df_testi_2['JSON_column'] = df_testi_2['JSON_column'].str.replace( r\"\\\\\" ,'', regex = True)\n",
    "\n",
    "df_testi_2['JSON_column'] = df_testi_2['JSON_column'].str.replace(r'\\\\\\'',r\"'\", regex = True)\n",
    "\n",
    "df_testi_2['JSON_column'] = df_testi_2['JSON_column'].str.replace('None','\"None\"', regex = True)\n",
    "df_testi_2['JSON_column'] = df_testi_2['JSON_column'].str.replace('True',r'\"True\"', regex = True)\n",
    "df_testi_2['JSON_column'] = df_testi_2['JSON_column'].str.replace('False','\"False\"', regex = True)\n",
    "\n",
    "\n",
    "# slightly different replacement colons from JSON formatting\n",
    "\n",
    "# replace all valid cases of \" with placeholders -> replace rest of \" with ' -> change placeholders back to \"\n",
    "\n",
    "\n",
    "df_testi_2['JSON_column'] = df_testi_2['JSON_column'].str.replace('\\\"\\, \\\"','aksFDBVÖsdbvöksdjbnv', regex = True)\n",
    "df_testi_2['JSON_column'] = df_testi_2['JSON_column'].str.replace('\\\"\\: \\\"','öoaerhgvöaoejnvnö', regex = True)\n",
    "\n",
    "df_testi_2['JSON_column'] = df_testi_2['JSON_column'].str.replace('\\{\\\"','äonväladfnvdLFKnbv#aldfnbäaldf', regex = True)\n",
    "df_testi_2['JSON_column'] = df_testi_2['JSON_column'].str.replace('\\\"\\:','ydfökvamdnfäljbhdkfnvakjsd', regex = True)\n",
    "df_testi_2['JSON_column'] = df_testi_2['JSON_column'].str.replace('\\, \\\"','öakdjfbvökadfbvydfkjbnvadk', regex = True)\n",
    "df_testi_2['JSON_column'] = df_testi_2['JSON_column'].str.replace('\\\"\\}','äadlfjbnvadäofbnadälfbv', regex = True)\n",
    "\n",
    "\n",
    "df_testi_2['JSON_column'] = df_testi_2['JSON_column'].str.replace(r'\\\"', r\"'\", regex = True)\n",
    "\n",
    "df_testi_2['JSON_column'] = df_testi_2['JSON_column'].str.replace('aksFDBVÖsdbvöksdjbnv', r'\", \"', regex = True)\n",
    "df_testi_2['JSON_column'] = df_testi_2['JSON_column'].str.replace('öoaerhgvöaoejnvnö',r'\": \"', regex = True)\n",
    "\n",
    "df_testi_2['JSON_column'] = df_testi_2['JSON_column'].str.replace('äonväladfnvdLFKnbv#aldfnbäaldf',r'{\"', regex = True)\n",
    "df_testi_2['JSON_column'] = df_testi_2['JSON_column'].str.replace('ydfökvamdnfäljbhdkfnvakjsd', r'\":', regex = True)\n",
    "df_testi_2['JSON_column'] = df_testi_2['JSON_column'].str.replace('öakdjfbvökadfbvydfkjbnvadk', r', \"', regex = True)\n",
    "df_testi_2['JSON_column'] = df_testi_2['JSON_column'].str.replace('äadlfjbnvadäofbnadälfbv', r'\"}', regex = True)\n",
    "\n",
    "#df_testi_2['JSON_column'] = df_testi_2['JSON_column'].str.replace('övioadnfrvjlkandföov',r'.\"', regex = True)\n",
    "\n"
   ]
  },
  {
   "cell_type": "code",
   "execution_count": 52,
   "id": "ed5b9a28-b32d-47b7-8a7a-d7fc4b961081",
   "metadata": {
    "tags": []
   },
   "outputs": [
    {
     "data": {
      "text/plain": [
       "'{\"species_id\": 20256729, \"taxonomicnotes\": \"None\", \"rationale\": \"This species<em>&#160;</em>ranges from South Africa to Japan and the Hawaiian Islands. This species&#160;occurs in coastal waters throughout its range. Although this species<em>&#160;</em>is not considered a highly commercial species, it is heavily exploited in some parts of its range and is also taken&#160;as bycatch of shrimp trawl fisheries. While this species may be overexploited in parts of its range, global declines are not suspected. Given its widespread distribution and relative abundance in many parts of its range, it is listed as Least Concern.\", \"geographicrange\": \"This species<em> </em>is broadly distributed throughout the Indo-West Pacific from South Africa to the Persian Gulf, including Europa, Madagascar, Reunion and the Seychelles, east to the Hawaiian Islands (Smith-Vaniz 1984) and French Polynesia, north to Japan (Gushiken 1984) and south to Australia (Western Australia to New South Wales) and New Caledonia (Paxton <em>et al. </em>1989, Graham and Wood 1997, R. Myers pers. comm. 2016). The depth range for this species is 1 to 80 m (Mundy 2005).\", \"population\": \"This species is relatively common throughout most of its range (W. Smith-Vaniz pers. comm. 2015).<br/><br/>Egg abundance in&#160;Kane\"ohe Bay, Hawai\"i in the southern part of the bay averaged 92 eggs per m² with a&#160;range of 45 to 264. Egg abundances during 1989 and 1990 were on the order of 1-2 x 10<sup>8</sup>&#160;and about twice that of 1991. About 135 to 270 kg or 870 to 1740 averaged sized spawning females were present per day during the first two years and 270 to 540 kg or 1740 to 3480 females per day in 1991. The sex ratio was close to 1:1. The total &#160;reported annual catch in Kane\"ohe Bay was over 500 kg two times since 1966 and was usually less than 250 kg, while the unreported commercial and recreational catch could well be comparable with the reported catch. A total catch of 500 kg would represent about 30 to 60% of the estimated biomass for 1989 or 1990&#160;(Clarke 1996).&#160;<br/><br/>Between 2001 and 2002, Paighambari and Daliri (2012) sampled shrimp trawl fisheries by-catch composition in the Bushehr province (Iranian waters). During the two fishing seasons,<em>&#160;</em>2.18 and 37.08 kg of this species&#160;were collected as by-catch, which comprised of 0.01 and 0.28% of the total catch, respectively. CPUE was determined to be 0.21 and 0.24 kg/h, respectively.&#160;Between 2009 and 2010, Hosseini&#160;<em>et al.</em>&#160;(2012) conducted a study on the bycatch of the cutlassfish trawl fishery in Bushehr and Hormozgan waters. In Bushehr waters, this species&#160;occurred in 2.5% of trawls and wasn\"t recorded in Hormozgan trawls.&#160;Chen&#160;<em>et al.&#160;</em>(2013) recorded between 11 and 100 kg of this species<em>&#160;</em>were collected as bycatch from September 2010 through January 2011 in Kuwait\"s shrimp trawl fishery, in which 0-1 kg were retained and the remain 10-100 kg&#160;were discarded.&#160;<br/><br/>This species comprised 1.03% of the catch composition of multiple hook and line in Lagonoy Gulf (July 1997 through June 2002) (Olaño&#160;<em>et al.</em>&#160;2009).&#160;<br/><p>This species is caught as bycatch  in shrimp trawl and trap fisheries throughout the Persian Gulf, however,  species-specific landings data are not available except in Abu Dhabi (J. Bishop,  S. Hartmann, and F. Kaymaram pers. comm. 2013). CPUE of the trap fishery off Abu  Dhabi has been declining over a period of 8 years (2005: 220; 2006 252; 2007  186; 2008 131; 2009 151; 2010 62; 2011 92; 2012 59) (S. Hartmann pers. comm. 2013).  Off Abu Dhabi, it is considered underexploited (Grandcourt <em>et al. </em>2012).<br/></p>\", \"populationtrend\": \"unknown\", \"habitat\": \"This species<em>&#160;</em>occurs in coastal waters in schools to depths of 80 m. Its<em>&#160;</em>diet consists of crustaceans and cephalopods, and it inhabits coastal bays and mangroves (Paxton <em>et al.</em>&#160;1989) and in estuaries and mud flats.&#160;The maximum recorded total length is 30 cm (Smith-Vaniz 1984) and the size at first maturity is about 17 cm (Kasim 2003). Spawning takes place during April to May and January to February and recruitment occurs in July and October (Kasim 2003). In Kane\"ohe Bay, Hawai\"i; spawning usually occurs in open areas of the bay (Clarke 1996). Carpenter&#160;<em>et al.&#160;</em>(1997) noted that this species<em>&#160;</em>is occasionally observed visiting reefs of Kuwait and has been seen forming very large aggregations off the northern edge of Qaro Island in the spring.<br/><br/>Fecundity estimated for 20 females sampled from&#160;Kane\"ohe Bay, Hawaii; ranged from 63,000 to 161,000 while mean relative fecundity was 741 eggs per gram (Clarke 1996).\", \"threats\": \"This species is considered to be overfished off the Kerala coast of India (Kasim 2003) and is heavily exploited in other parts of its range. However, it is taken predominately in recreational and subsistence fisheries in most parts of its range, and there have not been any observed or suspected declines in its population due to exploitation at this time.\", \"conservationmeasures\": \"There are no species-specific conservation measures for this species; however, its range overlaps with a number of marine protected areas (IUCN and UNEP 2014).\", \"usetrade\": \"This species<em>&#160;</em>is harvested for human consumption and collected mainly by hook and line and other types of artisanal gear. It<em>&#160;</em>is marketed fresh, as well as dried and salted&#160;(Smith-Vaniz 1984) and is targeted by recreational fishers and by subsistence fisherman. This species is taken as by-catch in commercial bottom trawl fisheries in Qatar waters. This species does comprise a significant portion of the mixed catch of certain fisheries (Kuthalingam 1959, Oakley and Bakhsh 1989). Before about 1970 in Kane\"ohe Bay, Hawai\"i; this species was sought after by handline fisherman in small boats most days during the summer; however, effort, catch and catch per effort have all dropped since that time. This species is heavily exploited in Kane\"ohe Bay during the spawning season (Clarke 1996) and is commercially targeted off India (Nair 2000, Kasim 2003).\"}'"
      ]
     },
     "execution_count": 52,
     "metadata": {},
     "output_type": "execute_result"
    }
   ],
   "source": [
    "df_testi_2['JSON_column'][40]"
   ]
  },
  {
   "cell_type": "code",
   "execution_count": 5,
   "id": "7d09d4f1-7b42-4f06-8ab5-6b80719e37de",
   "metadata": {
    "tags": []
   },
   "outputs": [],
   "source": [
    "# helper code to check ranges of the JSON for formatting errors\n",
    "\n",
    "SDFSGF['JSON_column'] = df_testi_2['JSON_column'][40:41]\n",
    "\n",
    "df_text_exploded = explode_json(SDFSGF, 'JSON_column')\n",
    "df_text_exploded.head(3)\n"
   ]
  },
  {
   "cell_type": "code",
   "execution_count": 6,
   "id": "b715d46b-9f45-498f-ae7b-66ccb02941f3",
   "metadata": {
    "tags": []
   },
   "outputs": [],
   "source": [
    "df_text_exploded = explode_json(df_testi_2, 'JSON_column')\n"
   ]
  },
  {
   "cell_type": "code",
   "execution_count": 7,
   "id": "d94d81b9-e882-4f73-9870-ddc2ec8323ca",
   "metadata": {
    "tags": []
   },
   "outputs": [],
   "source": [
    "df_text_exploded.to_csv('data/fish_data/red_list_text_exploded.csv')"
   ]
  },
  {
   "cell_type": "markdown",
   "id": "88da8ce1-4319-43b7-a9fa-7a38fc3ef785",
   "metadata": {},
   "source": [
    "### Add class names to the IUCN DataFrames"
   ]
  },
  {
   "cell_type": "code",
   "execution_count": 1169,
   "id": "4a20b7ce-f40f-49a5-b0fb-f8a07e63ef60",
   "metadata": {
    "tags": []
   },
   "outputs": [],
   "source": [
    "class_names = ['A73EGS-P', 'CUNWCB-Y', 'Istiophorus_platypterus', 'P1ROZC-Z', 'PQV7DP-S', 'acanthaluteres_brownii', 'acanthaluteres_spilomelanurus', 'acanthaluteres_vittiger', 'acanthistius_cinctus', 'acanthopagrus_australis', 'acanthopagrus_berda', 'acanthopagrus_latus', 'achoerodus_gouldii', 'achoerodus_viridis', 'acreichthys_tomentosus', 'aesopia_cornuta', 'aethaloperca_rogaa', 'alectis_ciliaris', 'alectis_indica', 'alepes_kleinii', 'aluterus_monoceros', 'aluterus_scriptus', 'amanses_scopas', 'anampses_caeruleopunctatus', 'anampses_elegans', 'anampses_femininus', 'anampses_geographicus', 'anampses_lennardi', 'anampses_melanurus', 'anampses_meleagrides', 'anampses_neoguinaicus', 'anampses_twistii', 'anodontostoma_chacunda', 'anyperodon_leucogrammicus', 'aphareus_furca', 'aphareus_rutilans', 'aprion_virescens', 'argyrops_spinifer', 'aseraggodes_melanostictus', 'atractoscion_aequidens', 'atule_mate', 'auxis_rochei', 'auxis_thazard', 'bathylagichthys_greyae', 'beryx_decadactylus', 'bodianus_anthioides', 'bodianus_axillaris', 'bodianus_bilunulatus', 'bodianus_bimaculatus', 'bodianus_diana', 'bodianus_loxozonus', 'bodianus_mesothorax', 'bodianus_perditio', 'bodianus_unimaculatus', 'bodianus_vulpinus', 'bothus_mancus', 'bothus_myriaster', 'bothus_pantherinus', 'brachaluteres_jacksonianus', 'brachirus_orientalis', 'caesioperca_lepidopterus', 'cantherhines_dumerilii', 'cantherhines_fronticinctus', 'cantherhines_pardalis', 'cantheschenia_grandisquamis', 'caprodon_longimanus', 'caprodon_schlegelii', 'carangoides_caeruleopinnatus', 'carangoides_chrysophrys', 'carangoides_equula', 'carangoides_ferdau', 'carangoides_fulvoguttatus', 'carangoides_hedlandensis', 'carangoides_malabaricus', 'carangoides_orthogrammus', 'carangoides_plagiotaenia', 'caranx_ignobilis', 'caranx_lugubris', 'caranx_melampygus', 'caranx_sexfasciatus', 'carcharhinus_albimarginatus', 'carcharhinus_amblyrhynchos', 'carcharhinus_falciformis', 'carcharhinus_galapagensis', 'carcharhinus_limbatus', 'carcharhinus_melanopterus', 'carcharhinus_obscurus', 'carcharhinus_plumbeus', 'carcharhinus_sorrah', 'centroberyx_affinis', 'centrogenys_vaigiensis', 'centroscymnus_coelolepis', 'cephalopholis_argus', 'cephalopholis_boenak', 'cephalopholis_cyanostigma', 'cephalopholis_formosa', 'cephalopholis_igarashiensis', 'cephalopholis_leopardus', 'cephalopholis_microprion', 'cephalopholis_miniata', 'cephalopholis_sexmaculata', 'cephalopholis_sonnerati', 'cephalopholis_spiloparaea', 'chascanopsetta_lugubris', 'cheilinus_chlorourus', 'cheilinus_fasciatus', 'cheilinus_oxycephalus', 'cheilinus_trilobatus', 'cheilinus_undulatus', 'cheilio_inermis', 'cheilodactylus_ephippium', 'cheilodactylus_fuscus', 'cheilodactylus_spectabilis', 'cheilodactylus_vestitus', 'chelidonichthys_kumu', 'chirocentrus_dorab', 'chirocentrus_nudus', 'choerodon_anchorago', 'choerodon_cauteroma', 'choerodon_cyanodus', 'choerodon_fasciatus', 'choerodon_graphicus', 'choerodon_jordani', 'choerodon_rubescens', 'choerodon_schoenleinii', 'choerodon_venustus', 'choerodon_vitta', 'choerodon_zamboangae', 'chromileptes_altivelis', 'cirrhilabrus_bathyphilus', 'cirrhilabrus_condei', 'cirrhilabrus_cyanopleura', 'cirrhilabrus_exquisitus', 'cirrhilabrus_laboutei', 'cirrhilabrus_punctatus', 'cirrhilabrus_scottorum', 'cirrhilabrus_temminckii', 'coris_aygula', 'coris_batuensis', 'coris_bulbifrons', 'coris_caudimacula', 'coris_dorsomacula', 'coris_gaimard', 'coris_picta', 'coris_pictoides', 'coris_sandeyeri', 'crenimugil_crenilabis', 'cymbacephalus_nematophthalmus', 'cymolutes_praetextatus', 'cymolutes_torquatus', 'cynoglossus_puncticeps', 'cyttopsis_rosea', 'dactylophora_nigricans', 'decapterus_macrosoma', 'decapterus_russelli', 'diproctacanthus_xanthurus', 'dotalabrus_aurantiacus', 'elagatis_bipinnulata', 'epibulus_insidiator', 'epinephelus_areolatus', 'epinephelus_bleekeri', 'epinephelus_chlorostigma', 'epinephelus_coeruleopunctatus', 'epinephelus_coioides', 'epinephelus_corallicola', 'epinephelus_cyanopodus', 'epinephelus_epistictus', 'epinephelus_fasciatus', 'epinephelus_fuscoguttatus', 'epinephelus_hexagonatus', 'epinephelus_howlandi', 'epinephelus_lanceolatus', 'epinephelus_latifasciatus', 'epinephelus_macrospilos', 'epinephelus_maculatus', 'epinephelus_melanostigma', 'epinephelus_merra', 'epinephelus_morrhua', 'epinephelus_multinotatus', 'epinephelus_ongus', 'epinephelus_polyphekadion', 'epinephelus_quoyanus', 'epinephelus_radiatus', 'epinephelus_retouti', 'epinephelus_rivulatus', 'epinephelus_sexfasciatus', 'epinephelus_spilotoceps', 'epinephelus_tauvina', 'epinephelus_undulatostriatus', 'etelis_carbunculus', 'etelis_coruscans', 'eubalichthys_cyanoura', 'eubalichthys_mosaicus', 'eupetrichthys_angustipes', 'euthynnus_affinis', 'evistias_acutirostris', 'gempylus_serpens', 'gnathanodon_speciosus', 'gnathodentex_aureolineatus', 'gracila_albomarginata', 'gymnocranius_audleyi', 'gymnocranius_euanus', 'gymnocranius_grandoculis', 'gymnocranius_microdon', 'gymnosarda_unicolor', 'halichoeres_argus', 'halichoeres_biocellatus', 'halichoeres_chloropterus', 'halichoeres_chrysus', 'halichoeres_hartzfeldii', 'halichoeres_hortulanus', 'halichoeres_leucurus', 'halichoeres_margaritaceus', 'halichoeres_marginatus', 'halichoeres_melanochir', 'halichoeres_melanurus', 'halichoeres_melasmapomus', 'halichoeres_miniatus', 'halichoeres_nebulosus', 'halichoeres_nigrescens', 'halichoeres_scapularis', 'halichoeres_trimaculatus', 'harriotta_raleighana', 'hemigymnus_fasciatus', 'hemigymnus_melapterus', 'hemiramphus_far', 'herklotsichthys_quadrimaculatus', 'hologymnosus_annulatus', 'hologymnosus_doliatus', 'hyporhamphus_affinis', 'hyporhamphus_dussumieri', 'inegocia_japonica', 'johnius_borneensis', 'katsuwonus_pelamis', 'labrichthys_unilineatus', 'labroides_bicolor', 'labroides_dimidiatus', 'labroides_pectoralis', 'labropsis_australis', 'labropsis_manabei', 'labropsis_xanthonota', 'latridopsis_forsteri', 'lepidocybium_flavobrunneum', 'leptojulis_cyanopleura', 'lethrinus_amboinensis', 'lethrinus_atkinsoni', 'lethrinus_erythracanthus', 'lethrinus_genivittatus', 'lethrinus_harak', 'lethrinus_lentjan', 'lethrinus_microdon', 'lethrinus_miniatus', 'lethrinus_nebulosus', 'lethrinus_obsoletus', 'lethrinus_olivaceus', 'lethrinus_ornatus', 'lethrinus_rubrioperculatus', 'lethrinus_semicinctus', 'lethrinus_variegatus', 'lethrinus_xanthochilus', 'liopropoma_mitratum', 'liopropoma_susumi', 'liza_subviridis', 'liza_vaigiensis', 'lniistius_aneitensis', 'lniistius_pavo', 'lutjanus_adetii', 'lutjanus_argentimaculatus', 'lutjanus_biguttatus', 'lutjanus_bohar', 'lutjanus_carponotatus', 'lutjanus_decussatus', 'lutjanus_ehrenbergii', 'lutjanus_erythropterus', 'lutjanus_fulviflamma', 'lutjanus_fulvus', 'lutjanus_gibbus', 'lutjanus_johnii', 'lutjanus_kasmira', 'lutjanus_lemniscatus', 'lutjanus_lutjanus', 'lutjanus_malabaricus', 'lutjanus_monostigma', 'lutjanus_quinquelineatus', 'lutjanus_rivulatus', 'lutjanus_russellii', 'lutjanus_sebae', 'lutjanus_semicinctus', 'lutjanus_semicinctus_quoy', 'lutjanus_timoriensis', 'lutjanus_vitta', 'macolor_macularis', 'macolor_niger', 'macropharyngodon_choati', 'macropharyngodon_kuiteri', 'macropharyngodon_meleagris', 'macropharyngodon_negrosensis', 'macropharyngodon_ornatus', 'megalaspis_cordyla', 'meuschenia_australis', 'meuschenia_freycineti', 'meuschenia_galii', 'meuschenia_hippocrepis', 'meuschenia_scaber', 'meuschenia_trachylepis', 'monacanthus_chinensis', 'monotaxis_grandoculis', 'mugim_cephalus', 'naucrates_ductor', 'negaprion_acutidens', 'nemadactylus_douglasii', 'nemipterus_furcosus', 'nemipterus_hexodon', 'nemipterus_peronii', 'netuma_thalassina', 'nibea_soldado', 'notolabrus_fucicola', 'notolabrus_gymnogenis', 'notolabrus_tetricus', 'notorynchus_cepedianus', 'novaculichthys_taeniourus', 'novaculoides_macrolepidotus', 'oedalechilus_labiosus', 'ophthalmolepis_lineolatus', 'otolithes_ruber', 'oxycheilinus_bimaculatus', 'oxycheilinus_celebicus', 'oxycheilinus_digrammus', 'oxycheilinus_unifasciatus', 'oxymonacanthus_longirostris', 'pagrus_auratus', 'paracaesio_kusakarii', 'paracheilinus_filamentosus', 'paraluteres_prionurus', 'paramonacanthus_choirocephalus', 'paraplagusia_bilineata', 'parastromateus_niger', 'pardachirus_hedleyi', 'pardachirus_pavoninus', 'pentapodus_aureofasciatus', 'pentapodus_paradiseus', 'pentapodus_vitta_quoy', 'pervagor_alternans', 'pervagor_aspricaudus', 'pervagor_janthinosoma', 'pervagor_melanocephalus', 'pervagor_nigrolineatus', 'pinjalo_lewisi', 'platycephalus_indicus', 'plectranthias_longimanus', 'plectranthias_nanus', 'plectranthias_winniensis', 'plectropomus_areolatus', 'plectropomus_laevis', 'plectropomus_leopardus', 'plectropomus_maculatus', 'plectropomus_oligacanthus', 'plotosus_lineatus', 'pristipomoides_argyrogrammicus', 'pristipomoides_auricilla', 'pristipomoides_filamentosus', 'pristipomoides_flavipinnis', 'pristipomoides_sieboldii', 'pristipomoides_zonatus', 'promethichthys_prometheus', 'protonibea_diacanthus', 'psettodes_erumei', 'pseudalutarius_nasicornis', 'pseudanthias_bicolor', 'pseudanthias_cooperi', 'pseudanthias_dispar', 'pseudanthias_fasciatus', 'pseudanthias_huchtii', 'pseudanthias_hypselosoma', 'pseudanthias_lori', 'pseudanthias_luzonensis', 'pseudanthias_pictilis', 'pseudanthias_pleurotaenia', 'pseudanthias_rubrizonatus', 'pseudanthias_sheni', 'pseudanthias_smithvanizi', 'pseudanthias_squamipinnis', 'pseudanthias_tuka', 'pseudanthias_ventralis', 'pseudocaranx_dentex', 'pseudocarcharias_kamoharai', 'pseudocheilinus_evanidus', 'pseudocheilinus_hexataenia', 'pseudocheilinus_ocellatus', 'pseudocheilinus_octotaenia', 'pseudodax_moluccanus', 'pseudojuloides_cerasinus', 'pseudolabrus_biserialis', 'pseudolabrus_guentheri', 'pseudolabrus_luculentus', 'pseudorhombus_argus', 'pseudorhombus_arsius', 'pseudorhombus_elevatus', 'pteragogus_cryptus', 'pteragogus_enneacanthus', 'pteragogus_flagellifer', 'rastrelliger_kanagurta', 'retropinna_semoni', 'rhabdosargus_sarba', 'rhincodon_typus', 'rhizoprionodon_acutus', 'ruvettus_pretiosus', 'samaris_cristatus', 'samariscus_triocellatus', 'sarda_orientalis', 'sardinella_albella', 'sardinella_gibbosa', 'sardinops_sagax', 'scaevius_milii', 'scolopsis_affinis', 'scolopsis_bilineata', 'scolopsis_lineata', 'scolopsis_margaritifer', 'scolopsis_monogramma', 'scolopsis_trilineata', 'scolopsis_vosmeri', 'scolopsis_xenochrous', 'scomberoides_commersonnianus', 'scomberoides_lysan', 'scomberomorus_commerson', 'selar_crumenophthalmus', 'selaroides_leptolepis', 'seriola_dumerili', 'seriola_hippos', 'seriola_rivoliana', 'seriolina_nigrofasciata', 'serranocirrhitus_latus', 'sillago_ciliata', 'sillago_sihama', 'soleichthys_heterorhinos', 'sphyraena_barracuda', 'sphyraena_forsteri', 'sphyraena_jello', 'sphyraena_obtusata', 'stegostoma_fasciatum', 'stethojulis_bandanensis', 'stethojulis_interrupta', 'stethojulis_strigiventer', 'stethojulis_trilineata', 'stolephorus_waitei', 'suezichthys_arquatus', 'suezichthys_cyanolaemus', 'suezichthys_gracilis', 'symphorichthys_spilurus', 'symphorus_nematophorus', 'thalassoma_amblycephalum', 'thalassoma_hardwicke', 'thalassoma_jansenii', 'thalassoma_lunare', 'thalassoma_lutescens', 'thalassoma_nigrofasciatum', 'thalassoma_purpureum', 'thalassoma_quinquevittatum', 'thalassoma_trilobatum', 'thryssa_baelama', 'thryssa_hamiltonii', 'thunnus_alalunga', 'thunnus_albacares', 'thysanophrys_celebica', 'thysanophrys_chiltonae', 'trachichthys_australis', 'trachinotus_baillonii', 'trachinotus_blochii', 'trachinotus_botla', 'trachypoma_macracanthus', 'triaenodon_obesus', 'uraspis_secunda', 'valamugil_cunnesius', 'valamugil_engeli', 'valamugil_seheli', 'variola_albimarginata', 'variola_louti', 'wattsia_mossambica', 'wetmorella_albofasciata', 'wetmorella_nigropinnata', 'xiphocheilus_typus', 'zenarchopterus_dispar', 'zeus_faber']"
   ]
  },
  {
   "cell_type": "code",
   "execution_count": 1222,
   "id": "11e311ef-c99d-4a5c-9b4d-26f9f870b010",
   "metadata": {
    "tags": []
   },
   "outputs": [],
   "source": [
    "# Class names as the model will output\n",
    "class_names_transformed = ['A73egs-p', 'Cunwcb-y', 'Istiophorus platypterus', 'P1rozc-z', 'Pqv7dp-s', 'Acanthaluteres brownii', 'Acanthaluteres spilomelanurus', 'Acanthaluteres vittiger', 'Acanthistius cinctus', 'Acanthopagrus australis', 'Acanthopagrus berda', 'Acanthopagrus latus', 'Achoerodus gouldii', 'Achoerodus viridis', 'Acreichthys tomentosus', 'Aesopia cornuta', 'Aethaloperca rogaa', 'Alectis ciliaris', 'Alectis indica', 'Alepes kleinii', 'Aluterus monoceros', 'Aluterus scriptus', 'Amanses scopas', 'Anampses caeruleopunctatus', 'Anampses elegans', 'Anampses femininus', 'Anampses geographicus', 'Anampses lennardi', 'Anampses melanurus', 'Anampses meleagrides', 'Anampses neoguinaicus', 'Anampses twistii', 'Anodontostoma chacunda', 'Anyperodon leucogrammicus', 'Aphareus furca', 'Aphareus rutilans', 'Aprion virescens', 'Argyrops spinifer', 'Aseraggodes melanostictus', 'Atractoscion aequidens', 'Atule mate', 'Auxis rochei', 'Auxis thazard', 'Bathylagichthys greyae', 'Beryx decadactylus', 'Bodianus anthioides', 'Bodianus axillaris', 'Bodianus bilunulatus', 'Bodianus bimaculatus', 'Bodianus diana', 'Bodianus loxozonus', 'Bodianus mesothorax', 'Bodianus perditio', 'Bodianus unimaculatus', 'Bodianus vulpinus', 'Bothus mancus', 'Bothus myriaster', 'Bothus pantherinus', 'Brachaluteres jacksonianus', 'Brachirus orientalis', 'Caesioperca lepidopterus', 'Cantherhines dumerilii', 'Cantherhines fronticinctus', 'Cantherhines pardalis', 'Cantheschenia grandisquamis', 'Caprodon longimanus', 'Caprodon schlegelii', 'Carangoides caeruleopinnatus', 'Carangoides chrysophrys', 'Carangoides equula', 'Carangoides ferdau', 'Carangoides fulvoguttatus', 'Carangoides hedlandensis', 'Carangoides malabaricus', 'Carangoides orthogrammus', 'Carangoides plagiotaenia', 'Caranx ignobilis', 'Caranx lugubris', 'Caranx melampygus', 'Caranx sexfasciatus', 'Carcharhinus albimarginatus', 'Carcharhinus amblyrhynchos', 'Carcharhinus falciformis', 'Carcharhinus galapagensis', 'Carcharhinus limbatus', 'Carcharhinus melanopterus', 'Carcharhinus obscurus', 'Carcharhinus plumbeus', 'Carcharhinus sorrah', 'Centroberyx affinis', 'Centrogenys vaigiensis', 'Centroscymnus coelolepis', 'Cephalopholis argus', 'Cephalopholis boenak', 'Cephalopholis cyanostigma', 'Cephalopholis formosa', 'Cephalopholis igarashiensis', 'Cephalopholis leopardus', 'Cephalopholis microprion', 'Cephalopholis miniata', 'Cephalopholis sexmaculata', 'Cephalopholis sonnerati', 'Cephalopholis spiloparaea', 'Chascanopsetta lugubris', 'Cheilinus chlorourus', 'Cheilinus fasciatus', 'Cheilinus oxycephalus', 'Cheilinus trilobatus', 'Cheilinus undulatus', 'Cheilio inermis', 'Cheilodactylus ephippium', 'Cheilodactylus fuscus', 'Cheilodactylus spectabilis', 'Cheilodactylus vestitus', 'Chelidonichthys kumu', 'Chirocentrus dorab', 'Chirocentrus nudus', 'Choerodon anchorago', 'Choerodon cauteroma', 'Choerodon cyanodus', 'Choerodon fasciatus', 'Choerodon graphicus', 'Choerodon jordani', 'Choerodon rubescens', 'Choerodon schoenleinii', 'Choerodon venustus', 'Choerodon vitta', 'Choerodon zamboangae', 'Chromileptes altivelis', 'Cirrhilabrus bathyphilus', 'Cirrhilabrus condei', 'Cirrhilabrus cyanopleura', 'Cirrhilabrus exquisitus', 'Cirrhilabrus laboutei', 'Cirrhilabrus punctatus', 'Cirrhilabrus scottorum', 'Cirrhilabrus temminckii', 'Coris aygula', 'Coris batuensis', 'Coris bulbifrons', 'Coris caudimacula', 'Coris dorsomacula', 'Coris gaimard', 'Coris picta', 'Coris pictoides', 'Coris sandeyeri', 'Crenimugil crenilabis', 'Cymbacephalus nematophthalmus', 'Cymolutes praetextatus', 'Cymolutes torquatus', 'Cynoglossus puncticeps', 'Cyttopsis rosea', 'Dactylophora nigricans', 'Decapterus macrosoma', 'Decapterus russelli', 'Diproctacanthus xanthurus', 'Dotalabrus aurantiacus', 'Elagatis bipinnulata', 'Epibulus insidiator', 'Epinephelus areolatus', 'Epinephelus bleekeri', 'Epinephelus chlorostigma', 'Epinephelus coeruleopunctatus', 'Epinephelus coioides', 'Epinephelus corallicola', 'Epinephelus cyanopodus', 'Epinephelus epistictus', 'Epinephelus fasciatus', 'Epinephelus fuscoguttatus', 'Epinephelus hexagonatus', 'Epinephelus howlandi', 'Epinephelus lanceolatus', 'Epinephelus latifasciatus', 'Epinephelus macrospilos', 'Epinephelus maculatus', 'Epinephelus melanostigma', 'Epinephelus merra', 'Epinephelus morrhua', 'Epinephelus multinotatus', 'Epinephelus ongus', 'Epinephelus polyphekadion', 'Epinephelus quoyanus', 'Epinephelus radiatus', 'Epinephelus retouti', 'Epinephelus rivulatus', 'Epinephelus sexfasciatus', 'Epinephelus spilotoceps', 'Epinephelus tauvina', 'Epinephelus undulatostriatus', 'Etelis carbunculus', 'Etelis coruscans', 'Eubalichthys cyanoura', 'Eubalichthys mosaicus', 'Eupetrichthys angustipes', 'Euthynnus affinis', 'Evistias acutirostris', 'Gempylus serpens', 'Gnathanodon speciosus', 'Gnathodentex aureolineatus', 'Gracila albomarginata', 'Gymnocranius audleyi', 'Gymnocranius euanus', 'Gymnocranius grandoculis', 'Gymnocranius microdon', 'Gymnosarda unicolor', 'Halichoeres argus', 'Halichoeres biocellatus', 'Halichoeres chloropterus', 'Halichoeres chrysus', 'Halichoeres hartzfeldii', 'Halichoeres hortulanus', 'Halichoeres leucurus', 'Halichoeres margaritaceus', 'Halichoeres marginatus', 'Halichoeres melanochir', 'Halichoeres melanurus', 'Halichoeres melasmapomus', 'Halichoeres miniatus', 'Halichoeres nebulosus', 'Halichoeres nigrescens', 'Halichoeres scapularis', 'Halichoeres trimaculatus', 'Harriotta raleighana', 'Hemigymnus fasciatus', 'Hemigymnus melapterus', 'Hemiramphus far', 'Herklotsichthys quadrimaculatus', 'Hologymnosus annulatus', 'Hologymnosus doliatus', 'Hyporhamphus affinis', 'Hyporhamphus dussumieri', 'Inegocia japonica', 'Johnius borneensis', 'Katsuwonus pelamis', 'Labrichthys unilineatus', 'Labroides bicolor', 'Labroides dimidiatus', 'Labroides pectoralis', 'Labropsis australis', 'Labropsis manabei', 'Labropsis xanthonota', 'Latridopsis forsteri', 'Lepidocybium flavobrunneum', 'Leptojulis cyanopleura', 'Lethrinus amboinensis', 'Lethrinus atkinsoni', 'Lethrinus erythracanthus', 'Lethrinus genivittatus', 'Lethrinus harak', 'Lethrinus lentjan', 'Lethrinus microdon', 'Lethrinus miniatus', 'Lethrinus nebulosus', 'Lethrinus obsoletus', 'Lethrinus olivaceus', 'Lethrinus ornatus', 'Lethrinus rubrioperculatus', 'Lethrinus semicinctus', 'Lethrinus variegatus', 'Lethrinus xanthochilus', 'Liopropoma mitratum', 'Liopropoma susumi', 'Liza subviridis', 'Liza vaigiensis', 'Lniistius aneitensis', 'Lniistius pavo', 'Lutjanus adetii', 'Lutjanus argentimaculatus', 'Lutjanus biguttatus', 'Lutjanus bohar', 'Lutjanus carponotatus', 'Lutjanus decussatus', 'Lutjanus ehrenbergii', 'Lutjanus erythropterus', 'Lutjanus fulviflamma', 'Lutjanus fulvus', 'Lutjanus gibbus', 'Lutjanus johnii', 'Lutjanus kasmira', 'Lutjanus lemniscatus', 'Lutjanus lutjanus', 'Lutjanus malabaricus', 'Lutjanus monostigma', 'Lutjanus quinquelineatus', 'Lutjanus rivulatus', 'Lutjanus russellii', 'Lutjanus sebae', 'Lutjanus semicinctus', 'Lutjanus semicinctus quoy', 'Lutjanus timoriensis', 'Lutjanus vitta', 'Macolor macularis', 'Macolor niger', 'Macropharyngodon choati', 'Macropharyngodon kuiteri', 'Macropharyngodon meleagris', 'Macropharyngodon negrosensis', 'Macropharyngodon ornatus', 'Megalaspis cordyla', 'Meuschenia australis', 'Meuschenia freycineti', 'Meuschenia galii', 'Meuschenia hippocrepis', 'Meuschenia scaber', 'Meuschenia trachylepis', 'Monacanthus chinensis', 'Monotaxis grandoculis', 'Mugim cephalus', 'Naucrates ductor', 'Negaprion acutidens', 'Nemadactylus douglasii', 'Nemipterus furcosus', 'Nemipterus hexodon', 'Nemipterus peronii', 'Netuma thalassina', 'Nibea soldado', 'Notolabrus fucicola', 'Notolabrus gymnogenis', 'Notolabrus tetricus', 'Notorynchus cepedianus', 'Novaculichthys taeniourus', 'Novaculoides macrolepidotus', 'Oedalechilus labiosus', 'Ophthalmolepis lineolatus', 'Otolithes ruber', 'Oxycheilinus bimaculatus', 'Oxycheilinus celebicus', 'Oxycheilinus digrammus', 'Oxycheilinus unifasciatus', 'Oxymonacanthus longirostris', 'Pagrus auratus', 'Paracaesio kusakarii', 'Paracheilinus filamentosus', 'Paraluteres prionurus', 'Paramonacanthus choirocephalus', 'Paraplagusia bilineata', 'Parastromateus niger', 'Pardachirus hedleyi', 'Pardachirus pavoninus', 'Pentapodus aureofasciatus', 'Pentapodus paradiseus', 'Pentapodus vitta quoy', 'Pervagor alternans', 'Pervagor aspricaudus', 'Pervagor janthinosoma', 'Pervagor melanocephalus', 'Pervagor nigrolineatus', 'Pinjalo lewisi', 'Platycephalus indicus', 'Plectranthias longimanus', 'Plectranthias nanus', 'Plectranthias winniensis', 'Plectropomus areolatus', 'Plectropomus laevis', 'Plectropomus leopardus', 'Plectropomus maculatus', 'Plectropomus oligacanthus', 'Plotosus lineatus', 'Pristipomoides argyrogrammicus', 'Pristipomoides auricilla', 'Pristipomoides filamentosus', 'Pristipomoides flavipinnis', 'Pristipomoides sieboldii', 'Pristipomoides zonatus', 'Promethichthys prometheus', 'Protonibea diacanthus', 'Psettodes erumei', 'Pseudalutarius nasicornis', 'Pseudanthias bicolor', 'Pseudanthias cooperi', 'Pseudanthias dispar', 'Pseudanthias fasciatus', 'Pseudanthias huchtii', 'Pseudanthias hypselosoma', 'Pseudanthias lori', 'Pseudanthias luzonensis', 'Pseudanthias pictilis', 'Pseudanthias pleurotaenia', 'Pseudanthias rubrizonatus', 'Pseudanthias sheni', 'Pseudanthias smithvanizi', 'Pseudanthias squamipinnis', 'Pseudanthias tuka', 'Pseudanthias ventralis', 'Pseudocaranx dentex', 'Pseudocarcharias kamoharai', 'Pseudocheilinus evanidus', 'Pseudocheilinus hexataenia', 'Pseudocheilinus ocellatus', 'Pseudocheilinus octotaenia', 'Pseudodax moluccanus', 'Pseudojuloides cerasinus', 'Pseudolabrus biserialis', 'Pseudolabrus guentheri', 'Pseudolabrus luculentus', 'Pseudorhombus argus', 'Pseudorhombus arsius', 'Pseudorhombus elevatus', 'Pteragogus cryptus', 'Pteragogus enneacanthus', 'Pteragogus flagellifer', 'Rastrelliger kanagurta', 'Retropinna semoni', 'Rhabdosargus sarba', 'Rhincodon typus', 'Rhizoprionodon acutus', 'Ruvettus pretiosus', 'Samaris cristatus', 'Samariscus triocellatus', 'Sarda orientalis', 'Sardinella albella', 'Sardinella gibbosa', 'Sardinops sagax', 'Scaevius milii', 'Scolopsis affinis', 'Scolopsis bilineata', 'Scolopsis lineata', 'Scolopsis margaritifer', 'Scolopsis monogramma', 'Scolopsis trilineata', 'Scolopsis vosmeri', 'Scolopsis xenochrous', 'Scomberoides commersonnianus', 'Scomberoides lysan', 'Scomberomorus commerson', 'Selar crumenophthalmus', 'Selaroides leptolepis', 'Seriola dumerili', 'Seriola hippos', 'Seriola rivoliana', 'Seriolina nigrofasciata', 'Serranocirrhitus latus', 'Sillago ciliata', 'Sillago sihama', 'Soleichthys heterorhinos', 'Sphyraena barracuda', 'Sphyraena forsteri', 'Sphyraena jello', 'Sphyraena obtusata', 'Stegostoma fasciatum', 'Stethojulis bandanensis', 'Stethojulis interrupta', 'Stethojulis strigiventer', 'Stethojulis trilineata', 'Stolephorus waitei', 'Suezichthys arquatus', 'Suezichthys cyanolaemus', 'Suezichthys gracilis', 'Symphorichthys spilurus', 'Symphorus nematophorus', 'Thalassoma amblycephalum', 'Thalassoma hardwicke', 'Thalassoma jansenii', 'Thalassoma lunare', 'Thalassoma lutescens', 'Thalassoma nigrofasciatum', 'Thalassoma purpureum', 'Thalassoma quinquevittatum', 'Thalassoma trilobatum', 'Thryssa baelama', 'Thryssa hamiltonii', 'Thunnus alalunga', 'Thunnus albacares', 'Thysanophrys celebica', 'Thysanophrys chiltonae', 'Trachichthys australis', 'Trachinotus baillonii', 'Trachinotus blochii', 'Trachinotus botla', 'Trachypoma macracanthus', 'Triaenodon obesus', 'Uraspis secunda', 'Valamugil cunnesius', 'Valamugil engeli', 'Valamugil seheli', 'Variola albimarginata', 'Variola louti', 'Wattsia mossambica', 'Wetmorella albofasciata', 'Wetmorella nigropinnata', 'Xiphocheilus typus', 'Zenarchopterus dispar', 'Zeus faber']"
   ]
  },
  {
   "cell_type": "code",
   "execution_count": 1223,
   "id": "8ed3d85d-2de1-46a1-9000-e5b300f33390",
   "metadata": {
    "tags": []
   },
   "outputs": [],
   "source": [
    "df_class_names = pd.DataFrame(class_names, columns=['class_names'])\n",
    "df_class_names_transformed = pd.DataFrame(class_names_transformed, columns=['class_names_transformed'])"
   ]
  },
  {
   "cell_type": "code",
   "execution_count": 1225,
   "id": "29561070-bd58-48f8-8eba-f18ca52b481b",
   "metadata": {
    "tags": []
   },
   "outputs": [
    {
     "data": {
      "text/html": [
       "<div>\n",
       "<style scoped>\n",
       "    .dataframe tbody tr th:only-of-type {\n",
       "        vertical-align: middle;\n",
       "    }\n",
       "\n",
       "    .dataframe tbody tr th {\n",
       "        vertical-align: top;\n",
       "    }\n",
       "\n",
       "    .dataframe thead th {\n",
       "        text-align: right;\n",
       "    }\n",
       "</style>\n",
       "<table border=\"1\" class=\"dataframe\">\n",
       "  <thead>\n",
       "    <tr style=\"text-align: right;\">\n",
       "      <th></th>\n",
       "      <th>class_names_transformed</th>\n",
       "    </tr>\n",
       "  </thead>\n",
       "  <tbody>\n",
       "    <tr>\n",
       "      <th>0</th>\n",
       "      <td>A73egs-p</td>\n",
       "    </tr>\n",
       "    <tr>\n",
       "      <th>1</th>\n",
       "      <td>Cunwcb-y</td>\n",
       "    </tr>\n",
       "    <tr>\n",
       "      <th>2</th>\n",
       "      <td>Istiophorus platypterus</td>\n",
       "    </tr>\n",
       "    <tr>\n",
       "      <th>3</th>\n",
       "      <td>P1rozc-z</td>\n",
       "    </tr>\n",
       "    <tr>\n",
       "      <th>4</th>\n",
       "      <td>Pqv7dp-s</td>\n",
       "    </tr>\n",
       "    <tr>\n",
       "      <th>...</th>\n",
       "      <td>...</td>\n",
       "    </tr>\n",
       "    <tr>\n",
       "      <th>478</th>\n",
       "      <td>Wetmorella albofasciata</td>\n",
       "    </tr>\n",
       "    <tr>\n",
       "      <th>479</th>\n",
       "      <td>Wetmorella nigropinnata</td>\n",
       "    </tr>\n",
       "    <tr>\n",
       "      <th>480</th>\n",
       "      <td>Xiphocheilus typus</td>\n",
       "    </tr>\n",
       "    <tr>\n",
       "      <th>481</th>\n",
       "      <td>Zenarchopterus dispar</td>\n",
       "    </tr>\n",
       "    <tr>\n",
       "      <th>482</th>\n",
       "      <td>Zeus faber</td>\n",
       "    </tr>\n",
       "  </tbody>\n",
       "</table>\n",
       "<p>483 rows × 1 columns</p>\n",
       "</div>"
      ],
      "text/plain": [
       "     class_names_transformed\n",
       "0                   A73egs-p\n",
       "1                   Cunwcb-y\n",
       "2    Istiophorus platypterus\n",
       "3                   P1rozc-z\n",
       "4                   Pqv7dp-s\n",
       "..                       ...\n",
       "478  Wetmorella albofasciata\n",
       "479  Wetmorella nigropinnata\n",
       "480       Xiphocheilus typus\n",
       "481    Zenarchopterus dispar\n",
       "482               Zeus faber\n",
       "\n",
       "[483 rows x 1 columns]"
      ]
     },
     "execution_count": 1225,
     "metadata": {},
     "output_type": "execute_result"
    }
   ],
   "source": [
    "df_class_names_transformed"
   ]
  },
  {
   "cell_type": "code",
   "execution_count": 1226,
   "id": "a2754d34-0596-4148-bf65-31ca5271f6a8",
   "metadata": {
    "tags": []
   },
   "outputs": [],
   "source": [
    "df_class_names.to_csv('data/fish_data/class_names.csv')\n",
    "df_class_names_transformed.to_csv('data/fish_data/class_names_transformed.csv')"
   ]
  },
  {
   "cell_type": "code",
   "execution_count": 1205,
   "id": "bb8b9dea-01c9-4dc4-88ad-d9fd853d3b4d",
   "metadata": {
    "tags": []
   },
   "outputs": [
    {
     "data": {
      "text/html": [
       "<div>\n",
       "<style scoped>\n",
       "    .dataframe tbody tr th:only-of-type {\n",
       "        vertical-align: middle;\n",
       "    }\n",
       "\n",
       "    .dataframe tbody tr th {\n",
       "        vertical-align: top;\n",
       "    }\n",
       "\n",
       "    .dataframe thead th {\n",
       "        text-align: right;\n",
       "    }\n",
       "</style>\n",
       "<table border=\"1\" class=\"dataframe\">\n",
       "  <thead>\n",
       "    <tr style=\"text-align: right;\">\n",
       "      <th></th>\n",
       "      <th>species_id</th>\n",
       "      <th>taxonomicnotes</th>\n",
       "      <th>rationale</th>\n",
       "      <th>geographicrange</th>\n",
       "      <th>population</th>\n",
       "      <th>populationtrend</th>\n",
       "      <th>habitat</th>\n",
       "      <th>threats</th>\n",
       "      <th>conservationmeasures</th>\n",
       "      <th>usetrade</th>\n",
       "    </tr>\n",
       "  </thead>\n",
       "  <tbody>\n",
       "    <tr>\n",
       "      <th>0</th>\n",
       "      <td>0</td>\n",
       "      <td>NA</td>\n",
       "      <td>NA</td>\n",
       "      <td>NA</td>\n",
       "      <td>NA</td>\n",
       "      <td>NA</td>\n",
       "      <td>NA</td>\n",
       "      <td>NA</td>\n",
       "      <td>NA</td>\n",
       "      <td>NA</td>\n",
       "    </tr>\n",
       "    <tr>\n",
       "      <th>1</th>\n",
       "      <td>0</td>\n",
       "      <td>NA</td>\n",
       "      <td>NA</td>\n",
       "      <td>NA</td>\n",
       "      <td>NA</td>\n",
       "      <td>NA</td>\n",
       "      <td>NA</td>\n",
       "      <td>NA</td>\n",
       "      <td>NA</td>\n",
       "      <td>NA</td>\n",
       "    </tr>\n",
       "  </tbody>\n",
       "</table>\n",
       "</div>"
      ],
      "text/plain": [
       "   species_id taxonomicnotes rationale geographicrange population  \\\n",
       "0           0             NA        NA              NA         NA   \n",
       "1           0             NA        NA              NA         NA   \n",
       "\n",
       "  populationtrend habitat threats conservationmeasures usetrade  \n",
       "0              NA      NA      NA                   NA       NA  \n",
       "1              NA      NA      NA                   NA       NA  "
      ]
     },
     "execution_count": 1205,
     "metadata": {},
     "output_type": "execute_result"
    }
   ],
   "source": [
    "df_text_exploded.head(2)"
   ]
  },
  {
   "cell_type": "code",
   "execution_count": 1227,
   "id": "c2825b62-11e9-4956-990d-cea6e9f9b2ec",
   "metadata": {
    "tags": []
   },
   "outputs": [],
   "source": [
    "df_fishfacts = pd.concat([df_class_names,df_class_names_transformed,df_species_exploded,df_text_exploded],axis=1)"
   ]
  },
  {
   "cell_type": "code",
   "execution_count": 1228,
   "id": "491cd257-a370-4758-91bf-b6ddd612b8bb",
   "metadata": {
    "tags": []
   },
   "outputs": [
    {
     "name": "stdout",
     "output_type": "stream",
     "text": [
      "Index(['class_names', 'class_names_transformed', 'taxonid', 'scientific_name',\n",
      "       'kingdom', 'phylum', 'class', 'order', 'family', 'genus',\n",
      "       'main_common_name', 'authority', 'published_year', 'assessment_date',\n",
      "       'category', 'criteria', 'population_trend', 'marine_system',\n",
      "       'freshwater_system', 'terrestrial_system', 'assessor', 'reviewer',\n",
      "       'aoo_km2', 'eoo_km2', 'elevation_upper', 'elevation_lower',\n",
      "       'depth_upper', 'depth_lower', 'errata_flag', 'errata_reason',\n",
      "       'amended_flag', 'amended_reason'],\n",
      "      dtype='object')\n",
      "Index(['class_names', 'class_names_transformed', 'species_id',\n",
      "       'taxonomicnotes', 'rationale', 'geographicrange', 'population',\n",
      "       'populationtrend', 'habitat', 'threats', 'conservationmeasures',\n",
      "       'usetrade'],\n",
      "      dtype='object')\n"
     ]
    }
   ],
   "source": [
    "print(df_fishfacts.columns)"
   ]
  },
  {
   "cell_type": "code",
   "execution_count": 1229,
   "id": "17749eb9-4504-4a51-b060-68c10cf6f708",
   "metadata": {
    "tags": []
   },
   "outputs": [],
   "source": [
    "df_fishfacts.to_csv('data/fish_data/fish_facts.csv')\n"
   ]
  },
  {
   "cell_type": "code",
   "execution_count": 72,
   "id": "2e68eb9d-86c3-424d-889a-2bef17d19c8f",
   "metadata": {
    "tags": []
   },
   "outputs": [],
   "source": [
    "class_names = ['A73EGS-P', 'CUNWCB-Y', 'Istiophorus_platypterus', 'P1ROZC-Z', 'PQV7DP-S', 'acanthaluteres_brownii', 'acanthaluteres_spilomelanurus', 'acanthaluteres_vittiger', 'acanthistius_cinctus', 'acanthopagrus_australis', 'acanthopagrus_berda', 'acanthopagrus_latus', 'achoerodus_gouldii', 'achoerodus_viridis', 'acreichthys_tomentosus', 'aesopia_cornuta', 'aethaloperca_rogaa', 'alectis_ciliaris', 'alectis_indica', 'alepes_kleinii', 'aluterus_monoceros', 'aluterus_scriptus', 'amanses_scopas', 'anampses_caeruleopunctatus', 'anampses_elegans', 'anampses_femininus', 'anampses_geographicus', 'anampses_lennardi', 'anampses_melanurus', 'anampses_meleagrides', 'anampses_neoguinaicus', 'anampses_twistii', 'anodontostoma_chacunda', 'anyperodon_leucogrammicus', 'aphareus_furca', 'aphareus_rutilans', 'aprion_virescens', 'argyrops_spinifer', 'aseraggodes_melanostictus', 'atractoscion_aequidens', 'atule_mate', 'auxis_rochei', 'auxis_thazard', 'bathylagichthys_greyae', 'beryx_decadactylus', 'bodianus_anthioides', 'bodianus_axillaris', 'bodianus_bilunulatus', 'bodianus_bimaculatus', 'bodianus_diana', 'bodianus_loxozonus', 'bodianus_mesothorax', 'bodianus_perditio', 'bodianus_unimaculatus', 'bodianus_vulpinus', 'bothus_mancus', 'bothus_myriaster', 'bothus_pantherinus', 'brachaluteres_jacksonianus', 'brachirus_orientalis', 'caesioperca_lepidopterus', 'cantherhines_dumerilii', 'cantherhines_fronticinctus', 'cantherhines_pardalis', 'cantheschenia_grandisquamis', 'caprodon_longimanus', 'caprodon_schlegelii', 'carangoides_caeruleopinnatus', 'carangoides_chrysophrys', 'carangoides_equula', 'carangoides_ferdau', 'carangoides_fulvoguttatus', 'carangoides_hedlandensis', 'carangoides_malabaricus', 'carangoides_orthogrammus', 'carangoides_plagiotaenia', 'caranx_ignobilis', 'caranx_lugubris', 'caranx_melampygus', 'caranx_sexfasciatus', 'carcharhinus_albimarginatus', 'carcharhinus_amblyrhynchos', 'carcharhinus_falciformis', 'carcharhinus_galapagensis', 'carcharhinus_limbatus', 'carcharhinus_melanopterus', 'carcharhinus_obscurus', 'carcharhinus_plumbeus', 'carcharhinus_sorrah', 'centroberyx_affinis', 'centrogenys_vaigiensis', 'centroscymnus_coelolepis', 'cephalopholis_argus', 'cephalopholis_boenak', 'cephalopholis_cyanostigma', 'cephalopholis_formosa', 'cephalopholis_igarashiensis', 'cephalopholis_leopardus', 'cephalopholis_microprion', 'cephalopholis_miniata', 'cephalopholis_sexmaculata', 'cephalopholis_sonnerati', 'cephalopholis_spiloparaea', 'chascanopsetta_lugubris', 'cheilinus_chlorourus', 'cheilinus_fasciatus', 'cheilinus_oxycephalus', 'cheilinus_trilobatus', 'cheilinus_undulatus', 'cheilio_inermis', 'cheilodactylus_ephippium', 'cheilodactylus_fuscus', 'cheilodactylus_spectabilis', 'cheilodactylus_vestitus', 'chelidonichthys_kumu', 'chirocentrus_dorab', 'chirocentrus_nudus', 'choerodon_anchorago', 'choerodon_cauteroma', 'choerodon_cyanodus', 'choerodon_fasciatus', 'choerodon_graphicus', 'choerodon_jordani', 'choerodon_rubescens', 'choerodon_schoenleinii', 'choerodon_venustus', 'choerodon_vitta', 'choerodon_zamboangae', 'chromileptes_altivelis', 'cirrhilabrus_bathyphilus', 'cirrhilabrus_condei', 'cirrhilabrus_cyanopleura', 'cirrhilabrus_exquisitus', 'cirrhilabrus_laboutei', 'cirrhilabrus_punctatus', 'cirrhilabrus_scottorum', 'cirrhilabrus_temminckii', 'coris_aygula', 'coris_batuensis', 'coris_bulbifrons', 'coris_caudimacula', 'coris_dorsomacula', 'coris_gaimard', 'coris_picta', 'coris_pictoides', 'coris_sandeyeri', 'crenimugil_crenilabis', 'cymbacephalus_nematophthalmus', 'cymolutes_praetextatus', 'cymolutes_torquatus', 'cynoglossus_puncticeps', 'cyttopsis_rosea', 'dactylophora_nigricans', 'decapterus_macrosoma', 'decapterus_russelli', 'diproctacanthus_xanthurus', 'dotalabrus_aurantiacus', 'elagatis_bipinnulata', 'epibulus_insidiator', 'epinephelus_areolatus', 'epinephelus_bleekeri', 'epinephelus_chlorostigma', 'epinephelus_coeruleopunctatus', 'epinephelus_coioides', 'epinephelus_corallicola', 'epinephelus_cyanopodus', 'epinephelus_epistictus', 'epinephelus_fasciatus', 'epinephelus_fuscoguttatus', 'epinephelus_hexagonatus', 'epinephelus_howlandi', 'epinephelus_lanceolatus', 'epinephelus_latifasciatus', 'epinephelus_macrospilos', 'epinephelus_maculatus', 'epinephelus_melanostigma', 'epinephelus_merra', 'epinephelus_morrhua', 'epinephelus_multinotatus', 'epinephelus_ongus', 'epinephelus_polyphekadion', 'epinephelus_quoyanus', 'epinephelus_radiatus', 'epinephelus_retouti', 'epinephelus_rivulatus', 'epinephelus_sexfasciatus', 'epinephelus_spilotoceps', 'epinephelus_tauvina', 'epinephelus_undulatostriatus', 'etelis_carbunculus', 'etelis_coruscans', 'eubalichthys_cyanoura', 'eubalichthys_mosaicus', 'eupetrichthys_angustipes', 'euthynnus_affinis', 'evistias_acutirostris', 'gempylus_serpens', 'gnathanodon_speciosus', 'gnathodentex_aureolineatus', 'gracila_albomarginata', 'gymnocranius_audleyi', 'gymnocranius_euanus', 'gymnocranius_grandoculis', 'gymnocranius_microdon', 'gymnosarda_unicolor', 'halichoeres_argus', 'halichoeres_biocellatus', 'halichoeres_chloropterus', 'halichoeres_chrysus', 'halichoeres_hartzfeldii', 'halichoeres_hortulanus', 'halichoeres_leucurus', 'halichoeres_margaritaceus', 'halichoeres_marginatus', 'halichoeres_melanochir', 'halichoeres_melanurus', 'halichoeres_melasmapomus', 'halichoeres_miniatus', 'halichoeres_nebulosus', 'halichoeres_nigrescens', 'halichoeres_scapularis', 'halichoeres_trimaculatus', 'harriotta_raleighana', 'hemigymnus_fasciatus', 'hemigymnus_melapterus', 'hemiramphus_far', 'herklotsichthys_quadrimaculatus', 'hologymnosus_annulatus', 'hologymnosus_doliatus', 'hyporhamphus_affinis', 'hyporhamphus_dussumieri', 'inegocia_japonica', 'johnius_borneensis', 'katsuwonus_pelamis', 'labrichthys_unilineatus', 'labroides_bicolor', 'labroides_dimidiatus', 'labroides_pectoralis', 'labropsis_australis', 'labropsis_manabei', 'labropsis_xanthonota', 'latridopsis_forsteri', 'lepidocybium_flavobrunneum', 'leptojulis_cyanopleura', 'lethrinus_amboinensis', 'lethrinus_atkinsoni', 'lethrinus_erythracanthus', 'lethrinus_genivittatus', 'lethrinus_harak', 'lethrinus_lentjan', 'lethrinus_microdon', 'lethrinus_miniatus', 'lethrinus_nebulosus', 'lethrinus_obsoletus', 'lethrinus_olivaceus', 'lethrinus_ornatus', 'lethrinus_rubrioperculatus', 'lethrinus_semicinctus', 'lethrinus_variegatus', 'lethrinus_xanthochilus', 'liopropoma_mitratum', 'liopropoma_susumi', 'liza_subviridis', 'liza_vaigiensis', 'lniistius_aneitensis', 'lniistius_pavo', 'lutjanus_adetii', 'lutjanus_argentimaculatus', 'lutjanus_biguttatus', 'lutjanus_bohar', 'lutjanus_carponotatus', 'lutjanus_decussatus', 'lutjanus_ehrenbergii', 'lutjanus_erythropterus', 'lutjanus_fulviflamma', 'lutjanus_fulvus', 'lutjanus_gibbus', 'lutjanus_johnii', 'lutjanus_kasmira', 'lutjanus_lemniscatus', 'lutjanus_lutjanus', 'lutjanus_malabaricus', 'lutjanus_monostigma', 'lutjanus_quinquelineatus', 'lutjanus_rivulatus', 'lutjanus_russellii', 'lutjanus_sebae', 'lutjanus_semicinctus', 'lutjanus_semicinctus_quoy', 'lutjanus_timoriensis', 'lutjanus_vitta', 'macolor_macularis', 'macolor_niger', 'macropharyngodon_choati', 'macropharyngodon_kuiteri', 'macropharyngodon_meleagris', 'macropharyngodon_negrosensis', 'macropharyngodon_ornatus', 'megalaspis_cordyla', 'meuschenia_australis', 'meuschenia_freycineti', 'meuschenia_galii', 'meuschenia_hippocrepis', 'meuschenia_scaber', 'meuschenia_trachylepis', 'monacanthus_chinensis', 'monotaxis_grandoculis', 'mugim_cephalus', 'naucrates_ductor', 'negaprion_acutidens', 'nemadactylus_douglasii', 'nemipterus_furcosus', 'nemipterus_hexodon', 'nemipterus_peronii', 'netuma_thalassina', 'nibea_soldado', 'notolabrus_fucicola', 'notolabrus_gymnogenis', 'notolabrus_tetricus', 'notorynchus_cepedianus', 'novaculichthys_taeniourus', 'novaculoides_macrolepidotus', 'oedalechilus_labiosus', 'ophthalmolepis_lineolatus', 'otolithes_ruber', 'oxycheilinus_bimaculatus', 'oxycheilinus_celebicus', 'oxycheilinus_digrammus', 'oxycheilinus_unifasciatus', 'oxymonacanthus_longirostris', 'pagrus_auratus', 'paracaesio_kusakarii', 'paracheilinus_filamentosus', 'paraluteres_prionurus', 'paramonacanthus_choirocephalus', 'paraplagusia_bilineata', 'parastromateus_niger', 'pardachirus_hedleyi', 'pardachirus_pavoninus', 'pentapodus_aureofasciatus', 'pentapodus_paradiseus', 'pentapodus_vitta_quoy', 'pervagor_alternans', 'pervagor_aspricaudus', 'pervagor_janthinosoma', 'pervagor_melanocephalus', 'pervagor_nigrolineatus', 'pinjalo_lewisi', 'platycephalus_indicus', 'plectranthias_longimanus', 'plectranthias_nanus', 'plectranthias_winniensis', 'plectropomus_areolatus', 'plectropomus_laevis', 'plectropomus_leopardus', 'plectropomus_maculatus', 'plectropomus_oligacanthus', 'plotosus_lineatus', 'pristipomoides_argyrogrammicus', 'pristipomoides_auricilla', 'pristipomoides_filamentosus', 'pristipomoides_flavipinnis', 'pristipomoides_sieboldii', 'pristipomoides_zonatus', 'promethichthys_prometheus', 'protonibea_diacanthus', 'psettodes_erumei', 'pseudalutarius_nasicornis', 'pseudanthias_bicolor', 'pseudanthias_cooperi', 'pseudanthias_dispar', 'pseudanthias_fasciatus', 'pseudanthias_huchtii', 'pseudanthias_hypselosoma', 'pseudanthias_lori', 'pseudanthias_luzonensis', 'pseudanthias_pictilis', 'pseudanthias_pleurotaenia', 'pseudanthias_rubrizonatus', 'pseudanthias_sheni', 'pseudanthias_smithvanizi', 'pseudanthias_squamipinnis', 'pseudanthias_tuka', 'pseudanthias_ventralis', 'pseudocaranx_dentex', 'pseudocarcharias_kamoharai', 'pseudocheilinus_evanidus', 'pseudocheilinus_hexataenia', 'pseudocheilinus_ocellatus', 'pseudocheilinus_octotaenia', 'pseudodax_moluccanus', 'pseudojuloides_cerasinus', 'pseudolabrus_biserialis', 'pseudolabrus_guentheri', 'pseudolabrus_luculentus', 'pseudorhombus_argus', 'pseudorhombus_arsius', 'pseudorhombus_elevatus', 'pteragogus_cryptus', 'pteragogus_enneacanthus', 'pteragogus_flagellifer', 'rastrelliger_kanagurta', 'retropinna_semoni', 'rhabdosargus_sarba', 'rhincodon_typus', 'rhizoprionodon_acutus', 'ruvettus_pretiosus', 'samaris_cristatus', 'samariscus_triocellatus', 'sarda_orientalis', 'sardinella_albella', 'sardinella_gibbosa', 'sardinops_sagax', 'scaevius_milii', 'scolopsis_affinis', 'scolopsis_bilineata', 'scolopsis_lineata', 'scolopsis_margaritifer', 'scolopsis_monogramma', 'scolopsis_trilineata', 'scolopsis_vosmeri', 'scolopsis_xenochrous', 'scomberoides_commersonnianus', 'scomberoides_lysan', 'scomberomorus_commerson', 'selar_crumenophthalmus', 'selaroides_leptolepis', 'seriola_dumerili', 'seriola_hippos', 'seriola_rivoliana', 'seriolina_nigrofasciata', 'serranocirrhitus_latus', 'sillago_ciliata', 'sillago_sihama', 'soleichthys_heterorhinos', 'sphyraena_barracuda', 'sphyraena_forsteri', 'sphyraena_jello', 'sphyraena_obtusata', 'stegostoma_fasciatum', 'stethojulis_bandanensis', 'stethojulis_interrupta', 'stethojulis_strigiventer', 'stethojulis_trilineata', 'stolephorus_waitei', 'suezichthys_arquatus', 'suezichthys_cyanolaemus', 'suezichthys_gracilis', 'symphorichthys_spilurus', 'symphorus_nematophorus', 'thalassoma_amblycephalum', 'thalassoma_hardwicke', 'thalassoma_jansenii', 'thalassoma_lunare', 'thalassoma_lutescens', 'thalassoma_nigrofasciatum', 'thalassoma_purpureum', 'thalassoma_quinquevittatum', 'thalassoma_trilobatum', 'thryssa_baelama', 'thryssa_hamiltonii', 'thunnus_alalunga', 'thunnus_albacares', 'thysanophrys_celebica', 'thysanophrys_chiltonae', 'trachichthys_australis', 'trachinotus_baillonii', 'trachinotus_blochii', 'trachinotus_botla', 'trachypoma_macracanthus', 'triaenodon_obesus', 'uraspis_secunda', 'valamugil_cunnesius', 'valamugil_engeli', 'valamugil_seheli', 'variola_albimarginata', 'variola_louti', 'wattsia_mossambica', 'wetmorella_albofasciata', 'wetmorella_nigropinnata', 'xiphocheilus_typus', 'zenarchopterus_dispar', 'zeus_faber']"
   ]
  },
  {
   "cell_type": "markdown",
   "id": "f6723874-0ae0-4037-a703-35ef7c1cad23",
   "metadata": {},
   "source": [
    "### Access informationin the dataframe"
   ]
  },
  {
   "cell_type": "code",
   "execution_count": 2,
   "id": "8d993a21-78e7-48ff-b6df-a4e085e2fc59",
   "metadata": {
    "tags": []
   },
   "outputs": [],
   "source": [
    "# Formatting the column display in jupyter labs\n",
    "import pandas as pd\n",
    "\n",
    "pd.set_option('display.max_columns', None)\n",
    "pd.set_option(\"display.max_rows\", 200)\n",
    "pd.set_option('display.max_colwidth', None)"
   ]
  },
  {
   "cell_type": "code",
   "execution_count": 3,
   "id": "a80b6b46-6fcb-49e7-8dab-a6b67abc621a",
   "metadata": {
    "tags": []
   },
   "outputs": [],
   "source": [
    "import pandas as pd\n",
    "\n",
    "df_fishfacts = pd.read_csv('data/fish_data/fish_facts.csv')\n"
   ]
  },
  {
   "cell_type": "code",
   "execution_count": 4,
   "id": "84a4f34b-e6f6-46a4-8135-77fb1443e06e",
   "metadata": {
    "tags": []
   },
   "outputs": [
    {
     "data": {
      "text/plain": [
       "Index(['Unnamed: 0', 'class_names', 'class_names_transformed', 'taxonid',\n",
       "       'scientific_name', 'kingdom', 'phylum', 'class', 'order', 'family',\n",
       "       'genus', 'main_common_name', 'authority', 'published_year',\n",
       "       'assessment_date', 'category', 'criteria', 'population_trend',\n",
       "       'marine_system', 'freshwater_system', 'terrestrial_system', 'assessor',\n",
       "       'reviewer', 'aoo_km2', 'eoo_km2', 'elevation_upper', 'elevation_lower',\n",
       "       'depth_upper', 'depth_lower', 'errata_flag', 'errata_reason',\n",
       "       'amended_flag', 'amended_reason'],\n",
       "      dtype='object')"
      ]
     },
     "execution_count": 4,
     "metadata": {},
     "output_type": "execute_result"
    }
   ],
   "source": [
    "df_fishfacts.columns"
   ]
  },
  {
   "cell_type": "code",
   "execution_count": 11,
   "id": "5e2160e5-aae2-4be8-80a0-c17fef6578b4",
   "metadata": {
    "tags": []
   },
   "outputs": [
    {
     "data": {
      "text/plain": [
       "Series([], Name: habitat, dtype: object)"
      ]
     },
     "execution_count": 11,
     "metadata": {},
     "output_type": "execute_result"
    }
   ],
   "source": [
    "species = 'Istiophorus platypterus'\n",
    "info_column = 'habitat'\n",
    "\n",
    "df_fishfacts[df_fishfacts['class_names'] == species][info_column]"
   ]
  },
  {
   "cell_type": "code",
   "execution_count": 12,
   "id": "05816c84-e3d0-47cb-b546-8b06c0076a7e",
   "metadata": {
    "tags": []
   },
   "outputs": [
    {
     "data": {
      "text/html": [
       "<div>\n",
       "<style scoped>\n",
       "    .dataframe tbody tr th:only-of-type {\n",
       "        vertical-align: middle;\n",
       "    }\n",
       "\n",
       "    .dataframe tbody tr th {\n",
       "        vertical-align: top;\n",
       "    }\n",
       "\n",
       "    .dataframe thead th {\n",
       "        text-align: right;\n",
       "    }\n",
       "</style>\n",
       "<table border=\"1\" class=\"dataframe\">\n",
       "  <thead>\n",
       "    <tr style=\"text-align: right;\">\n",
       "      <th></th>\n",
       "      <th>Unnamed: 0</th>\n",
       "      <th>class_names</th>\n",
       "      <th>class_names_transformed</th>\n",
       "      <th>taxonid</th>\n",
       "      <th>scientific_name</th>\n",
       "      <th>kingdom</th>\n",
       "      <th>phylum</th>\n",
       "      <th>class</th>\n",
       "      <th>order</th>\n",
       "      <th>family</th>\n",
       "      <th>genus</th>\n",
       "      <th>main_common_name</th>\n",
       "      <th>authority</th>\n",
       "      <th>published_year</th>\n",
       "      <th>assessment_date</th>\n",
       "      <th>category</th>\n",
       "      <th>criteria</th>\n",
       "      <th>population_trend</th>\n",
       "      <th>marine_system</th>\n",
       "      <th>freshwater_system</th>\n",
       "      <th>terrestrial_system</th>\n",
       "      <th>assessor</th>\n",
       "      <th>reviewer</th>\n",
       "      <th>aoo_km2</th>\n",
       "      <th>eoo_km2</th>\n",
       "      <th>elevation_upper</th>\n",
       "      <th>elevation_lower</th>\n",
       "      <th>depth_upper</th>\n",
       "      <th>depth_lower</th>\n",
       "      <th>errata_flag</th>\n",
       "      <th>errata_reason</th>\n",
       "      <th>amended_flag</th>\n",
       "      <th>amended_reason</th>\n",
       "    </tr>\n",
       "  </thead>\n",
       "  <tbody>\n",
       "    <tr>\n",
       "      <th>0</th>\n",
       "      <td>0</td>\n",
       "      <td>A73EGS-P</td>\n",
       "      <td>A73egs-p</td>\n",
       "      <td>0</td>\n",
       "      <td>NaN</td>\n",
       "      <td>NaN</td>\n",
       "      <td>NaN</td>\n",
       "      <td>NaN</td>\n",
       "      <td>NaN</td>\n",
       "      <td>NaN</td>\n",
       "      <td>NaN</td>\n",
       "      <td>NaN</td>\n",
       "      <td>NaN</td>\n",
       "      <td>NaN</td>\n",
       "      <td>NaN</td>\n",
       "      <td>NaN</td>\n",
       "      <td>NaN</td>\n",
       "      <td>NaN</td>\n",
       "      <td>NaN</td>\n",
       "      <td>NaN</td>\n",
       "      <td>NaN</td>\n",
       "      <td>NaN</td>\n",
       "      <td>NaN</td>\n",
       "      <td>NaN</td>\n",
       "      <td>NaN</td>\n",
       "      <td>NaN</td>\n",
       "      <td>NaN</td>\n",
       "      <td>NaN</td>\n",
       "      <td>NaN</td>\n",
       "      <td>NaN</td>\n",
       "      <td>NaN</td>\n",
       "      <td>NaN</td>\n",
       "      <td>NaN</td>\n",
       "    </tr>\n",
       "    <tr>\n",
       "      <th>1</th>\n",
       "      <td>1</td>\n",
       "      <td>CUNWCB-Y</td>\n",
       "      <td>Cunwcb-y</td>\n",
       "      <td>0</td>\n",
       "      <td>NaN</td>\n",
       "      <td>NaN</td>\n",
       "      <td>NaN</td>\n",
       "      <td>NaN</td>\n",
       "      <td>NaN</td>\n",
       "      <td>NaN</td>\n",
       "      <td>NaN</td>\n",
       "      <td>NaN</td>\n",
       "      <td>NaN</td>\n",
       "      <td>NaN</td>\n",
       "      <td>NaN</td>\n",
       "      <td>NaN</td>\n",
       "      <td>NaN</td>\n",
       "      <td>NaN</td>\n",
       "      <td>NaN</td>\n",
       "      <td>NaN</td>\n",
       "      <td>NaN</td>\n",
       "      <td>NaN</td>\n",
       "      <td>NaN</td>\n",
       "      <td>NaN</td>\n",
       "      <td>NaN</td>\n",
       "      <td>NaN</td>\n",
       "      <td>NaN</td>\n",
       "      <td>NaN</td>\n",
       "      <td>NaN</td>\n",
       "      <td>NaN</td>\n",
       "      <td>NaN</td>\n",
       "      <td>NaN</td>\n",
       "      <td>NaN</td>\n",
       "    </tr>\n",
       "    <tr>\n",
       "      <th>2</th>\n",
       "      <td>2</td>\n",
       "      <td>Istiophorus_platypterus</td>\n",
       "      <td>Istiophorus platypterus</td>\n",
       "      <td>170338</td>\n",
       "      <td>Istiophorus platypterus</td>\n",
       "      <td>ANIMALIA</td>\n",
       "      <td>CHORDATA</td>\n",
       "      <td>ACTINOPTERYGII</td>\n",
       "      <td>PERCIFORMES</td>\n",
       "      <td>ISTIOPHORIDAE</td>\n",
       "      <td>Istiophorus</td>\n",
       "      <td>Sailfish</td>\n",
       "      <td>(Shaw, 1792)</td>\n",
       "      <td>2022.0</td>\n",
       "      <td>2021-05-01</td>\n",
       "      <td>VU</td>\n",
       "      <td>A2bd</td>\n",
       "      <td>Decreasing</td>\n",
       "      <td>True</td>\n",
       "      <td>False</td>\n",
       "      <td>False</td>\n",
       "      <td>Collette, B.B., Di Natale, A., Fox, W., Graves, J., Juan Jorda, M., Pohlot, B., Restrepo, V. &amp; Schratwieser, J.</td>\n",
       "      <td>Polidoro, B., Kemppinen, K., Sun, C.-L., Pollard, D.A. &amp; Hinton, M.</td>\n",
       "      <td>None</td>\n",
       "      <td>None</td>\n",
       "      <td>None</td>\n",
       "      <td>None</td>\n",
       "      <td>0</td>\n",
       "      <td>500</td>\n",
       "      <td>None</td>\n",
       "      <td>None</td>\n",
       "      <td>None</td>\n",
       "      <td>None</td>\n",
       "    </tr>\n",
       "  </tbody>\n",
       "</table>\n",
       "</div>"
      ],
      "text/plain": [
       "   Unnamed: 0              class_names  class_names_transformed  taxonid  \\\n",
       "0           0                 A73EGS-P                 A73egs-p        0   \n",
       "1           1                 CUNWCB-Y                 Cunwcb-y        0   \n",
       "2           2  Istiophorus_platypterus  Istiophorus platypterus   170338   \n",
       "\n",
       "           scientific_name   kingdom    phylum           class        order  \\\n",
       "0                      NaN       NaN       NaN             NaN          NaN   \n",
       "1                      NaN       NaN       NaN             NaN          NaN   \n",
       "2  Istiophorus platypterus  ANIMALIA  CHORDATA  ACTINOPTERYGII  PERCIFORMES   \n",
       "\n",
       "          family        genus main_common_name     authority  published_year  \\\n",
       "0            NaN          NaN              NaN           NaN             NaN   \n",
       "1            NaN          NaN              NaN           NaN             NaN   \n",
       "2  ISTIOPHORIDAE  Istiophorus         Sailfish  (Shaw, 1792)          2022.0   \n",
       "\n",
       "  assessment_date category criteria population_trend marine_system  \\\n",
       "0             NaN      NaN      NaN              NaN           NaN   \n",
       "1             NaN      NaN      NaN              NaN           NaN   \n",
       "2      2021-05-01       VU     A2bd       Decreasing          True   \n",
       "\n",
       "  freshwater_system terrestrial_system  \\\n",
       "0               NaN                NaN   \n",
       "1               NaN                NaN   \n",
       "2             False              False   \n",
       "\n",
       "                                                                                                          assessor  \\\n",
       "0                                                                                                              NaN   \n",
       "1                                                                                                              NaN   \n",
       "2  Collette, B.B., Di Natale, A., Fox, W., Graves, J., Juan Jorda, M., Pohlot, B., Restrepo, V. & Schratwieser, J.   \n",
       "\n",
       "                                                              reviewer  \\\n",
       "0                                                                  NaN   \n",
       "1                                                                  NaN   \n",
       "2  Polidoro, B., Kemppinen, K., Sun, C.-L., Pollard, D.A. & Hinton, M.   \n",
       "\n",
       "  aoo_km2 eoo_km2 elevation_upper elevation_lower depth_upper depth_lower  \\\n",
       "0     NaN     NaN             NaN             NaN         NaN         NaN   \n",
       "1     NaN     NaN             NaN             NaN         NaN         NaN   \n",
       "2    None    None            None            None           0         500   \n",
       "\n",
       "  errata_flag errata_reason amended_flag amended_reason  \n",
       "0         NaN           NaN          NaN            NaN  \n",
       "1         NaN           NaN          NaN            NaN  \n",
       "2        None          None         None           None  "
      ]
     },
     "execution_count": 12,
     "metadata": {},
     "output_type": "execute_result"
    }
   ],
   "source": [
    "df_fishfacts.head(3)"
   ]
  },
  {
   "cell_type": "code",
   "execution_count": 23,
   "id": "89e2546d-3098-41e9-b3ed-6e2769117349",
   "metadata": {
    "tags": []
   },
   "outputs": [
    {
     "data": {
      "text/plain": [
       "'VU'"
      ]
     },
     "execution_count": 23,
     "metadata": {},
     "output_type": "execute_result"
    }
   ],
   "source": [
    "# workaround to JUST get the string from a query\n",
    "\n",
    "conservation_status = df_fishfacts[df_fishfacts['class_names_transformed'] == species][\"category\"]\n",
    "conservation_status = list(conservation_status)\n",
    "conservation_status[0]\n"
   ]
  },
  {
   "cell_type": "code",
   "execution_count": 21,
   "id": "59d5117b-86b8-461f-8838-850706adcee8",
   "metadata": {
    "tags": []
   },
   "outputs": [
    {
     "data": {
      "text/plain": [
       "2    VU\n",
       "Name: category, dtype: object"
      ]
     },
     "execution_count": 21,
     "metadata": {},
     "output_type": "execute_result"
    }
   ],
   "source": [
    "print(df_species.loc[df_species['class_names_transformed'] == species]['category'])\n",
    "print(df_fishfacts[df_fishfacts['class_names_transformed'] == species][\"category\"])\n"
   ]
  },
  {
   "cell_type": "markdown",
   "id": "973a1467-d8f3-40a0-b173-2406a08d6b2c",
   "metadata": {},
   "source": [
    "### IUCN category labels"
   ]
  },
  {
   "cell_type": "markdown",
   "id": "fc9495ad-4e41-4fda-823e-aa08d54611d4",
   "metadata": {},
   "source": [
    "* Extinct (EX) – beyond reasonable doubt that the species is no longer extant.\n",
    "* Extinct in the wild (EW) – survives only in captivity, cultivation and/or outside native range, as presumed after exhaustive surveys.\n",
    "* Critically endangered (CR) – in a particularly and extremely critical state.\n",
    "* Endangered (EN) – very high risk of extinction in the wild, meets any of criteria A to E for Endangered.\n",
    "* Vulnerable (VU) – meets one of the 5 Red List criteria and thus considered to be at high risk of unnatural (human-caused) extinction without further human intervention.\n",
    "* Near threatened (NT) – close to being endangered in the near future.\n",
    "* Least concern (LC) – unlikely to become endangered or extinct in the near future.\n",
    "* Data deficient (DD)\n",
    "* Not evaluated (NE)"
   ]
  }
 ],
 "metadata": {
  "kernelspec": {
   "display_name": "Python 3 (ipykernel)",
   "language": "python",
   "name": "python3"
  },
  "language_info": {
   "codemirror_mode": {
    "name": "ipython",
    "version": 3
   },
   "file_extension": ".py",
   "mimetype": "text/x-python",
   "name": "python",
   "nbconvert_exporter": "python",
   "pygments_lexer": "ipython3",
   "version": "3.9.8"
  }
 },
 "nbformat": 4,
 "nbformat_minor": 5
}
