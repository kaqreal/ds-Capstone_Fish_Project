{
 "cells": [
  {
   "cell_type": "markdown",
   "id": "1669fa5d-586a-4596-8315-c893a5cfa54f",
   "metadata": {
    "id": "1669fa5d-586a-4596-8315-c893a5cfa54f"
   },
   "source": [
    "# vision transformer tutorial \n",
    "\n",
    "[keras tutorial](https://keras.io/examples/vision/image_classification_with_vision_transformer/)\n",
    "\n",
    "[youtube explanation of the tutorial](https://www.youtube.com/watch?v=i2_zJ0ANrw0)"
   ]
  },
  {
   "cell_type": "code",
   "execution_count": null,
   "id": "5HWGFr9jhh6Q",
   "metadata": {
    "colab": {
     "base_uri": "https://localhost:8080/"
    },
    "executionInfo": {
     "elapsed": 21673,
     "status": "ok",
     "timestamp": 1675625054709,
     "user": {
      "displayName": "Niels Christian Lory",
      "userId": "13808981766748190109"
     },
     "user_tz": -60
    },
    "id": "5HWGFr9jhh6Q",
    "outputId": "3e2b8ef9-270e-4d33-8d2c-4d18f5561a65"
   },
   "outputs": [],
   "source": [
    "#from google.colab import drive\n",
    "#drive.mount('/content/drive')"
   ]
  },
  {
   "cell_type": "markdown",
   "id": "e9670b84-0e39-49ba-a869-1cb946efb101",
   "metadata": {
    "id": "e9670b84-0e39-49ba-a869-1cb946efb101"
   },
   "source": [
    "# Setup"
   ]
  },
  {
   "cell_type": "code",
   "execution_count": 81,
   "id": "3792759b-2dba-451f-98bb-0926544672b1",
   "metadata": {
    "colab": {
     "base_uri": "https://localhost:8080/"
    },
    "executionInfo": {
     "elapsed": 5332,
     "status": "ok",
     "timestamp": 1675625071910,
     "user": {
      "displayName": "Niels Christian Lory",
      "userId": "13808981766748190109"
     },
     "user_tz": -60
    },
    "id": "3792759b-2dba-451f-98bb-0926544672b1",
    "outputId": "5239ff3f-3533-48a6-aa0a-e75b24bb9fd8",
    "tags": []
   },
   "outputs": [
    {
     "name": "stdout",
     "output_type": "stream",
     "text": [
      "Requirement already satisfied: tensorflow-addons in /Users/nlory/.pyenv/versions/3.9.8/lib/python3.9/site-packages (0.19.0)\n",
      "Requirement already satisfied: typeguard>=2.7 in /Users/nlory/.pyenv/versions/3.9.8/lib/python3.9/site-packages (from tensorflow-addons) (2.13.3)\n",
      "Requirement already satisfied: packaging in /Users/nlory/.pyenv/versions/3.9.8/lib/python3.9/site-packages (from tensorflow-addons) (21.3)\n",
      "Requirement already satisfied: pyparsing!=3.0.5,>=2.0.2 in /Users/nlory/.pyenv/versions/3.9.8/lib/python3.9/site-packages (from packaging->tensorflow-addons) (3.0.9)\n"
     ]
    }
   ],
   "source": [
    "!pip install -U tensorflow-addons"
   ]
  },
  {
   "cell_type": "code",
   "execution_count": 12,
   "id": "c17985ec-d5c1-43be-83dc-7ae6f1609023",
   "metadata": {
    "executionInfo": {
     "elapsed": 2537,
     "status": "ok",
     "timestamp": 1675625076128,
     "user": {
      "displayName": "Niels Christian Lory",
      "userId": "13808981766748190109"
     },
     "user_tz": -60
    },
    "id": "c17985ec-d5c1-43be-83dc-7ae6f1609023",
    "tags": []
   },
   "outputs": [],
   "source": [
    "#!pip install numpy\n",
    "\n",
    "import numpy as np\n",
    "import tensorflow as tf\n",
    "from tensorflow import keras\n",
    "from tensorflow.keras import layers\n",
    "import tensorflow_addons as tfa\n"
   ]
  },
  {
   "cell_type": "markdown",
   "id": "33d0a6f7-fb24-4192-a0a6-bc04da13a25b",
   "metadata": {
    "id": "33d0a6f7-fb24-4192-a0a6-bc04da13a25b"
   },
   "source": [
    "# load data from disk"
   ]
  },
  {
   "cell_type": "code",
   "execution_count": 11,
   "id": "4777af9c-5594-4c7a-aefe-bbf305ba7a14",
   "metadata": {
    "executionInfo": {
     "elapsed": 1534,
     "status": "ok",
     "timestamp": 1675625080700,
     "user": {
      "displayName": "Niels Christian Lory",
      "userId": "13808981766748190109"
     },
     "user_tz": -60
    },
    "id": "4777af9c-5594-4c7a-aefe-bbf305ba7a14",
    "tags": []
   },
   "outputs": [],
   "source": [
    "#!pip install numpy\n",
    "\n",
    "import numpy as np\n",
    "import tensorflow as tf\n",
    "from tensorflow import keras\n",
    "from tensorflow.keras import layers\n",
    "import tensorflow_addons as tfa\n",
    "\n",
    "import os\n",
    "import keras\n",
    "from sklearn.model_selection import train_test_split\n",
    "from keras.preprocessing import image\n",
    "import PIL\n",
    "\n"
   ]
  },
  {
   "cell_type": "code",
   "execution_count": 84,
   "id": "1b7fea7a-6615-464b-8bbb-e409e3ab68b9",
   "metadata": {
    "executionInfo": {
     "elapsed": 318,
     "status": "ok",
     "timestamp": 1675625084031,
     "user": {
      "displayName": "Niels Christian Lory",
      "userId": "13808981766748190109"
     },
     "user_tz": -60
    },
    "id": "1b7fea7a-6615-464b-8bbb-e409e3ab68b9",
    "tags": []
   },
   "outputs": [],
   "source": [
    "data_dir_str = 'data/fish_data/images/numbered'\n",
    "#data_dir_str = \"/content/drive/MyDrive/colab_notebooks/data/fish_data/numbered_cropped_raw\""
   ]
  },
  {
   "cell_type": "code",
   "execution_count": 85,
   "id": "30ebf8bd-7fab-4277-afbc-55cc1ea07c9c",
   "metadata": {
    "id": "30ebf8bd-7fab-4277-afbc-55cc1ea07c9c",
    "tags": []
   },
   "outputs": [],
   "source": [
    "# import images and create x_train, x_test, y_train and y_test \n",
    "\n",
    "import os\n",
    "import numpy as np\n",
    "from PIL import Image\n",
    "\n",
    "dim_both = 224\n",
    "dim_1 = dim_both\n",
    "dim_2 = dim_both\n",
    "\n",
    "def load_images_from_folder(folder, dim_1=32, dim_2=32):\n",
    "    images = []\n",
    "    labels = []\n",
    "    target_shape = (dim_1, dim_2, 3)\n",
    "    classes = os.listdir(folder)\n",
    "    for cls in classes:\n",
    "        class_folder = os.path.join(folder, cls)\n",
    "        if not os.path.isdir(class_folder):\n",
    "            continue\n",
    "        for filename in os.listdir(class_folder):\n",
    "            img = Image.open(os.path.join(class_folder, filename))\n",
    "            img = img.resize(target_shape[:2])\n",
    "            img = np.array(img)\n",
    "            if img.shape == target_shape:\n",
    "                images.append(img)\n",
    "                labels.append(cls)\n",
    "    return np.array(images), np.array(labels)\n",
    "\n",
    "\n",
    "X, y = load_images_from_folder(data_dir_str, dim_1=224, dim_2=224)\n",
    "\n",
    "x_train, x_test, y_train, y_test = train_test_split(X, y, test_size=0.1, random_state=42)"
   ]
  },
  {
   "cell_type": "code",
   "execution_count": 86,
   "id": "59c5ca83-59b9-4e2d-b547-3d56b28a4a97",
   "metadata": {
    "colab": {
     "base_uri": "https://localhost:8080/"
    },
    "executionInfo": {
     "elapsed": 27,
     "status": "ok",
     "timestamp": 1675623093317,
     "user": {
      "displayName": "Niels Christian Lory",
      "userId": "13808981766748190109"
     },
     "user_tz": -60
    },
    "id": "59c5ca83-59b9-4e2d-b547-3d56b28a4a97",
    "outputId": "1c27a7ad-4424-471d-d29c-42f744468b49",
    "tags": []
   },
   "outputs": [
    {
     "data": {
      "text/plain": [
       "numpy.ndarray"
      ]
     },
     "execution_count": 86,
     "metadata": {},
     "output_type": "execute_result"
    }
   ],
   "source": [
    "type(x_train)"
   ]
  },
  {
   "cell_type": "markdown",
   "id": "c09b233e-505a-4ffa-9f73-81c3ac571227",
   "metadata": {
    "id": "c09b233e-505a-4ffa-9f73-81c3ac571227"
   },
   "source": [
    "### Adjust y_train and y_test format to work with the vision transfomer model"
   ]
  },
  {
   "cell_type": "code",
   "execution_count": 36,
   "id": "8a3b27db-1dbd-4a40-90cd-0d6bb38bd45f",
   "metadata": {
    "executionInfo": {
     "elapsed": 22,
     "status": "ok",
     "timestamp": 1675623093318,
     "user": {
      "displayName": "Niels Christian Lory",
      "userId": "13808981766748190109"
     },
     "user_tz": -60
    },
    "id": "8a3b27db-1dbd-4a40-90cd-0d6bb38bd45f",
    "tags": []
   },
   "outputs": [],
   "source": [
    "# define class_names\n",
    "class_names = ['A73EGS-P', 'CUNWCB-Y', 'Istiophorus_platypterus', 'P1ROZC-Z', 'PQV7DP-S', 'acanthaluteres_brownii', 'acanthaluteres_spilomelanurus', 'acanthaluteres_vittiger', 'acanthistius_cinctus', 'acanthopagrus_australis', 'acanthopagrus_berda', 'acanthopagrus_latus', 'achoerodus_gouldii', 'achoerodus_viridis', 'acreichthys_tomentosus', 'aesopia_cornuta', 'aethaloperca_rogaa', 'alectis_ciliaris', 'alectis_indica', 'alepes_kleinii', 'aluterus_monoceros', 'aluterus_scriptus', 'amanses_scopas', 'anampses_caeruleopunctatus', 'anampses_elegans', 'anampses_femininus', 'anampses_geographicus', 'anampses_lennardi', 'anampses_melanurus', 'anampses_meleagrides', 'anampses_neoguinaicus', 'anampses_twistii', 'anodontostoma_chacunda', 'anyperodon_leucogrammicus', 'aphareus_furca', 'aphareus_rutilans', 'aprion_virescens', 'argyrops_spinifer', 'aseraggodes_melanostictus', 'atractoscion_aequidens', 'atule_mate', 'auxis_rochei', 'auxis_thazard', 'bathylagichthys_greyae', 'beryx_decadactylus', 'bodianus_anthioides', 'bodianus_axillaris', 'bodianus_bilunulatus', 'bodianus_bimaculatus', 'bodianus_diana', 'bodianus_loxozonus', 'bodianus_mesothorax', 'bodianus_perditio', 'bodianus_unimaculatus', 'bodianus_vulpinus', 'bothus_mancus', 'bothus_myriaster', 'bothus_pantherinus', 'brachaluteres_jacksonianus', 'brachirus_orientalis', 'caesioperca_lepidopterus', 'cantherhines_dumerilii', 'cantherhines_fronticinctus', 'cantherhines_pardalis', 'cantheschenia_grandisquamis', 'caprodon_longimanus', 'caprodon_schlegelii', 'carangoides_caeruleopinnatus', 'carangoides_chrysophrys', 'carangoides_equula', 'carangoides_ferdau', 'carangoides_fulvoguttatus', 'carangoides_hedlandensis', 'carangoides_malabaricus', 'carangoides_orthogrammus', 'carangoides_plagiotaenia', 'caranx_ignobilis', 'caranx_lugubris', 'caranx_melampygus', 'caranx_sexfasciatus', 'carcharhinus_albimarginatus', 'carcharhinus_amblyrhynchos', 'carcharhinus_falciformis', 'carcharhinus_galapagensis', 'carcharhinus_limbatus', 'carcharhinus_melanopterus', 'carcharhinus_obscurus', 'carcharhinus_plumbeus', 'carcharhinus_sorrah', 'centroberyx_affinis', 'centrogenys_vaigiensis', 'centroscymnus_coelolepis', 'cephalopholis_argus', 'cephalopholis_boenak', 'cephalopholis_cyanostigma', 'cephalopholis_formosa', 'cephalopholis_igarashiensis', 'cephalopholis_leopardus', 'cephalopholis_microprion', 'cephalopholis_miniata', 'cephalopholis_sexmaculata', 'cephalopholis_sonnerati', 'cephalopholis_spiloparaea', 'chascanopsetta_lugubris', 'cheilinus_chlorourus', 'cheilinus_fasciatus', 'cheilinus_oxycephalus', 'cheilinus_trilobatus', 'cheilinus_undulatus', 'cheilio_inermis', 'cheilodactylus_ephippium', 'cheilodactylus_fuscus', 'cheilodactylus_spectabilis', 'cheilodactylus_vestitus', 'chelidonichthys_kumu', 'chirocentrus_dorab', 'chirocentrus_nudus', 'choerodon_anchorago', 'choerodon_cauteroma', 'choerodon_cyanodus', 'choerodon_fasciatus', 'choerodon_graphicus', 'choerodon_jordani', 'choerodon_rubescens', 'choerodon_schoenleinii', 'choerodon_venustus', 'choerodon_vitta', 'choerodon_zamboangae', 'chromileptes_altivelis', 'cirrhilabrus_bathyphilus', 'cirrhilabrus_condei', 'cirrhilabrus_cyanopleura', 'cirrhilabrus_exquisitus', 'cirrhilabrus_laboutei', 'cirrhilabrus_punctatus', 'cirrhilabrus_scottorum', 'cirrhilabrus_temminckii', 'coris_aygula', 'coris_batuensis', 'coris_bulbifrons', 'coris_caudimacula', 'coris_dorsomacula', 'coris_gaimard', 'coris_picta', 'coris_pictoides', 'coris_sandeyeri', 'crenimugil_crenilabis', 'cymbacephalus_nematophthalmus', 'cymolutes_praetextatus', 'cymolutes_torquatus', 'cynoglossus_puncticeps', 'cyttopsis_rosea', 'dactylophora_nigricans', 'decapterus_macrosoma', 'decapterus_russelli', 'diproctacanthus_xanthurus', 'dotalabrus_aurantiacus', 'elagatis_bipinnulata', 'epibulus_insidiator', 'epinephelus_areolatus', 'epinephelus_bleekeri', 'epinephelus_chlorostigma', 'epinephelus_coeruleopunctatus', 'epinephelus_coioides', 'epinephelus_corallicola', 'epinephelus_cyanopodus', 'epinephelus_epistictus', 'epinephelus_fasciatus', 'epinephelus_fuscoguttatus', 'epinephelus_hexagonatus', 'epinephelus_howlandi', 'epinephelus_lanceolatus', 'epinephelus_latifasciatus', 'epinephelus_macrospilos', 'epinephelus_maculatus', 'epinephelus_melanostigma', 'epinephelus_merra', 'epinephelus_morrhua', 'epinephelus_multinotatus', 'epinephelus_ongus', 'epinephelus_polyphekadion', 'epinephelus_quoyanus', 'epinephelus_radiatus', 'epinephelus_retouti', 'epinephelus_rivulatus', 'epinephelus_sexfasciatus', 'epinephelus_spilotoceps', 'epinephelus_tauvina', 'epinephelus_undulatostriatus', 'etelis_carbunculus', 'etelis_coruscans', 'eubalichthys_cyanoura', 'eubalichthys_mosaicus', 'eupetrichthys_angustipes', 'euthynnus_affinis', 'evistias_acutirostris', 'gempylus_serpens', 'gnathanodon_speciosus', 'gnathodentex_aureolineatus', 'gracila_albomarginata', 'gymnocranius_audleyi', 'gymnocranius_euanus', 'gymnocranius_grandoculis', 'gymnocranius_microdon', 'gymnosarda_unicolor', 'halichoeres_argus', 'halichoeres_biocellatus', 'halichoeres_chloropterus', 'halichoeres_chrysus', 'halichoeres_hartzfeldii', 'halichoeres_hortulanus', 'halichoeres_leucurus', 'halichoeres_margaritaceus', 'halichoeres_marginatus', 'halichoeres_melanochir', 'halichoeres_melanurus', 'halichoeres_melasmapomus', 'halichoeres_miniatus', 'halichoeres_nebulosus', 'halichoeres_nigrescens', 'halichoeres_scapularis', 'halichoeres_trimaculatus', 'harriotta_raleighana', 'hemigymnus_fasciatus', 'hemigymnus_melapterus', 'hemiramphus_far', 'herklotsichthys_quadrimaculatus', 'hologymnosus_annulatus', 'hologymnosus_doliatus', 'hyporhamphus_affinis', 'hyporhamphus_dussumieri', 'inegocia_japonica', 'johnius_borneensis', 'katsuwonus_pelamis', 'labrichthys_unilineatus', 'labroides_bicolor', 'labroides_dimidiatus', 'labroides_pectoralis', 'labropsis_australis', 'labropsis_manabei', 'labropsis_xanthonota', 'latridopsis_forsteri', 'lepidocybium_flavobrunneum', 'leptojulis_cyanopleura', 'lethrinus_amboinensis', 'lethrinus_atkinsoni', 'lethrinus_erythracanthus', 'lethrinus_genivittatus', 'lethrinus_harak', 'lethrinus_lentjan', 'lethrinus_microdon', 'lethrinus_miniatus', 'lethrinus_nebulosus', 'lethrinus_obsoletus', 'lethrinus_olivaceus', 'lethrinus_ornatus', 'lethrinus_rubrioperculatus', 'lethrinus_semicinctus', 'lethrinus_variegatus', 'lethrinus_xanthochilus', 'liopropoma_mitratum', 'liopropoma_susumi', 'liza_subviridis', 'liza_vaigiensis', 'lniistius_aneitensis', 'lniistius_pavo', 'lutjanus_adetii', 'lutjanus_argentimaculatus', 'lutjanus_biguttatus', 'lutjanus_bohar', 'lutjanus_carponotatus', 'lutjanus_decussatus', 'lutjanus_ehrenbergii', 'lutjanus_erythropterus', 'lutjanus_fulviflamma', 'lutjanus_fulvus', 'lutjanus_gibbus', 'lutjanus_johnii', 'lutjanus_kasmira', 'lutjanus_lemniscatus', 'lutjanus_lutjanus', 'lutjanus_malabaricus', 'lutjanus_monostigma', 'lutjanus_quinquelineatus', 'lutjanus_rivulatus', 'lutjanus_russellii', 'lutjanus_sebae', 'lutjanus_semicinctus', 'lutjanus_semicinctus_quoy', 'lutjanus_timoriensis', 'lutjanus_vitta', 'macolor_macularis', 'macolor_niger', 'macropharyngodon_choati', 'macropharyngodon_kuiteri', 'macropharyngodon_meleagris', 'macropharyngodon_negrosensis', 'macropharyngodon_ornatus', 'megalaspis_cordyla', 'meuschenia_australis', 'meuschenia_freycineti', 'meuschenia_galii', 'meuschenia_hippocrepis', 'meuschenia_scaber', 'meuschenia_trachylepis', 'monacanthus_chinensis', 'monotaxis_grandoculis', 'mugim_cephalus', 'naucrates_ductor', 'negaprion_acutidens', 'nemadactylus_douglasii', 'nemipterus_furcosus', 'nemipterus_hexodon', 'nemipterus_peronii', 'netuma_thalassina', 'nibea_soldado', 'notolabrus_fucicola', 'notolabrus_gymnogenis', 'notolabrus_tetricus', 'notorynchus_cepedianus', 'novaculichthys_taeniourus', 'novaculoides_macrolepidotus', 'oedalechilus_labiosus', 'ophthalmolepis_lineolatus', 'otolithes_ruber', 'oxycheilinus_bimaculatus', 'oxycheilinus_celebicus', 'oxycheilinus_digrammus', 'oxycheilinus_unifasciatus', 'oxymonacanthus_longirostris', 'pagrus_auratus', 'paracaesio_kusakarii', 'paracheilinus_filamentosus', 'paraluteres_prionurus', 'paramonacanthus_choirocephalus', 'paraplagusia_bilineata', 'parastromateus_niger', 'pardachirus_hedleyi', 'pardachirus_pavoninus', 'pentapodus_aureofasciatus', 'pentapodus_paradiseus', 'pentapodus_vitta_quoy', 'pervagor_alternans', 'pervagor_aspricaudus', 'pervagor_janthinosoma', 'pervagor_melanocephalus', 'pervagor_nigrolineatus', 'pinjalo_lewisi', 'platycephalus_indicus', 'plectranthias_longimanus', 'plectranthias_nanus', 'plectranthias_winniensis', 'plectropomus_areolatus', 'plectropomus_laevis', 'plectropomus_leopardus', 'plectropomus_maculatus', 'plectropomus_oligacanthus', 'plotosus_lineatus', 'pristipomoides_argyrogrammicus', 'pristipomoides_auricilla', 'pristipomoides_filamentosus', 'pristipomoides_flavipinnis', 'pristipomoides_sieboldii', 'pristipomoides_zonatus', 'promethichthys_prometheus', 'protonibea_diacanthus', 'psettodes_erumei', 'pseudalutarius_nasicornis', 'pseudanthias_bicolor', 'pseudanthias_cooperi', 'pseudanthias_dispar', 'pseudanthias_fasciatus', 'pseudanthias_huchtii', 'pseudanthias_hypselosoma', 'pseudanthias_lori', 'pseudanthias_luzonensis', 'pseudanthias_pictilis', 'pseudanthias_pleurotaenia', 'pseudanthias_rubrizonatus', 'pseudanthias_sheni', 'pseudanthias_smithvanizi', 'pseudanthias_squamipinnis', 'pseudanthias_tuka', 'pseudanthias_ventralis', 'pseudocaranx_dentex', 'pseudocarcharias_kamoharai', 'pseudocheilinus_evanidus', 'pseudocheilinus_hexataenia', 'pseudocheilinus_ocellatus', 'pseudocheilinus_octotaenia', 'pseudodax_moluccanus', 'pseudojuloides_cerasinus', 'pseudolabrus_biserialis', 'pseudolabrus_guentheri', 'pseudolabrus_luculentus', 'pseudorhombus_argus', 'pseudorhombus_arsius', 'pseudorhombus_elevatus', 'pteragogus_cryptus', 'pteragogus_enneacanthus', 'pteragogus_flagellifer', 'rastrelliger_kanagurta', 'retropinna_semoni', 'rhabdosargus_sarba', 'rhincodon_typus', 'rhizoprionodon_acutus', 'ruvettus_pretiosus', 'samaris_cristatus', 'samariscus_triocellatus', 'sarda_orientalis', 'sardinella_albella', 'sardinella_gibbosa', 'sardinops_sagax', 'scaevius_milii', 'scolopsis_affinis', 'scolopsis_bilineata', 'scolopsis_lineata', 'scolopsis_margaritifer', 'scolopsis_monogramma', 'scolopsis_trilineata', 'scolopsis_vosmeri', 'scolopsis_xenochrous', 'scomberoides_commersonnianus', 'scomberoides_lysan', 'scomberomorus_commerson', 'selar_crumenophthalmus', 'selaroides_leptolepis', 'seriola_dumerili', 'seriola_hippos', 'seriola_rivoliana', 'seriolina_nigrofasciata', 'serranocirrhitus_latus', 'sillago_ciliata', 'sillago_sihama', 'soleichthys_heterorhinos', 'sphyraena_barracuda', 'sphyraena_forsteri', 'sphyraena_jello', 'sphyraena_obtusata', 'stegostoma_fasciatum', 'stethojulis_bandanensis', 'stethojulis_interrupta', 'stethojulis_strigiventer', 'stethojulis_trilineata', 'stolephorus_waitei', 'suezichthys_arquatus', 'suezichthys_cyanolaemus', 'suezichthys_gracilis', 'symphorichthys_spilurus', 'symphorus_nematophorus', 'thalassoma_amblycephalum', 'thalassoma_hardwicke', 'thalassoma_jansenii', 'thalassoma_lunare', 'thalassoma_lutescens', 'thalassoma_nigrofasciatum', 'thalassoma_purpureum', 'thalassoma_quinquevittatum', 'thalassoma_trilobatum', 'thryssa_baelama', 'thryssa_hamiltonii', 'thunnus_alalunga', 'thunnus_albacares', 'thysanophrys_celebica', 'thysanophrys_chiltonae', 'trachichthys_australis', 'trachinotus_baillonii', 'trachinotus_blochii', 'trachinotus_botla', 'trachypoma_macracanthus', 'triaenodon_obesus', 'uraspis_secunda', 'valamugil_cunnesius', 'valamugil_engeli', 'valamugil_seheli', 'variola_albimarginata', 'variola_louti', 'wattsia_mossambica', 'wetmorella_albofasciata', 'wetmorella_nigropinnata', 'xiphocheilus_typus', 'zenarchopterus_dispar', 'zeus_faber']"
   ]
  },
  {
   "cell_type": "code",
   "execution_count": 37,
   "id": "a8e277cc-63c9-4b43-9d23-dea3890b9859",
   "metadata": {
    "colab": {
     "base_uri": "https://localhost:8080/"
    },
    "executionInfo": {
     "elapsed": 21,
     "status": "ok",
     "timestamp": 1675623093319,
     "user": {
      "displayName": "Niels Christian Lory",
      "userId": "13808981766748190109"
     },
     "user_tz": -60
    },
    "id": "a8e277cc-63c9-4b43-9d23-dea3890b9859",
    "outputId": "8a9e66e8-78d1-4544-9fce-c5f1258070af",
    "tags": []
   },
   "outputs": [
    {
     "data": {
      "text/plain": [
       "483"
      ]
     },
     "execution_count": 37,
     "metadata": {},
     "output_type": "execute_result"
    }
   ],
   "source": [
    "len(class_names)"
   ]
  },
  {
   "cell_type": "code",
   "execution_count": 38,
   "id": "a8d8eb0c-708b-418c-a3d7-bdec9e3bafcb",
   "metadata": {
    "executionInfo": {
     "elapsed": 16,
     "status": "ok",
     "timestamp": 1675623093319,
     "user": {
      "displayName": "Niels Christian Lory",
      "userId": "13808981766748190109"
     },
     "user_tz": -60
    },
    "id": "a8d8eb0c-708b-418c-a3d7-bdec9e3bafcb",
    "tags": []
   },
   "outputs": [],
   "source": [
    "# creating a dictionary to transorm y to integers\n",
    "class_dict = {key: idx for idx, key in enumerate(class_names)}"
   ]
  },
  {
   "cell_type": "code",
   "execution_count": 39,
   "id": "2611f8f1-591d-4091-ac8b-df218065cfc8",
   "metadata": {
    "executionInfo": {
     "elapsed": 15,
     "status": "ok",
     "timestamp": 1675623093320,
     "user": {
      "displayName": "Niels Christian Lory",
      "userId": "13808981766748190109"
     },
     "user_tz": -60
    },
    "id": "2611f8f1-591d-4091-ac8b-df218065cfc8",
    "tags": []
   },
   "outputs": [],
   "source": [
    "# defining a function to translate y_train and y_test\n",
    "def lookup_dict(input):\n",
    "    list = []\n",
    "    for i in input:\n",
    "        list.append(class_dict[i])\n",
    "    return np.asarray(list)"
   ]
  },
  {
   "cell_type": "code",
   "execution_count": 40,
   "id": "0207b9b9-693a-4a90-9c5e-f862c14c83ec",
   "metadata": {
    "executionInfo": {
     "elapsed": 15,
     "status": "ok",
     "timestamp": 1675623093320,
     "user": {
      "displayName": "Niels Christian Lory",
      "userId": "13808981766748190109"
     },
     "user_tz": -60
    },
    "id": "0207b9b9-693a-4a90-9c5e-f862c14c83ec",
    "tags": []
   },
   "outputs": [],
   "source": [
    "# translating\n",
    "\n",
    "y_train = lookup_dict(y_train)\n",
    "y_test = lookup_dict(y_test)\n"
   ]
  },
  {
   "cell_type": "code",
   "execution_count": 41,
   "id": "ad04d06b-8867-4bd9-9436-6b693aeda45a",
   "metadata": {
    "executionInfo": {
     "elapsed": 388,
     "status": "ok",
     "timestamp": 1675623093694,
     "user": {
      "displayName": "Niels Christian Lory",
      "userId": "13808981766748190109"
     },
     "user_tz": -60
    },
    "id": "ad04d06b-8867-4bd9-9436-6b693aeda45a",
    "tags": []
   },
   "outputs": [],
   "source": [
    "# make y labels a list of lists\n",
    "def make_list_of_lists(input):\n",
    "    list = []\n",
    "    for i in input:\n",
    "        list.append([i])\n",
    "    return np.asarray(list)\n",
    "    "
   ]
  },
  {
   "cell_type": "code",
   "execution_count": 42,
   "id": "d60c9a35-bc3e-4c06-b3ac-ac153276e8eb",
   "metadata": {
    "executionInfo": {
     "elapsed": 17,
     "status": "ok",
     "timestamp": 1675623093695,
     "user": {
      "displayName": "Niels Christian Lory",
      "userId": "13808981766748190109"
     },
     "user_tz": -60
    },
    "id": "d60c9a35-bc3e-4c06-b3ac-ac153276e8eb",
    "tags": []
   },
   "outputs": [],
   "source": [
    "#call function on y_train and y_test\n",
    "\n",
    "y_train = make_list_of_lists(y_train)\n",
    "y_test = make_list_of_lists(y_test)\n"
   ]
  },
  {
   "cell_type": "code",
   "execution_count": 43,
   "id": "600b8f25-aecc-4595-b5e6-e350890cd7b5",
   "metadata": {
    "colab": {
     "base_uri": "https://localhost:8080/"
    },
    "executionInfo": {
     "elapsed": 16,
     "status": "ok",
     "timestamp": 1675623093695,
     "user": {
      "displayName": "Niels Christian Lory",
      "userId": "13808981766748190109"
     },
     "user_tz": -60
    },
    "id": "600b8f25-aecc-4595-b5e6-e350890cd7b5",
    "outputId": "c31ddc03-966c-4c67-edfc-d84e9bf7a8aa",
    "tags": []
   },
   "outputs": [
    {
     "name": "stdout",
     "output_type": "stream",
     "text": [
      "x_train shape: (3301, 224, 224, 3) - y_train shape: (3301, 1)\n",
      "x_test shape: (826, 224, 224, 3) - y_test shape: (826, 1)\n"
     ]
    }
   ],
   "source": [
    "print(f\"x_train shape: {x_train.shape} - y_train shape: {y_train.shape}\")\n",
    "print(f\"x_test shape: {x_test.shape} - y_test shape: {y_test.shape}\")\n"
   ]
  },
  {
   "cell_type": "code",
   "execution_count": 45,
   "id": "507a2c53-3a11-4a6d-9329-b95daca0f6c0",
   "metadata": {
    "colab": {
     "base_uri": "https://localhost:8080/"
    },
    "executionInfo": {
     "elapsed": 12,
     "status": "ok",
     "timestamp": 1675623093696,
     "user": {
      "displayName": "Niels Christian Lory",
      "userId": "13808981766748190109"
     },
     "user_tz": -60
    },
    "id": "507a2c53-3a11-4a6d-9329-b95daca0f6c0",
    "outputId": "fb7e5080-38d3-4c27-e138-13d46d6d2223",
    "tags": []
   },
   "outputs": [
    {
     "data": {
      "text/plain": [
       "826"
      ]
     },
     "execution_count": 45,
     "metadata": {},
     "output_type": "execute_result"
    }
   ],
   "source": [
    "len(y_test)"
   ]
  },
  {
   "cell_type": "code",
   "execution_count": 46,
   "id": "54659765-a9bb-463d-bde9-fcb6f26ae8a8",
   "metadata": {
    "colab": {
     "base_uri": "https://localhost:8080/"
    },
    "executionInfo": {
     "elapsed": 9,
     "status": "ok",
     "timestamp": 1675623093696,
     "user": {
      "displayName": "Niels Christian Lory",
      "userId": "13808981766748190109"
     },
     "user_tz": -60
    },
    "id": "54659765-a9bb-463d-bde9-fcb6f26ae8a8",
    "outputId": "c51a3160-3ed5-4ec5-c337-5c9131ee6ed6",
    "tags": []
   },
   "outputs": [
    {
     "data": {
      "text/plain": [
       "3301"
      ]
     },
     "execution_count": 46,
     "metadata": {},
     "output_type": "execute_result"
    }
   ],
   "source": [
    "len(y_train)"
   ]
  },
  {
   "cell_type": "markdown",
   "id": "c169eb89-cbe7-42d0-87ee-c7d98a78b60a",
   "metadata": {
    "id": "c169eb89-cbe7-42d0-87ee-c7d98a78b60a"
   },
   "source": [
    "# Create model"
   ]
  },
  {
   "cell_type": "markdown",
   "id": "353d472c-9565-4a5b-86d4-bcc8967db330",
   "metadata": {
    "id": "353d472c-9565-4a5b-86d4-bcc8967db330"
   },
   "source": [
    "### Configure the hyperparameters"
   ]
  },
  {
   "cell_type": "markdown",
   "id": "e9ae9f39-f934-41e7-940e-91cacc7bc2b3",
   "metadata": {},
   "source": [
    "<div> <img src=\"images/hyperparameters_vit_keras_tutorial.png\" alt=\"Drawing\" style=\"width: 400px;\"/></div> "
   ]
  },
  {
   "cell_type": "code",
   "execution_count": 17,
   "id": "bbe83685-31c9-40c3-91b6-8a3158241678",
   "metadata": {
    "executionInfo": {
     "elapsed": 7,
     "status": "ok",
     "timestamp": 1675623101075,
     "user": {
      "displayName": "Niels Christian Lory",
      "userId": "13808981766748190109"
     },
     "user_tz": -60
    },
    "id": "bbe83685-31c9-40c3-91b6-8a3158241678",
    "tags": []
   },
   "outputs": [],
   "source": [
    " \n",
    "num_classes = 483\n",
    "input_shape = (224, 224, 3)\n",
    "\n",
    "\n",
    "learning_rate = 0.001\n",
    "weight_decay = 0.0001\n",
    "batch_size = 128\n",
    "num_epochs = 80\n",
    "#num_epochs = 3\n",
    "\n",
    "image_size = 128  # We'll resize input images to this size\n",
    "patch_size = 6  # Size of the patches to be extract from the input images\n",
    "num_patches = (image_size // patch_size) ** 2\n",
    "projection_dim = 96\n",
    "num_heads = 5\n",
    "transformer_units = [\n",
    "    projection_dim * 2,\n",
    "    projection_dim,\n",
    "]  # Size of the transformer layers\n",
    "transformer_layers = 9\n",
    "mlp_head_units = [2048, 1024]  # Size of the dense layers of the final classifier\n"
   ]
  },
  {
   "cell_type": "markdown",
   "id": "b20e6874-f901-4aa7-a353-e3c453799603",
   "metadata": {
    "id": "b20e6874-f901-4aa7-a353-e3c453799603"
   },
   "source": [
    "### Use data augmentation"
   ]
  },
  {
   "cell_type": "code",
   "execution_count": 74,
   "id": "c543b880-0b3b-46e5-ae4f-4bd545b431ae",
   "metadata": {
    "executionInfo": {
     "elapsed": 2802,
     "status": "ok",
     "timestamp": 1675623103871,
     "user": {
      "displayName": "Niels Christian Lory",
      "userId": "13808981766748190109"
     },
     "user_tz": -60
    },
    "id": "c543b880-0b3b-46e5-ae4f-4bd545b431ae",
    "tags": []
   },
   "outputs": [],
   "source": [
    "data_augmentation = keras.Sequential(\n",
    "    [\n",
    "        layers.Normalization(),\n",
    "        layers.Resizing(image_size, image_size),\n",
    "        layers.RandomFlip(\"horizontal\"),\n",
    "        layers.RandomRotation(factor=0.02),\n",
    "        layers.RandomZoom(\n",
    "            height_factor=0.2, width_factor=0.2\n",
    "        ),\n",
    "    ],\n",
    "    name=\"data_augmentation\",\n",
    ")\n",
    "# Compute the mean and the variance of the training data for normalization.\n",
    "data_augmentation.layers[0].adapt(x_train)\n"
   ]
  },
  {
   "cell_type": "markdown",
   "id": "e4a6d560-354d-4839-a5d1-d355f51c5c0b",
   "metadata": {
    "id": "e4a6d560-354d-4839-a5d1-d355f51c5c0b"
   },
   "source": [
    "### Implement multilayer perceptron (MLP)"
   ]
  },
  {
   "cell_type": "code",
   "execution_count": 75,
   "id": "1eeb6314-3895-42cd-82de-530aac5992a3",
   "metadata": {
    "executionInfo": {
     "elapsed": 7,
     "status": "ok",
     "timestamp": 1675623103871,
     "user": {
      "displayName": "Niels Christian Lory",
      "userId": "13808981766748190109"
     },
     "user_tz": -60
    },
    "id": "1eeb6314-3895-42cd-82de-530aac5992a3",
    "tags": []
   },
   "outputs": [],
   "source": [
    "def mlp(x, hidden_units, dropout_rate):\n",
    "    for units in hidden_units:\n",
    "        x = layers.Dense(units, activation=tf.nn.gelu)(x)\n",
    "        x = layers.Dropout(dropout_rate)(x)\n",
    "    return x\n"
   ]
  },
  {
   "cell_type": "markdown",
   "id": "4a3b1655-3d25-4b2a-ba9b-562c95224ec5",
   "metadata": {
    "id": "4a3b1655-3d25-4b2a-ba9b-562c95224ec5"
   },
   "source": [
    "### Implement patch creation as a layer"
   ]
  },
  {
   "cell_type": "code",
   "execution_count": 76,
   "id": "0015cbc0-8ca2-4df5-9578-3d6d974276b7",
   "metadata": {
    "executionInfo": {
     "elapsed": 6,
     "status": "ok",
     "timestamp": 1675623103872,
     "user": {
      "displayName": "Niels Christian Lory",
      "userId": "13808981766748190109"
     },
     "user_tz": -60
    },
    "id": "0015cbc0-8ca2-4df5-9578-3d6d974276b7",
    "tags": []
   },
   "outputs": [],
   "source": [
    "class Patches(layers.Layer):\n",
    "    def __init__(self, patch_size):\n",
    "        super().__init__()\n",
    "        self.patch_size = patch_size\n",
    "\n",
    "    def call(self, images):\n",
    "        batch_size = tf.shape(images)[0]\n",
    "        patches = tf.image.extract_patches(\n",
    "            images=images,\n",
    "            sizes=[1, self.patch_size, self.patch_size, 1],\n",
    "            strides=[1, self.patch_size, self.patch_size, 1],\n",
    "            rates=[1, 1, 1, 1],\n",
    "            padding=\"VALID\",\n",
    "        )\n",
    "        patch_dims = patches.shape[-1]\n",
    "        patches = tf.reshape(patches, [batch_size, -1, patch_dims])\n",
    "        return patches\n"
   ]
  },
  {
   "cell_type": "markdown",
   "id": "684a5130-85f2-4399-896b-8e2d42d1696f",
   "metadata": {
    "id": "684a5130-85f2-4399-896b-8e2d42d1696f"
   },
   "source": [
    "### Let's display patches for a sample image"
   ]
  },
  {
   "cell_type": "code",
   "execution_count": 77,
   "id": "ccc4db07-9a39-4e16-86af-254d2ca7722a",
   "metadata": {
    "colab": {
     "base_uri": "https://localhost:8080/",
     "height": 553
    },
    "executionInfo": {
     "elapsed": 9514,
     "status": "ok",
     "timestamp": 1675623113380,
     "user": {
      "displayName": "Niels Christian Lory",
      "userId": "13808981766748190109"
     },
     "user_tz": -60
    },
    "id": "ccc4db07-9a39-4e16-86af-254d2ca7722a",
    "outputId": "1a2507bf-ec2d-4caa-8297-44e8cc9b804c",
    "tags": []
   },
   "outputs": [
    {
     "name": "stdout",
     "output_type": "stream",
     "text": [
      "Image size: 128 X 128\n",
      "Patch size: 6 X 6\n",
      "Patches per image: 441\n",
      "Elements per patch: 108\n"
     ]
    },
    {
     "data": {
      "image/png": "[encoded data removed]",
      "text/plain": [
       "<Figure size 400x400 with 1 Axes>"
      ]
     },
     "metadata": {},
     "output_type": "display_data"
    },
    {
     "data": {
      "image/png": "[encoded data removed]",
      "text/plain": [
       "<Figure size 400x400 with 441 Axes>"
      ]
     },
     "metadata": {},
     "output_type": "display_data"
    }
   ],
   "source": [
    "import matplotlib.pyplot as plt\n",
    "\n",
    "plt.figure(figsize=(4, 4))\n",
    "image = x_train[np.random.choice(range(x_train.shape[0]))]\n",
    "plt.imshow(image.astype(\"uint8\"))\n",
    "plt.axis(\"off\")\n",
    "\n",
    "resized_image = tf.image.resize(\n",
    "    tf.convert_to_tensor([image]), size=(image_size, image_size)\n",
    ")\n",
    "patches = Patches(patch_size)(resized_image)\n",
    "print(f\"Image size: {image_size} X {image_size}\")\n",
    "print(f\"Patch size: {patch_size} X {patch_size}\")\n",
    "print(f\"Patches per image: {patches.shape[1]}\")\n",
    "print(f\"Elements per patch: {patches.shape[-1]}\")\n",
    "\n",
    "n = int(np.sqrt(patches.shape[1]))\n",
    "plt.figure(figsize=(4, 4))\n",
    "for i, patch in enumerate(patches[0]):\n",
    "    ax = plt.subplot(n, n, i + 1)\n",
    "    patch_img = tf.reshape(patch, (patch_size, patch_size, 3))\n",
    "    plt.imshow(patch_img.numpy().astype(\"uint8\"))\n",
    "    plt.axis(\"off\")\n"
   ]
  },
  {
   "cell_type": "markdown",
   "id": "c286033a-3d54-47e9-91a1-5fb97d386ba4",
   "metadata": {
    "id": "c286033a-3d54-47e9-91a1-5fb97d386ba4"
   },
   "source": [
    "### Implement the patch encoding layer\n",
    "\n",
    "The PatchEncoder layer will linearly transform a patch by projecting it into a vector of size projection_dim. In addition, it adds a learnable position embedding to the projected vector."
   ]
  },
  {
   "cell_type": "code",
   "execution_count": 78,
   "id": "d1f84f18-3247-47c3-bc15-1132cef5505e",
   "metadata": {
    "executionInfo": {
     "elapsed": 7,
     "status": "ok",
     "timestamp": 1675623113381,
     "user": {
      "displayName": "Niels Christian Lory",
      "userId": "13808981766748190109"
     },
     "user_tz": -60
    },
    "id": "d1f84f18-3247-47c3-bc15-1132cef5505e",
    "tags": []
   },
   "outputs": [],
   "source": [
    "class PatchEncoder(layers.Layer):\n",
    "    def __init__(self, num_patches, projection_dim):\n",
    "        super().__init__()\n",
    "        self.num_patches = num_patches\n",
    "        self.projection = layers.Dense(units=projection_dim)\n",
    "        self.position_embedding = layers.Embedding(\n",
    "            input_dim=num_patches, output_dim=projection_dim\n",
    "        )\n",
    "\n",
    "    def call(self, patch):\n",
    "        positions = tf.range(start=0, limit=self.num_patches, delta=1)\n",
    "        encoded = self.projection(patch) + self.position_embedding(positions)\n",
    "        return encoded\n"
   ]
  },
  {
   "cell_type": "markdown",
   "id": "08c3eb75-b2cb-4ca4-a693-63cab1a27ee6",
   "metadata": {
    "id": "08c3eb75-b2cb-4ca4-a693-63cab1a27ee6"
   },
   "source": [
    "# Build the ViT model\n",
    "\n",
    "The ViT model consists of multiple Transformer blocks, which use the layers.MultiHeadAttention layer as a self-attention mechanism applied to the sequence of patches. The Transformer blocks produce a [batch_size, num_patches, projection_dim] tensor, which is processed via an classifier head with softmax to produce the final class probabilities output.\n",
    "\n",
    "Unlike the technique described in the paper, which prepends a learnable embedding to the sequence of encoded patches to serve as the image representation, all the outputs of the final Transformer block are reshaped with layers.Flatten() and used as the image representation input to the classifier head. Note that the layers.GlobalAveragePooling1D layer could also be used instead to aggregate the outputs of the Transformer block, especially when the number of patches and the projection dimensions are large."
   ]
  },
  {
   "cell_type": "code",
   "execution_count": 79,
   "id": "e3cdc9e0-a8c1-4698-b1b7-1830a966bbc6",
   "metadata": {
    "executionInfo": {
     "elapsed": 6,
     "status": "ok",
     "timestamp": 1675623113381,
     "user": {
      "displayName": "Niels Christian Lory",
      "userId": "13808981766748190109"
     },
     "user_tz": -60
    },
    "id": "e3cdc9e0-a8c1-4698-b1b7-1830a966bbc6",
    "tags": []
   },
   "outputs": [],
   "source": [
    "def create_vit_classifier():\n",
    "    inputs = layers.Input(shape=input_shape)\n",
    "    # Augment data.\n",
    "    augmented = data_augmentation(inputs)\n",
    "    # Create patches.\n",
    "    patches = Patches(patch_size)(augmented)\n",
    "    # Encode patches.\n",
    "    encoded_patches = PatchEncoder(num_patches, projection_dim)(patches)\n",
    "\n",
    "    # Create multiple layers of the Transformer block.\n",
    "    for _ in range(transformer_layers):\n",
    "        # Layer normalization 1.\n",
    "        x1 = layers.LayerNormalization(epsilon=1e-6)(encoded_patches)\n",
    "        # Create a multi-head attention layer.\n",
    "        attention_output = layers.MultiHeadAttention(\n",
    "            num_heads=num_heads, key_dim=projection_dim, dropout=0.1\n",
    "        )(x1, x1)\n",
    "        # Skip connection 1.\n",
    "        x2 = layers.Add()([attention_output, encoded_patches])\n",
    "        # Layer normalization 2.\n",
    "        x3 = layers.LayerNormalization(epsilon=1e-6)(x2)\n",
    "        # MLP.\n",
    "        x3 = mlp(x3, hidden_units=transformer_units, dropout_rate=0.1)\n",
    "        # Skip connection 2.\n",
    "        encoded_patches = layers.Add()([x3, x2])\n",
    "\n",
    "    # Create a [batch_size, projection_dim] tensor.\n",
    "    representation = layers.LayerNormalization(epsilon=1e-6)(encoded_patches)\n",
    "    representation = layers.Flatten()(representation)\n",
    "    representation = layers.Dropout(0.5)(representation)\n",
    "    # Add MLP.\n",
    "    features = mlp(representation, hidden_units=mlp_head_units, dropout_rate=0.5)\n",
    "    # Classify outputs.\n",
    "    logits = layers.Dense(num_classes)(features)\n",
    "    # Create the Keras model.\n",
    "    model = keras.Model(inputs=inputs, outputs=logits)\n",
    "    return model\n"
   ]
  },
  {
   "cell_type": "markdown",
   "id": "04a4fcee-a001-4c44-b068-05d4b24fc716",
   "metadata": {
    "id": "04a4fcee-a001-4c44-b068-05d4b24fc716"
   },
   "source": [
    "### Compile, train, and evaluate the mode"
   ]
  },
  {
   "cell_type": "code",
   "execution_count": 80,
   "id": "ff551285-ca8c-4328-8ebb-283e50f02c02",
   "metadata": {
    "colab": {
     "base_uri": "https://localhost:8080/"
    },
    "id": "ff551285-ca8c-4328-8ebb-283e50f02c02",
    "outputId": "e56e3bd2-44d0-4fa3-d71a-2d2d75aa5d82",
    "tags": []
   },
   "outputs": [
    {
     "name": "stdout",
     "output_type": "stream",
     "text": [
      "WARNING:tensorflow:Using a while_loop for converting RngReadAndSkip cause there is no registered converter for this op.\n"
     ]
    },
    {
     "name": "stderr",
     "output_type": "stream",
     "text": [
      "WARNING:tensorflow:Using a while_loop for converting RngReadAndSkip cause there is no registered converter for this op.\n"
     ]
    },
    {
     "name": "stdout",
     "output_type": "stream",
     "text": [
      "WARNING:tensorflow:Using a while_loop for converting Bitcast cause there is no registered converter for this op.\n"
     ]
    },
    {
     "name": "stderr",
     "output_type": "stream",
     "text": [
      "WARNING:tensorflow:Using a while_loop for converting Bitcast cause there is no registered converter for this op.\n"
     ]
    },
    {
     "name": "stdout",
     "output_type": "stream",
     "text": [
      "WARNING:tensorflow:Using a while_loop for converting Bitcast cause there is no registered converter for this op.\n"
     ]
    },
    {
     "name": "stderr",
     "output_type": "stream",
     "text": [
      "WARNING:tensorflow:Using a while_loop for converting Bitcast cause there is no registered converter for this op.\n"
     ]
    },
    {
     "name": "stdout",
     "output_type": "stream",
     "text": [
      "WARNING:tensorflow:Using a while_loop for converting StatelessRandomUniformV2 cause there is no registered converter for this op.\n"
     ]
    },
    {
     "name": "stderr",
     "output_type": "stream",
     "text": [
      "WARNING:tensorflow:Using a while_loop for converting StatelessRandomUniformV2 cause there is no registered converter for this op.\n"
     ]
    },
    {
     "name": "stdout",
     "output_type": "stream",
     "text": [
      "WARNING:tensorflow:Using a while_loop for converting ImageProjectiveTransformV3 cause there is no registered converter for this op.\n"
     ]
    },
    {
     "name": "stderr",
     "output_type": "stream",
     "text": [
      "WARNING:tensorflow:Using a while_loop for converting ImageProjectiveTransformV3 cause there is no registered converter for this op.\n"
     ]
    },
    {
     "name": "stdout",
     "output_type": "stream",
     "text": [
      "WARNING:tensorflow:Using a while_loop for converting RngReadAndSkip cause there is no registered converter for this op.\n"
     ]
    },
    {
     "name": "stderr",
     "output_type": "stream",
     "text": [
      "WARNING:tensorflow:Using a while_loop for converting RngReadAndSkip cause there is no registered converter for this op.\n"
     ]
    },
    {
     "name": "stdout",
     "output_type": "stream",
     "text": [
      "WARNING:tensorflow:Using a while_loop for converting Bitcast cause there is no registered converter for this op.\n"
     ]
    },
    {
     "name": "stderr",
     "output_type": "stream",
     "text": [
      "WARNING:tensorflow:Using a while_loop for converting Bitcast cause there is no registered converter for this op.\n"
     ]
    },
    {
     "name": "stdout",
     "output_type": "stream",
     "text": [
      "WARNING:tensorflow:Using a while_loop for converting Bitcast cause there is no registered converter for this op.\n"
     ]
    },
    {
     "name": "stderr",
     "output_type": "stream",
     "text": [
      "WARNING:tensorflow:Using a while_loop for converting Bitcast cause there is no registered converter for this op.\n"
     ]
    },
    {
     "name": "stdout",
     "output_type": "stream",
     "text": [
      "WARNING:tensorflow:Using a while_loop for converting StatelessRandomUniformV2 cause there is no registered converter for this op.\n"
     ]
    },
    {
     "name": "stderr",
     "output_type": "stream",
     "text": [
      "WARNING:tensorflow:Using a while_loop for converting StatelessRandomUniformV2 cause there is no registered converter for this op.\n"
     ]
    },
    {
     "name": "stdout",
     "output_type": "stream",
     "text": [
      "WARNING:tensorflow:Using a while_loop for converting RngReadAndSkip cause there is no registered converter for this op.\n"
     ]
    },
    {
     "name": "stderr",
     "output_type": "stream",
     "text": [
      "WARNING:tensorflow:Using a while_loop for converting RngReadAndSkip cause there is no registered converter for this op.\n"
     ]
    },
    {
     "name": "stdout",
     "output_type": "stream",
     "text": [
      "WARNING:tensorflow:Using a while_loop for converting Bitcast cause there is no registered converter for this op.\n"
     ]
    },
    {
     "name": "stderr",
     "output_type": "stream",
     "text": [
      "WARNING:tensorflow:Using a while_loop for converting Bitcast cause there is no registered converter for this op.\n"
     ]
    },
    {
     "name": "stdout",
     "output_type": "stream",
     "text": [
      "WARNING:tensorflow:Using a while_loop for converting Bitcast cause there is no registered converter for this op.\n"
     ]
    },
    {
     "name": "stderr",
     "output_type": "stream",
     "text": [
      "WARNING:tensorflow:Using a while_loop for converting Bitcast cause there is no registered converter for this op.\n"
     ]
    },
    {
     "name": "stdout",
     "output_type": "stream",
     "text": [
      "WARNING:tensorflow:Using a while_loop for converting StatelessRandomUniformV2 cause there is no registered converter for this op.\n"
     ]
    },
    {
     "name": "stderr",
     "output_type": "stream",
     "text": [
      "WARNING:tensorflow:Using a while_loop for converting StatelessRandomUniformV2 cause there is no registered converter for this op.\n"
     ]
    },
    {
     "name": "stdout",
     "output_type": "stream",
     "text": [
      "WARNING:tensorflow:Using a while_loop for converting ImageProjectiveTransformV3 cause there is no registered converter for this op.\n"
     ]
    },
    {
     "name": "stderr",
     "output_type": "stream",
     "text": [
      "WARNING:tensorflow:Using a while_loop for converting ImageProjectiveTransformV3 cause there is no registered converter for this op.\n"
     ]
    },
    {
     "name": "stdout",
     "output_type": "stream",
     "text": [
      "WARNING:tensorflow:Using a while_loop for converting RngReadAndSkip cause there is no registered converter for this op.\n"
     ]
    },
    {
     "name": "stderr",
     "output_type": "stream",
     "text": [
      "WARNING:tensorflow:Using a while_loop for converting RngReadAndSkip cause there is no registered converter for this op.\n"
     ]
    },
    {
     "name": "stdout",
     "output_type": "stream",
     "text": [
      "WARNING:tensorflow:Using a while_loop for converting Bitcast cause there is no registered converter for this op.\n"
     ]
    },
    {
     "name": "stderr",
     "output_type": "stream",
     "text": [
      "WARNING:tensorflow:Using a while_loop for converting Bitcast cause there is no registered converter for this op.\n"
     ]
    },
    {
     "name": "stdout",
     "output_type": "stream",
     "text": [
      "WARNING:tensorflow:Using a while_loop for converting Bitcast cause there is no registered converter for this op.\n"
     ]
    },
    {
     "name": "stderr",
     "output_type": "stream",
     "text": [
      "WARNING:tensorflow:Using a while_loop for converting Bitcast cause there is no registered converter for this op.\n"
     ]
    },
    {
     "name": "stdout",
     "output_type": "stream",
     "text": [
      "WARNING:tensorflow:Using a while_loop for converting StatelessRandomUniformV2 cause there is no registered converter for this op.\n"
     ]
    },
    {
     "name": "stderr",
     "output_type": "stream",
     "text": [
      "WARNING:tensorflow:Using a while_loop for converting StatelessRandomUniformV2 cause there is no registered converter for this op.\n"
     ]
    },
    {
     "name": "stdout",
     "output_type": "stream",
     "text": [
      "WARNING:tensorflow:Using a while_loop for converting ImageProjectiveTransformV3 cause there is no registered converter for this op.\n"
     ]
    },
    {
     "name": "stderr",
     "output_type": "stream",
     "text": [
      "WARNING:tensorflow:Using a while_loop for converting ImageProjectiveTransformV3 cause there is no registered converter for this op.\n"
     ]
    },
    {
     "name": "stdout",
     "output_type": "stream",
     "text": [
      "WARNING:tensorflow:Using a while_loop for converting RngReadAndSkip cause there is no registered converter for this op.\n"
     ]
    },
    {
     "name": "stderr",
     "output_type": "stream",
     "text": [
      "WARNING:tensorflow:Using a while_loop for converting RngReadAndSkip cause there is no registered converter for this op.\n"
     ]
    },
    {
     "name": "stdout",
     "output_type": "stream",
     "text": [
      "WARNING:tensorflow:Using a while_loop for converting Bitcast cause there is no registered converter for this op.\n"
     ]
    },
    {
     "name": "stderr",
     "output_type": "stream",
     "text": [
      "WARNING:tensorflow:Using a while_loop for converting Bitcast cause there is no registered converter for this op.\n"
     ]
    },
    {
     "name": "stdout",
     "output_type": "stream",
     "text": [
      "WARNING:tensorflow:Using a while_loop for converting Bitcast cause there is no registered converter for this op.\n"
     ]
    },
    {
     "name": "stderr",
     "output_type": "stream",
     "text": [
      "WARNING:tensorflow:Using a while_loop for converting Bitcast cause there is no registered converter for this op.\n"
     ]
    },
    {
     "name": "stdout",
     "output_type": "stream",
     "text": [
      "WARNING:tensorflow:Using a while_loop for converting StatelessRandomUniformV2 cause there is no registered converter for this op.\n"
     ]
    },
    {
     "name": "stderr",
     "output_type": "stream",
     "text": [
      "WARNING:tensorflow:Using a while_loop for converting StatelessRandomUniformV2 cause there is no registered converter for this op.\n"
     ]
    },
    {
     "name": "stdout",
     "output_type": "stream",
     "text": [
      "WARNING:tensorflow:Using a while_loop for converting RngReadAndSkip cause there is no registered converter for this op.\n"
     ]
    },
    {
     "name": "stderr",
     "output_type": "stream",
     "text": [
      "WARNING:tensorflow:Using a while_loop for converting RngReadAndSkip cause there is no registered converter for this op.\n"
     ]
    },
    {
     "name": "stdout",
     "output_type": "stream",
     "text": [
      "WARNING:tensorflow:Using a while_loop for converting Bitcast cause there is no registered converter for this op.\n"
     ]
    },
    {
     "name": "stderr",
     "output_type": "stream",
     "text": [
      "WARNING:tensorflow:Using a while_loop for converting Bitcast cause there is no registered converter for this op.\n"
     ]
    },
    {
     "name": "stdout",
     "output_type": "stream",
     "text": [
      "WARNING:tensorflow:Using a while_loop for converting Bitcast cause there is no registered converter for this op.\n"
     ]
    },
    {
     "name": "stderr",
     "output_type": "stream",
     "text": [
      "WARNING:tensorflow:Using a while_loop for converting Bitcast cause there is no registered converter for this op.\n"
     ]
    },
    {
     "name": "stdout",
     "output_type": "stream",
     "text": [
      "WARNING:tensorflow:Using a while_loop for converting StatelessRandomUniformV2 cause there is no registered converter for this op.\n"
     ]
    },
    {
     "name": "stderr",
     "output_type": "stream",
     "text": [
      "WARNING:tensorflow:Using a while_loop for converting StatelessRandomUniformV2 cause there is no registered converter for this op.\n"
     ]
    },
    {
     "name": "stdout",
     "output_type": "stream",
     "text": [
      "WARNING:tensorflow:Using a while_loop for converting ImageProjectiveTransformV3 cause there is no registered converter for this op.\n"
     ]
    },
    {
     "name": "stderr",
     "output_type": "stream",
     "text": [
      "WARNING:tensorflow:Using a while_loop for converting ImageProjectiveTransformV3 cause there is no registered converter for this op.\n"
     ]
    },
    {
     "name": "stdout",
     "output_type": "stream",
     "text": [
      "Epoch 1/80\n",
      "WARNING:tensorflow:Using a while_loop for converting RngReadAndSkip cause there is no registered converter for this op.\n"
     ]
    },
    {
     "name": "stderr",
     "output_type": "stream",
     "text": [
      "WARNING:tensorflow:Using a while_loop for converting RngReadAndSkip cause there is no registered converter for this op.\n"
     ]
    },
    {
     "name": "stdout",
     "output_type": "stream",
     "text": [
      "WARNING:tensorflow:Using a while_loop for converting Bitcast cause there is no registered converter for this op.\n"
     ]
    },
    {
     "name": "stderr",
     "output_type": "stream",
     "text": [
      "WARNING:tensorflow:Using a while_loop for converting Bitcast cause there is no registered converter for this op.\n"
     ]
    },
    {
     "name": "stdout",
     "output_type": "stream",
     "text": [
      "WARNING:tensorflow:Using a while_loop for converting Bitcast cause there is no registered converter for this op.\n"
     ]
    },
    {
     "name": "stderr",
     "output_type": "stream",
     "text": [
      "WARNING:tensorflow:Using a while_loop for converting Bitcast cause there is no registered converter for this op.\n"
     ]
    },
    {
     "name": "stdout",
     "output_type": "stream",
     "text": [
      "WARNING:tensorflow:Using a while_loop for converting StatelessRandomUniformV2 cause there is no registered converter for this op.\n"
     ]
    },
    {
     "name": "stderr",
     "output_type": "stream",
     "text": [
      "WARNING:tensorflow:Using a while_loop for converting StatelessRandomUniformV2 cause there is no registered converter for this op.\n"
     ]
    },
    {
     "name": "stdout",
     "output_type": "stream",
     "text": [
      "WARNING:tensorflow:Using a while_loop for converting ImageProjectiveTransformV3 cause there is no registered converter for this op.\n"
     ]
    },
    {
     "name": "stderr",
     "output_type": "stream",
     "text": [
      "WARNING:tensorflow:Using a while_loop for converting ImageProjectiveTransformV3 cause there is no registered converter for this op.\n"
     ]
    },
    {
     "name": "stdout",
     "output_type": "stream",
     "text": [
      "WARNING:tensorflow:Using a while_loop for converting RngReadAndSkip cause there is no registered converter for this op.\n"
     ]
    },
    {
     "name": "stderr",
     "output_type": "stream",
     "text": [
      "WARNING:tensorflow:Using a while_loop for converting RngReadAndSkip cause there is no registered converter for this op.\n"
     ]
    },
    {
     "name": "stdout",
     "output_type": "stream",
     "text": [
      "WARNING:tensorflow:Using a while_loop for converting Bitcast cause there is no registered converter for this op.\n"
     ]
    },
    {
     "name": "stderr",
     "output_type": "stream",
     "text": [
      "WARNING:tensorflow:Using a while_loop for converting Bitcast cause there is no registered converter for this op.\n"
     ]
    },
    {
     "name": "stdout",
     "output_type": "stream",
     "text": [
      "WARNING:tensorflow:Using a while_loop for converting Bitcast cause there is no registered converter for this op.\n"
     ]
    },
    {
     "name": "stderr",
     "output_type": "stream",
     "text": [
      "WARNING:tensorflow:Using a while_loop for converting Bitcast cause there is no registered converter for this op.\n"
     ]
    },
    {
     "name": "stdout",
     "output_type": "stream",
     "text": [
      "WARNING:tensorflow:Using a while_loop for converting StatelessRandomUniformV2 cause there is no registered converter for this op.\n"
     ]
    },
    {
     "name": "stderr",
     "output_type": "stream",
     "text": [
      "WARNING:tensorflow:Using a while_loop for converting StatelessRandomUniformV2 cause there is no registered converter for this op.\n"
     ]
    },
    {
     "name": "stdout",
     "output_type": "stream",
     "text": [
      "WARNING:tensorflow:Using a while_loop for converting RngReadAndSkip cause there is no registered converter for this op.\n"
     ]
    },
    {
     "name": "stderr",
     "output_type": "stream",
     "text": [
      "WARNING:tensorflow:Using a while_loop for converting RngReadAndSkip cause there is no registered converter for this op.\n"
     ]
    },
    {
     "name": "stdout",
     "output_type": "stream",
     "text": [
      "WARNING:tensorflow:Using a while_loop for converting Bitcast cause there is no registered converter for this op.\n"
     ]
    },
    {
     "name": "stderr",
     "output_type": "stream",
     "text": [
      "WARNING:tensorflow:Using a while_loop for converting Bitcast cause there is no registered converter for this op.\n"
     ]
    },
    {
     "name": "stdout",
     "output_type": "stream",
     "text": [
      "WARNING:tensorflow:Using a while_loop for converting Bitcast cause there is no registered converter for this op.\n"
     ]
    },
    {
     "name": "stderr",
     "output_type": "stream",
     "text": [
      "WARNING:tensorflow:Using a while_loop for converting Bitcast cause there is no registered converter for this op.\n"
     ]
    },
    {
     "name": "stdout",
     "output_type": "stream",
     "text": [
      "WARNING:tensorflow:Using a while_loop for converting StatelessRandomUniformV2 cause there is no registered converter for this op.\n"
     ]
    },
    {
     "name": "stderr",
     "output_type": "stream",
     "text": [
      "WARNING:tensorflow:Using a while_loop for converting StatelessRandomUniformV2 cause there is no registered converter for this op.\n"
     ]
    },
    {
     "name": "stdout",
     "output_type": "stream",
     "text": [
      "WARNING:tensorflow:Using a while_loop for converting ImageProjectiveTransformV3 cause there is no registered converter for this op.\n"
     ]
    },
    {
     "name": "stderr",
     "output_type": "stream",
     "text": [
      "WARNING:tensorflow:Using a while_loop for converting ImageProjectiveTransformV3 cause there is no registered converter for this op.\n"
     ]
    },
    {
     "name": "stdout",
     "output_type": "stream",
     "text": [
      "WARNING:tensorflow:Using a while_loop for converting RngReadAndSkip cause there is no registered converter for this op.\n"
     ]
    },
    {
     "name": "stderr",
     "output_type": "stream",
     "text": [
      "WARNING:tensorflow:Using a while_loop for converting RngReadAndSkip cause there is no registered converter for this op.\n"
     ]
    },
    {
     "name": "stdout",
     "output_type": "stream",
     "text": [
      "WARNING:tensorflow:Using a while_loop for converting Bitcast cause there is no registered converter for this op.\n"
     ]
    },
    {
     "name": "stderr",
     "output_type": "stream",
     "text": [
      "WARNING:tensorflow:Using a while_loop for converting Bitcast cause there is no registered converter for this op.\n"
     ]
    },
    {
     "name": "stdout",
     "output_type": "stream",
     "text": [
      "WARNING:tensorflow:Using a while_loop for converting Bitcast cause there is no registered converter for this op.\n"
     ]
    },
    {
     "name": "stderr",
     "output_type": "stream",
     "text": [
      "WARNING:tensorflow:Using a while_loop for converting Bitcast cause there is no registered converter for this op.\n"
     ]
    },
    {
     "name": "stdout",
     "output_type": "stream",
     "text": [
      "WARNING:tensorflow:Using a while_loop for converting StatelessRandomUniformV2 cause there is no registered converter for this op.\n"
     ]
    },
    {
     "name": "stderr",
     "output_type": "stream",
     "text": [
      "WARNING:tensorflow:Using a while_loop for converting StatelessRandomUniformV2 cause there is no registered converter for this op.\n"
     ]
    },
    {
     "name": "stdout",
     "output_type": "stream",
     "text": [
      "WARNING:tensorflow:Using a while_loop for converting ImageProjectiveTransformV3 cause there is no registered converter for this op.\n"
     ]
    },
    {
     "name": "stderr",
     "output_type": "stream",
     "text": [
      "WARNING:tensorflow:Using a while_loop for converting ImageProjectiveTransformV3 cause there is no registered converter for this op.\n"
     ]
    },
    {
     "name": "stdout",
     "output_type": "stream",
     "text": [
      "WARNING:tensorflow:Using a while_loop for converting RngReadAndSkip cause there is no registered converter for this op.\n"
     ]
    },
    {
     "name": "stderr",
     "output_type": "stream",
     "text": [
      "WARNING:tensorflow:Using a while_loop for converting RngReadAndSkip cause there is no registered converter for this op.\n"
     ]
    },
    {
     "name": "stdout",
     "output_type": "stream",
     "text": [
      "WARNING:tensorflow:Using a while_loop for converting Bitcast cause there is no registered converter for this op.\n"
     ]
    },
    {
     "name": "stderr",
     "output_type": "stream",
     "text": [
      "WARNING:tensorflow:Using a while_loop for converting Bitcast cause there is no registered converter for this op.\n"
     ]
    },
    {
     "name": "stdout",
     "output_type": "stream",
     "text": [
      "WARNING:tensorflow:Using a while_loop for converting Bitcast cause there is no registered converter for this op.\n"
     ]
    },
    {
     "name": "stderr",
     "output_type": "stream",
     "text": [
      "WARNING:tensorflow:Using a while_loop for converting Bitcast cause there is no registered converter for this op.\n"
     ]
    },
    {
     "name": "stdout",
     "output_type": "stream",
     "text": [
      "WARNING:tensorflow:Using a while_loop for converting StatelessRandomUniformV2 cause there is no registered converter for this op.\n"
     ]
    },
    {
     "name": "stderr",
     "output_type": "stream",
     "text": [
      "WARNING:tensorflow:Using a while_loop for converting StatelessRandomUniformV2 cause there is no registered converter for this op.\n"
     ]
    },
    {
     "name": "stdout",
     "output_type": "stream",
     "text": [
      "WARNING:tensorflow:Using a while_loop for converting RngReadAndSkip cause there is no registered converter for this op.\n"
     ]
    },
    {
     "name": "stderr",
     "output_type": "stream",
     "text": [
      "WARNING:tensorflow:Using a while_loop for converting RngReadAndSkip cause there is no registered converter for this op.\n"
     ]
    },
    {
     "name": "stdout",
     "output_type": "stream",
     "text": [
      "WARNING:tensorflow:Using a while_loop for converting Bitcast cause there is no registered converter for this op.\n"
     ]
    },
    {
     "name": "stderr",
     "output_type": "stream",
     "text": [
      "WARNING:tensorflow:Using a while_loop for converting Bitcast cause there is no registered converter for this op.\n"
     ]
    },
    {
     "name": "stdout",
     "output_type": "stream",
     "text": [
      "WARNING:tensorflow:Using a while_loop for converting Bitcast cause there is no registered converter for this op.\n"
     ]
    },
    {
     "name": "stderr",
     "output_type": "stream",
     "text": [
      "WARNING:tensorflow:Using a while_loop for converting Bitcast cause there is no registered converter for this op.\n"
     ]
    },
    {
     "name": "stdout",
     "output_type": "stream",
     "text": [
      "WARNING:tensorflow:Using a while_loop for converting StatelessRandomUniformV2 cause there is no registered converter for this op.\n"
     ]
    },
    {
     "name": "stderr",
     "output_type": "stream",
     "text": [
      "WARNING:tensorflow:Using a while_loop for converting StatelessRandomUniformV2 cause there is no registered converter for this op.\n"
     ]
    },
    {
     "name": "stdout",
     "output_type": "stream",
     "text": [
      "WARNING:tensorflow:Using a while_loop for converting ImageProjectiveTransformV3 cause there is no registered converter for this op.\n"
     ]
    },
    {
     "name": "stderr",
     "output_type": "stream",
     "text": [
      "WARNING:tensorflow:Using a while_loop for converting ImageProjectiveTransformV3 cause there is no registered converter for this op.\n"
     ]
    },
    {
     "name": "stdout",
     "output_type": "stream",
     "text": [
      "24/24 [==============================] - 765s 31s/step - loss: 8.5773 - accuracy: 0.0030 - top-5-accuracy: 0.0131 - val_loss: 6.2087 - val_accuracy: 0.0000e+00 - val_top-5-accuracy: 0.0030\n",
      "Epoch 2/80\n",
      "24/24 [==============================] - 765s 32s/step - loss: 6.4140 - accuracy: 0.0034 - top-5-accuracy: 0.0199 - val_loss: 6.1774 - val_accuracy: 0.0000e+00 - val_top-5-accuracy: 0.0121\n",
      "Epoch 3/80\n",
      "24/24 [==============================] - 754s 31s/step - loss: 6.2775 - accuracy: 0.0044 - top-5-accuracy: 0.0162 - val_loss: 6.1742 - val_accuracy: 0.0060 - val_top-5-accuracy: 0.0272\n",
      "Epoch 4/80\n",
      "24/24 [==============================] - 761s 32s/step - loss: 6.1989 - accuracy: 0.0027 - top-5-accuracy: 0.0175 - val_loss: 6.1669 - val_accuracy: 0.0030 - val_top-5-accuracy: 0.0060\n",
      "Epoch 5/80\n",
      "24/24 [==============================] - 747s 31s/step - loss: 6.1900 - accuracy: 0.0054 - top-5-accuracy: 0.0209 - val_loss: 6.1627 - val_accuracy: 0.0060 - val_top-5-accuracy: 0.0211\n",
      "Epoch 6/80\n",
      "24/24 [==============================] - 747s 31s/step - loss: 6.1684 - accuracy: 0.0054 - top-5-accuracy: 0.0246 - val_loss: 6.1452 - val_accuracy: 0.0030 - val_top-5-accuracy: 0.0242\n",
      "Epoch 7/80\n",
      "24/24 [==============================] - 752s 31s/step - loss: 6.1316 - accuracy: 0.0064 - top-5-accuracy: 0.0327 - val_loss: 6.1441 - val_accuracy: 0.0000e+00 - val_top-5-accuracy: 0.0181\n",
      "Epoch 8/80\n",
      "24/24 [==============================] - 764s 32s/step - loss: 6.0734 - accuracy: 0.0088 - top-5-accuracy: 0.0357 - val_loss: 6.0891 - val_accuracy: 0.0030 - val_top-5-accuracy: 0.0332\n",
      "Epoch 9/80\n",
      "24/24 [==============================] - 751s 31s/step - loss: 6.0208 - accuracy: 0.0108 - top-5-accuracy: 0.0424 - val_loss: 6.0535 - val_accuracy: 0.0030 - val_top-5-accuracy: 0.0393\n",
      "Epoch 10/80\n",
      "24/24 [==============================] - 746s 31s/step - loss: 5.9479 - accuracy: 0.0138 - top-5-accuracy: 0.0498 - val_loss: 6.0304 - val_accuracy: 0.0091 - val_top-5-accuracy: 0.0574\n",
      "Epoch 11/80\n",
      "24/24 [==============================] - 752s 31s/step - loss: 5.8696 - accuracy: 0.0114 - top-5-accuracy: 0.0539 - val_loss: 5.9475 - val_accuracy: 0.0181 - val_top-5-accuracy: 0.0453\n",
      "Epoch 12/80\n",
      "24/24 [==============================] - 756s 31s/step - loss: 5.8300 - accuracy: 0.0199 - top-5-accuracy: 0.0660 - val_loss: 5.9309 - val_accuracy: 0.0060 - val_top-5-accuracy: 0.0483\n",
      "Epoch 13/80\n",
      "24/24 [==============================] - 754s 31s/step - loss: 5.7648 - accuracy: 0.0175 - top-5-accuracy: 0.0636 - val_loss: 5.8708 - val_accuracy: 0.0151 - val_top-5-accuracy: 0.0604\n",
      "Epoch 14/80\n",
      "24/24 [==============================] - 756s 31s/step - loss: 5.7434 - accuracy: 0.0185 - top-5-accuracy: 0.0721 - val_loss: 5.8572 - val_accuracy: 0.0181 - val_top-5-accuracy: 0.0604\n",
      "Epoch 15/80\n",
      "24/24 [==============================] - 743s 31s/step - loss: 5.6620 - accuracy: 0.0152 - top-5-accuracy: 0.0663 - val_loss: 5.8623 - val_accuracy: 0.0151 - val_top-5-accuracy: 0.0604\n",
      "Epoch 16/80\n",
      "24/24 [==============================] - 749s 31s/step - loss: 5.6049 - accuracy: 0.0209 - top-5-accuracy: 0.0848 - val_loss: 5.9226 - val_accuracy: 0.0151 - val_top-5-accuracy: 0.0725\n",
      "Epoch 17/80\n",
      "24/24 [==============================] - 759s 32s/step - loss: 5.6049 - accuracy: 0.0195 - top-5-accuracy: 0.0828 - val_loss: 5.8892 - val_accuracy: 0.0060 - val_top-5-accuracy: 0.0634\n",
      "Epoch 18/80\n",
      "24/24 [==============================] - 752s 31s/step - loss: 5.5037 - accuracy: 0.0279 - top-5-accuracy: 0.0963 - val_loss: 5.8564 - val_accuracy: 0.0181 - val_top-5-accuracy: 0.0544\n",
      "Epoch 19/80\n",
      "24/24 [==============================] - 750s 31s/step - loss: 5.4617 - accuracy: 0.0222 - top-5-accuracy: 0.0929 - val_loss: 5.8711 - val_accuracy: 0.0060 - val_top-5-accuracy: 0.0695\n",
      "Epoch 20/80\n",
      "24/24 [==============================] - 750s 31s/step - loss: 5.4703 - accuracy: 0.0279 - top-5-accuracy: 0.0936 - val_loss: 5.7859 - val_accuracy: 0.0121 - val_top-5-accuracy: 0.0755\n",
      "Epoch 21/80\n",
      "24/24 [==============================] - 753s 31s/step - loss: 5.3843 - accuracy: 0.0273 - top-5-accuracy: 0.1054 - val_loss: 5.8490 - val_accuracy: 0.0151 - val_top-5-accuracy: 0.0665\n",
      "Epoch 22/80\n",
      "24/24 [==============================] - 750s 31s/step - loss: 5.3402 - accuracy: 0.0343 - top-5-accuracy: 0.1178 - val_loss: 5.8268 - val_accuracy: 0.0121 - val_top-5-accuracy: 0.0695\n",
      "Epoch 23/80\n",
      "24/24 [==============================] - 753s 31s/step - loss: 5.3067 - accuracy: 0.0300 - top-5-accuracy: 0.1061 - val_loss: 5.9225 - val_accuracy: 0.0151 - val_top-5-accuracy: 0.0665\n",
      "Epoch 24/80\n",
      "24/24 [==============================] - 759s 32s/step - loss: 5.2484 - accuracy: 0.0343 - top-5-accuracy: 0.1199 - val_loss: 5.8236 - val_accuracy: 0.0060 - val_top-5-accuracy: 0.0785\n",
      "Epoch 25/80\n",
      "24/24 [==============================] - 754s 31s/step - loss: 5.1815 - accuracy: 0.0444 - top-5-accuracy: 0.1337 - val_loss: 5.9424 - val_accuracy: 0.0211 - val_top-5-accuracy: 0.0725\n",
      "Epoch 26/80\n",
      "24/24 [==============================] - 2617s 112s/step - loss: 5.1630 - accuracy: 0.0431 - top-5-accuracy: 0.1367 - val_loss: 5.9633 - val_accuracy: 0.0151 - val_top-5-accuracy: 0.0725\n",
      "Epoch 27/80\n",
      "24/24 [==============================] - 5865s 241s/step - loss: 5.1108 - accuracy: 0.0401 - top-5-accuracy: 0.1438 - val_loss: 5.8896 - val_accuracy: 0.0151 - val_top-5-accuracy: 0.0634\n",
      "Epoch 28/80\n",
      "24/24 [==============================] - 1923s 82s/step - loss: 5.0499 - accuracy: 0.0495 - top-5-accuracy: 0.1549 - val_loss: 6.0333 - val_accuracy: 0.0242 - val_top-5-accuracy: 0.0665\n",
      "Epoch 29/80\n",
      "24/24 [==============================] - 1955s 84s/step - loss: 4.9895 - accuracy: 0.0539 - top-5-accuracy: 0.1606 - val_loss: 5.7952 - val_accuracy: 0.0181 - val_top-5-accuracy: 0.0846\n",
      "Epoch 30/80\n",
      "24/24 [==============================] - 2225s 95s/step - loss: 4.9357 - accuracy: 0.0593 - top-5-accuracy: 0.1778 - val_loss: 5.9727 - val_accuracy: 0.0332 - val_top-5-accuracy: 0.0725\n",
      "Epoch 31/80\n",
      "24/24 [==============================] - 1342s 57s/step - loss: 4.8936 - accuracy: 0.0643 - top-5-accuracy: 0.1761 - val_loss: 6.0104 - val_accuracy: 0.0211 - val_top-5-accuracy: 0.0785\n",
      "Epoch 32/80\n",
      "24/24 [==============================] - 754s 31s/step - loss: 4.8427 - accuracy: 0.0690 - top-5-accuracy: 0.1872 - val_loss: 5.8979 - val_accuracy: 0.0211 - val_top-5-accuracy: 0.0937\n",
      "Epoch 33/80\n",
      "24/24 [==============================] - 2877s 124s/step - loss: 4.8417 - accuracy: 0.0623 - top-5-accuracy: 0.1912 - val_loss: 6.0841 - val_accuracy: 0.0181 - val_top-5-accuracy: 0.0816\n",
      "Epoch 34/80\n",
      "24/24 [==============================] - 2312s 86s/step - loss: 4.7399 - accuracy: 0.0761 - top-5-accuracy: 0.2162 - val_loss: 5.9102 - val_accuracy: 0.0302 - val_top-5-accuracy: 0.0937\n",
      "Epoch 35/80\n",
      "24/24 [==============================] - 754s 31s/step - loss: 4.7000 - accuracy: 0.0811 - top-5-accuracy: 0.2162 - val_loss: 5.9835 - val_accuracy: 0.0242 - val_top-5-accuracy: 0.0816\n",
      "Epoch 36/80\n",
      "24/24 [==============================] - 759s 32s/step - loss: 4.5700 - accuracy: 0.0838 - top-5-accuracy: 0.2343 - val_loss: 6.0407 - val_accuracy: 0.0272 - val_top-5-accuracy: 0.1057\n",
      "Epoch 37/80\n",
      "24/24 [==============================] - 748s 31s/step - loss: 4.5768 - accuracy: 0.0936 - top-5-accuracy: 0.2303 - val_loss: 6.0159 - val_accuracy: 0.0242 - val_top-5-accuracy: 0.1027\n",
      "Epoch 38/80\n",
      "24/24 [==============================] - 768s 32s/step - loss: 4.5416 - accuracy: 0.0973 - top-5-accuracy: 0.2468 - val_loss: 6.0778 - val_accuracy: 0.0181 - val_top-5-accuracy: 0.0997\n",
      "Epoch 39/80\n",
      "24/24 [==============================] - 737s 31s/step - loss: 4.5419 - accuracy: 0.0933 - top-5-accuracy: 0.2519 - val_loss: 6.0507 - val_accuracy: 0.0242 - val_top-5-accuracy: 0.0967\n",
      "Epoch 40/80\n",
      "24/24 [==============================] - 2449s 105s/step - loss: 4.4938 - accuracy: 0.1047 - top-5-accuracy: 0.2589 - val_loss: 6.2179 - val_accuracy: 0.0242 - val_top-5-accuracy: 0.0816\n",
      "Epoch 41/80\n",
      "13/24 [===============>..............] - ETA: 6:56 - loss: 4.3208 - accuracy: 0.1058 - top-5-accuracy: 0.2819"
     ]
    },
    {
     "ename": "KeyboardInterrupt",
     "evalue": "",
     "output_type": "error",
     "traceback": [
      "\u001b[0;31m---------------------------------------------------------------------------\u001b[0m",
      "\u001b[0;31mKeyboardInterrupt\u001b[0m                         Traceback (most recent call last)",
      "Cell \u001b[0;32mIn [80], line 48\u001b[0m\n\u001b[1;32m     44\u001b[0m     \u001b[38;5;28;01mreturn\u001b[39;00m history\n\u001b[1;32m     47\u001b[0m vit_classifier \u001b[38;5;241m=\u001b[39m create_vit_classifier()\n\u001b[0;32m---> 48\u001b[0m history \u001b[38;5;241m=\u001b[39m \u001b[43mrun_experiment\u001b[49m\u001b[43m(\u001b[49m\u001b[43mvit_classifier\u001b[49m\u001b[43m)\u001b[49m\n",
      "Cell \u001b[0;32mIn [80], line 30\u001b[0m, in \u001b[0;36mrun_experiment\u001b[0;34m(model)\u001b[0m\n\u001b[1;32m     22\u001b[0m checkpoint_filepath \u001b[38;5;241m=\u001b[39m \u001b[38;5;124m\"\u001b[39m\u001b[38;5;124m/tmp/checkpoint\u001b[39m\u001b[38;5;124m\"\u001b[39m\n\u001b[1;32m     23\u001b[0m checkpoint_callback \u001b[38;5;241m=\u001b[39m keras\u001b[38;5;241m.\u001b[39mcallbacks\u001b[38;5;241m.\u001b[39mModelCheckpoint(\n\u001b[1;32m     24\u001b[0m     checkpoint_filepath,\n\u001b[1;32m     25\u001b[0m     monitor\u001b[38;5;241m=\u001b[39m\u001b[38;5;124m\"\u001b[39m\u001b[38;5;124mval_accuracy\u001b[39m\u001b[38;5;124m\"\u001b[39m,\n\u001b[1;32m     26\u001b[0m     save_best_only\u001b[38;5;241m=\u001b[39m\u001b[38;5;28;01mTrue\u001b[39;00m,\n\u001b[1;32m     27\u001b[0m     save_weights_only\u001b[38;5;241m=\u001b[39m\u001b[38;5;28;01mTrue\u001b[39;00m,\n\u001b[1;32m     28\u001b[0m )\n\u001b[0;32m---> 30\u001b[0m history \u001b[38;5;241m=\u001b[39m \u001b[43mmodel\u001b[49m\u001b[38;5;241;43m.\u001b[39;49m\u001b[43mfit\u001b[49m\u001b[43m(\u001b[49m\n\u001b[1;32m     31\u001b[0m \u001b[43m    \u001b[49m\u001b[43mx\u001b[49m\u001b[38;5;241;43m=\u001b[39;49m\u001b[43mx_train\u001b[49m\u001b[43m,\u001b[49m\n\u001b[1;32m     32\u001b[0m \u001b[43m    \u001b[49m\u001b[43my\u001b[49m\u001b[38;5;241;43m=\u001b[39;49m\u001b[43my_train\u001b[49m\u001b[43m,\u001b[49m\n\u001b[1;32m     33\u001b[0m \u001b[43m    \u001b[49m\u001b[43mbatch_size\u001b[49m\u001b[38;5;241;43m=\u001b[39;49m\u001b[43mbatch_size\u001b[49m\u001b[43m,\u001b[49m\n\u001b[1;32m     34\u001b[0m \u001b[43m    \u001b[49m\u001b[43mepochs\u001b[49m\u001b[38;5;241;43m=\u001b[39;49m\u001b[43mnum_epochs\u001b[49m\u001b[43m,\u001b[49m\n\u001b[1;32m     35\u001b[0m \u001b[43m    \u001b[49m\u001b[43mvalidation_split\u001b[49m\u001b[38;5;241;43m=\u001b[39;49m\u001b[38;5;241;43m0.1\u001b[39;49m\u001b[43m,\u001b[49m\n\u001b[1;32m     36\u001b[0m \u001b[43m    \u001b[49m\u001b[43mcallbacks\u001b[49m\u001b[38;5;241;43m=\u001b[39;49m\u001b[43m[\u001b[49m\u001b[43mcheckpoint_callback\u001b[49m\u001b[43m]\u001b[49m\u001b[43m,\u001b[49m\n\u001b[1;32m     37\u001b[0m \u001b[43m\u001b[49m\u001b[43m)\u001b[49m\n\u001b[1;32m     39\u001b[0m model\u001b[38;5;241m.\u001b[39mload_weights(checkpoint_filepath)\n\u001b[1;32m     40\u001b[0m _, accuracy, top_5_accuracy \u001b[38;5;241m=\u001b[39m model\u001b[38;5;241m.\u001b[39mevaluate(x_test, y_test)\n",
      "File \u001b[0;32m~/.pyenv/versions/3.9.8/lib/python3.9/site-packages/keras/utils/traceback_utils.py:65\u001b[0m, in \u001b[0;36mfilter_traceback.<locals>.error_handler\u001b[0;34m(*args, **kwargs)\u001b[0m\n\u001b[1;32m     63\u001b[0m filtered_tb \u001b[38;5;241m=\u001b[39m \u001b[38;5;28;01mNone\u001b[39;00m\n\u001b[1;32m     64\u001b[0m \u001b[38;5;28;01mtry\u001b[39;00m:\n\u001b[0;32m---> 65\u001b[0m     \u001b[38;5;28;01mreturn\u001b[39;00m \u001b[43mfn\u001b[49m\u001b[43m(\u001b[49m\u001b[38;5;241;43m*\u001b[39;49m\u001b[43margs\u001b[49m\u001b[43m,\u001b[49m\u001b[43m \u001b[49m\u001b[38;5;241;43m*\u001b[39;49m\u001b[38;5;241;43m*\u001b[39;49m\u001b[43mkwargs\u001b[49m\u001b[43m)\u001b[49m\n\u001b[1;32m     66\u001b[0m \u001b[38;5;28;01mexcept\u001b[39;00m \u001b[38;5;167;01mException\u001b[39;00m \u001b[38;5;28;01mas\u001b[39;00m e:\n\u001b[1;32m     67\u001b[0m     filtered_tb \u001b[38;5;241m=\u001b[39m _process_traceback_frames(e\u001b[38;5;241m.\u001b[39m__traceback__)\n",
      "File \u001b[0;32m~/.pyenv/versions/3.9.8/lib/python3.9/site-packages/keras/engine/training.py:1650\u001b[0m, in \u001b[0;36mModel.fit\u001b[0;34m(self, x, y, batch_size, epochs, verbose, callbacks, validation_split, validation_data, shuffle, class_weight, sample_weight, initial_epoch, steps_per_epoch, validation_steps, validation_batch_size, validation_freq, max_queue_size, workers, use_multiprocessing)\u001b[0m\n\u001b[1;32m   1642\u001b[0m \u001b[38;5;28;01mwith\u001b[39;00m tf\u001b[38;5;241m.\u001b[39mprofiler\u001b[38;5;241m.\u001b[39mexperimental\u001b[38;5;241m.\u001b[39mTrace(\n\u001b[1;32m   1643\u001b[0m     \u001b[38;5;124m\"\u001b[39m\u001b[38;5;124mtrain\u001b[39m\u001b[38;5;124m\"\u001b[39m,\n\u001b[1;32m   1644\u001b[0m     epoch_num\u001b[38;5;241m=\u001b[39mepoch,\n\u001b[0;32m   (...)\u001b[0m\n\u001b[1;32m   1647\u001b[0m     _r\u001b[38;5;241m=\u001b[39m\u001b[38;5;241m1\u001b[39m,\n\u001b[1;32m   1648\u001b[0m ):\n\u001b[1;32m   1649\u001b[0m     callbacks\u001b[38;5;241m.\u001b[39mon_train_batch_begin(step)\n\u001b[0;32m-> 1650\u001b[0m     tmp_logs \u001b[38;5;241m=\u001b[39m \u001b[38;5;28;43mself\u001b[39;49m\u001b[38;5;241;43m.\u001b[39;49m\u001b[43mtrain_function\u001b[49m\u001b[43m(\u001b[49m\u001b[43miterator\u001b[49m\u001b[43m)\u001b[49m\n\u001b[1;32m   1651\u001b[0m     \u001b[38;5;28;01mif\u001b[39;00m data_handler\u001b[38;5;241m.\u001b[39mshould_sync:\n\u001b[1;32m   1652\u001b[0m         context\u001b[38;5;241m.\u001b[39masync_wait()\n",
      "File \u001b[0;32m~/.pyenv/versions/3.9.8/lib/python3.9/site-packages/tensorflow/python/util/traceback_utils.py:150\u001b[0m, in \u001b[0;36mfilter_traceback.<locals>.error_handler\u001b[0;34m(*args, **kwargs)\u001b[0m\n\u001b[1;32m    148\u001b[0m filtered_tb \u001b[38;5;241m=\u001b[39m \u001b[38;5;28;01mNone\u001b[39;00m\n\u001b[1;32m    149\u001b[0m \u001b[38;5;28;01mtry\u001b[39;00m:\n\u001b[0;32m--> 150\u001b[0m   \u001b[38;5;28;01mreturn\u001b[39;00m \u001b[43mfn\u001b[49m\u001b[43m(\u001b[49m\u001b[38;5;241;43m*\u001b[39;49m\u001b[43margs\u001b[49m\u001b[43m,\u001b[49m\u001b[43m \u001b[49m\u001b[38;5;241;43m*\u001b[39;49m\u001b[38;5;241;43m*\u001b[39;49m\u001b[43mkwargs\u001b[49m\u001b[43m)\u001b[49m\n\u001b[1;32m    151\u001b[0m \u001b[38;5;28;01mexcept\u001b[39;00m \u001b[38;5;167;01mException\u001b[39;00m \u001b[38;5;28;01mas\u001b[39;00m e:\n\u001b[1;32m    152\u001b[0m   filtered_tb \u001b[38;5;241m=\u001b[39m _process_traceback_frames(e\u001b[38;5;241m.\u001b[39m__traceback__)\n",
      "File \u001b[0;32m~/.pyenv/versions/3.9.8/lib/python3.9/site-packages/tensorflow/python/eager/polymorphic_function/polymorphic_function.py:880\u001b[0m, in \u001b[0;36mFunction.__call__\u001b[0;34m(self, *args, **kwds)\u001b[0m\n\u001b[1;32m    877\u001b[0m compiler \u001b[38;5;241m=\u001b[39m \u001b[38;5;124m\"\u001b[39m\u001b[38;5;124mxla\u001b[39m\u001b[38;5;124m\"\u001b[39m \u001b[38;5;28;01mif\u001b[39;00m \u001b[38;5;28mself\u001b[39m\u001b[38;5;241m.\u001b[39m_jit_compile \u001b[38;5;28;01melse\u001b[39;00m \u001b[38;5;124m\"\u001b[39m\u001b[38;5;124mnonXla\u001b[39m\u001b[38;5;124m\"\u001b[39m\n\u001b[1;32m    879\u001b[0m \u001b[38;5;28;01mwith\u001b[39;00m OptionalXlaContext(\u001b[38;5;28mself\u001b[39m\u001b[38;5;241m.\u001b[39m_jit_compile):\n\u001b[0;32m--> 880\u001b[0m   result \u001b[38;5;241m=\u001b[39m \u001b[38;5;28;43mself\u001b[39;49m\u001b[38;5;241;43m.\u001b[39;49m\u001b[43m_call\u001b[49m\u001b[43m(\u001b[49m\u001b[38;5;241;43m*\u001b[39;49m\u001b[43margs\u001b[49m\u001b[43m,\u001b[49m\u001b[43m \u001b[49m\u001b[38;5;241;43m*\u001b[39;49m\u001b[38;5;241;43m*\u001b[39;49m\u001b[43mkwds\u001b[49m\u001b[43m)\u001b[49m\n\u001b[1;32m    882\u001b[0m new_tracing_count \u001b[38;5;241m=\u001b[39m \u001b[38;5;28mself\u001b[39m\u001b[38;5;241m.\u001b[39mexperimental_get_tracing_count()\n\u001b[1;32m    883\u001b[0m without_tracing \u001b[38;5;241m=\u001b[39m (tracing_count \u001b[38;5;241m==\u001b[39m new_tracing_count)\n",
      "File \u001b[0;32m~/.pyenv/versions/3.9.8/lib/python3.9/site-packages/tensorflow/python/eager/polymorphic_function/polymorphic_function.py:912\u001b[0m, in \u001b[0;36mFunction._call\u001b[0;34m(self, *args, **kwds)\u001b[0m\n\u001b[1;32m    909\u001b[0m   \u001b[38;5;28mself\u001b[39m\u001b[38;5;241m.\u001b[39m_lock\u001b[38;5;241m.\u001b[39mrelease()\n\u001b[1;32m    910\u001b[0m   \u001b[38;5;66;03m# In this case we have created variables on the first call, so we run the\u001b[39;00m\n\u001b[1;32m    911\u001b[0m   \u001b[38;5;66;03m# defunned version which is guaranteed to never create variables.\u001b[39;00m\n\u001b[0;32m--> 912\u001b[0m   \u001b[38;5;28;01mreturn\u001b[39;00m \u001b[38;5;28;43mself\u001b[39;49m\u001b[38;5;241;43m.\u001b[39;49m\u001b[43m_no_variable_creation_fn\u001b[49m\u001b[43m(\u001b[49m\u001b[38;5;241;43m*\u001b[39;49m\u001b[43margs\u001b[49m\u001b[43m,\u001b[49m\u001b[43m \u001b[49m\u001b[38;5;241;43m*\u001b[39;49m\u001b[38;5;241;43m*\u001b[39;49m\u001b[43mkwds\u001b[49m\u001b[43m)\u001b[49m  \u001b[38;5;66;03m# pylint: disable=not-callable\u001b[39;00m\n\u001b[1;32m    913\u001b[0m \u001b[38;5;28;01melif\u001b[39;00m \u001b[38;5;28mself\u001b[39m\u001b[38;5;241m.\u001b[39m_variable_creation_fn \u001b[38;5;129;01mis\u001b[39;00m \u001b[38;5;129;01mnot\u001b[39;00m \u001b[38;5;28;01mNone\u001b[39;00m:\n\u001b[1;32m    914\u001b[0m   \u001b[38;5;66;03m# Release the lock early so that multiple threads can perform the call\u001b[39;00m\n\u001b[1;32m    915\u001b[0m   \u001b[38;5;66;03m# in parallel.\u001b[39;00m\n\u001b[1;32m    916\u001b[0m   \u001b[38;5;28mself\u001b[39m\u001b[38;5;241m.\u001b[39m_lock\u001b[38;5;241m.\u001b[39mrelease()\n",
      "File \u001b[0;32m~/.pyenv/versions/3.9.8/lib/python3.9/site-packages/tensorflow/python/eager/polymorphic_function/tracing_compiler.py:134\u001b[0m, in \u001b[0;36mTracingCompiler.__call__\u001b[0;34m(self, *args, **kwargs)\u001b[0m\n\u001b[1;32m    131\u001b[0m \u001b[38;5;28;01mwith\u001b[39;00m \u001b[38;5;28mself\u001b[39m\u001b[38;5;241m.\u001b[39m_lock:\n\u001b[1;32m    132\u001b[0m   (concrete_function,\n\u001b[1;32m    133\u001b[0m    filtered_flat_args) \u001b[38;5;241m=\u001b[39m \u001b[38;5;28mself\u001b[39m\u001b[38;5;241m.\u001b[39m_maybe_define_function(args, kwargs)\n\u001b[0;32m--> 134\u001b[0m \u001b[38;5;28;01mreturn\u001b[39;00m \u001b[43mconcrete_function\u001b[49m\u001b[38;5;241;43m.\u001b[39;49m\u001b[43m_call_flat\u001b[49m\u001b[43m(\u001b[49m\n\u001b[1;32m    135\u001b[0m \u001b[43m    \u001b[49m\u001b[43mfiltered_flat_args\u001b[49m\u001b[43m,\u001b[49m\u001b[43m \u001b[49m\u001b[43mcaptured_inputs\u001b[49m\u001b[38;5;241;43m=\u001b[39;49m\u001b[43mconcrete_function\u001b[49m\u001b[38;5;241;43m.\u001b[39;49m\u001b[43mcaptured_inputs\u001b[49m\u001b[43m)\u001b[49m\n",
      "File \u001b[0;32m~/.pyenv/versions/3.9.8/lib/python3.9/site-packages/tensorflow/python/eager/polymorphic_function/monomorphic_function.py:1745\u001b[0m, in \u001b[0;36mConcreteFunction._call_flat\u001b[0;34m(self, args, captured_inputs, cancellation_manager)\u001b[0m\n\u001b[1;32m   1741\u001b[0m possible_gradient_type \u001b[38;5;241m=\u001b[39m gradients_util\u001b[38;5;241m.\u001b[39mPossibleTapeGradientTypes(args)\n\u001b[1;32m   1742\u001b[0m \u001b[38;5;28;01mif\u001b[39;00m (possible_gradient_type \u001b[38;5;241m==\u001b[39m gradients_util\u001b[38;5;241m.\u001b[39mPOSSIBLE_GRADIENT_TYPES_NONE\n\u001b[1;32m   1743\u001b[0m     \u001b[38;5;129;01mand\u001b[39;00m executing_eagerly):\n\u001b[1;32m   1744\u001b[0m   \u001b[38;5;66;03m# No tape is watching; skip to running the function.\u001b[39;00m\n\u001b[0;32m-> 1745\u001b[0m   \u001b[38;5;28;01mreturn\u001b[39;00m \u001b[38;5;28mself\u001b[39m\u001b[38;5;241m.\u001b[39m_build_call_outputs(\u001b[38;5;28;43mself\u001b[39;49m\u001b[38;5;241;43m.\u001b[39;49m\u001b[43m_inference_function\u001b[49m\u001b[38;5;241;43m.\u001b[39;49m\u001b[43mcall\u001b[49m\u001b[43m(\u001b[49m\n\u001b[1;32m   1746\u001b[0m \u001b[43m      \u001b[49m\u001b[43mctx\u001b[49m\u001b[43m,\u001b[49m\u001b[43m \u001b[49m\u001b[43margs\u001b[49m\u001b[43m,\u001b[49m\u001b[43m \u001b[49m\u001b[43mcancellation_manager\u001b[49m\u001b[38;5;241;43m=\u001b[39;49m\u001b[43mcancellation_manager\u001b[49m\u001b[43m)\u001b[49m)\n\u001b[1;32m   1747\u001b[0m forward_backward \u001b[38;5;241m=\u001b[39m \u001b[38;5;28mself\u001b[39m\u001b[38;5;241m.\u001b[39m_select_forward_and_backward_functions(\n\u001b[1;32m   1748\u001b[0m     args,\n\u001b[1;32m   1749\u001b[0m     possible_gradient_type,\n\u001b[1;32m   1750\u001b[0m     executing_eagerly)\n\u001b[1;32m   1751\u001b[0m forward_function, args_with_tangents \u001b[38;5;241m=\u001b[39m forward_backward\u001b[38;5;241m.\u001b[39mforward()\n",
      "File \u001b[0;32m~/.pyenv/versions/3.9.8/lib/python3.9/site-packages/tensorflow/python/eager/polymorphic_function/monomorphic_function.py:378\u001b[0m, in \u001b[0;36m_EagerDefinedFunction.call\u001b[0;34m(self, ctx, args, cancellation_manager)\u001b[0m\n\u001b[1;32m    376\u001b[0m \u001b[38;5;28;01mwith\u001b[39;00m _InterpolateFunctionError(\u001b[38;5;28mself\u001b[39m):\n\u001b[1;32m    377\u001b[0m   \u001b[38;5;28;01mif\u001b[39;00m cancellation_manager \u001b[38;5;129;01mis\u001b[39;00m \u001b[38;5;28;01mNone\u001b[39;00m:\n\u001b[0;32m--> 378\u001b[0m     outputs \u001b[38;5;241m=\u001b[39m \u001b[43mexecute\u001b[49m\u001b[38;5;241;43m.\u001b[39;49m\u001b[43mexecute\u001b[49m\u001b[43m(\u001b[49m\n\u001b[1;32m    379\u001b[0m \u001b[43m        \u001b[49m\u001b[38;5;28;43mstr\u001b[39;49m\u001b[43m(\u001b[49m\u001b[38;5;28;43mself\u001b[39;49m\u001b[38;5;241;43m.\u001b[39;49m\u001b[43msignature\u001b[49m\u001b[38;5;241;43m.\u001b[39;49m\u001b[43mname\u001b[49m\u001b[43m)\u001b[49m\u001b[43m,\u001b[49m\n\u001b[1;32m    380\u001b[0m \u001b[43m        \u001b[49m\u001b[43mnum_outputs\u001b[49m\u001b[38;5;241;43m=\u001b[39;49m\u001b[38;5;28;43mself\u001b[39;49m\u001b[38;5;241;43m.\u001b[39;49m\u001b[43m_num_outputs\u001b[49m\u001b[43m,\u001b[49m\n\u001b[1;32m    381\u001b[0m \u001b[43m        \u001b[49m\u001b[43minputs\u001b[49m\u001b[38;5;241;43m=\u001b[39;49m\u001b[43margs\u001b[49m\u001b[43m,\u001b[49m\n\u001b[1;32m    382\u001b[0m \u001b[43m        \u001b[49m\u001b[43mattrs\u001b[49m\u001b[38;5;241;43m=\u001b[39;49m\u001b[43mattrs\u001b[49m\u001b[43m,\u001b[49m\n\u001b[1;32m    383\u001b[0m \u001b[43m        \u001b[49m\u001b[43mctx\u001b[49m\u001b[38;5;241;43m=\u001b[39;49m\u001b[43mctx\u001b[49m\u001b[43m)\u001b[49m\n\u001b[1;32m    384\u001b[0m   \u001b[38;5;28;01melse\u001b[39;00m:\n\u001b[1;32m    385\u001b[0m     outputs \u001b[38;5;241m=\u001b[39m execute\u001b[38;5;241m.\u001b[39mexecute_with_cancellation(\n\u001b[1;32m    386\u001b[0m         \u001b[38;5;28mstr\u001b[39m(\u001b[38;5;28mself\u001b[39m\u001b[38;5;241m.\u001b[39msignature\u001b[38;5;241m.\u001b[39mname),\n\u001b[1;32m    387\u001b[0m         num_outputs\u001b[38;5;241m=\u001b[39m\u001b[38;5;28mself\u001b[39m\u001b[38;5;241m.\u001b[39m_num_outputs,\n\u001b[0;32m   (...)\u001b[0m\n\u001b[1;32m    390\u001b[0m         ctx\u001b[38;5;241m=\u001b[39mctx,\n\u001b[1;32m    391\u001b[0m         cancellation_manager\u001b[38;5;241m=\u001b[39mcancellation_manager)\n",
      "File \u001b[0;32m~/.pyenv/versions/3.9.8/lib/python3.9/site-packages/tensorflow/python/eager/execute.py:52\u001b[0m, in \u001b[0;36mquick_execute\u001b[0;34m(op_name, num_outputs, inputs, attrs, ctx, name)\u001b[0m\n\u001b[1;32m     50\u001b[0m \u001b[38;5;28;01mtry\u001b[39;00m:\n\u001b[1;32m     51\u001b[0m   ctx\u001b[38;5;241m.\u001b[39mensure_initialized()\n\u001b[0;32m---> 52\u001b[0m   tensors \u001b[38;5;241m=\u001b[39m \u001b[43mpywrap_tfe\u001b[49m\u001b[38;5;241;43m.\u001b[39;49m\u001b[43mTFE_Py_Execute\u001b[49m\u001b[43m(\u001b[49m\u001b[43mctx\u001b[49m\u001b[38;5;241;43m.\u001b[39;49m\u001b[43m_handle\u001b[49m\u001b[43m,\u001b[49m\u001b[43m \u001b[49m\u001b[43mdevice_name\u001b[49m\u001b[43m,\u001b[49m\u001b[43m \u001b[49m\u001b[43mop_name\u001b[49m\u001b[43m,\u001b[49m\n\u001b[1;32m     53\u001b[0m \u001b[43m                                      \u001b[49m\u001b[43minputs\u001b[49m\u001b[43m,\u001b[49m\u001b[43m \u001b[49m\u001b[43mattrs\u001b[49m\u001b[43m,\u001b[49m\u001b[43m \u001b[49m\u001b[43mnum_outputs\u001b[49m\u001b[43m)\u001b[49m\n\u001b[1;32m     54\u001b[0m \u001b[38;5;28;01mexcept\u001b[39;00m core\u001b[38;5;241m.\u001b[39m_NotOkStatusException \u001b[38;5;28;01mas\u001b[39;00m e:\n\u001b[1;32m     55\u001b[0m   \u001b[38;5;28;01mif\u001b[39;00m name \u001b[38;5;129;01mis\u001b[39;00m \u001b[38;5;129;01mnot\u001b[39;00m \u001b[38;5;28;01mNone\u001b[39;00m:\n",
      "\u001b[0;31mKeyboardInterrupt\u001b[0m: "
     ]
    }
   ],
   "source": [
    "import numpy as np\n",
    "import tensorflow as tf\n",
    "from tensorflow import keras\n",
    "from tensorflow.keras import layers\n",
    "import tensorflow_addons as tfa\n",
    "\n",
    "\n",
    "def run_experiment(model):\n",
    "    optimizer = tfa.optimizers.AdamW(\n",
    "        learning_rate=learning_rate, weight_decay=weight_decay\n",
    "    )\n",
    "\n",
    "    model.compile(\n",
    "        optimizer=optimizer,\n",
    "        loss=keras.losses.SparseCategoricalCrossentropy(from_logits=True),\n",
    "        metrics=[\n",
    "            keras.metrics.SparseCategoricalAccuracy(name=\"accuracy\"),\n",
    "            keras.metrics.SparseTopKCategoricalAccuracy(5, name=\"top-5-accuracy\"),\n",
    "        ],\n",
    "    )\n",
    "\n",
    "    checkpoint_filepath = \"/tmp/checkpoint\"\n",
    "    checkpoint_callback = keras.callbacks.ModelCheckpoint(\n",
    "        checkpoint_filepath,\n",
    "        monitor=\"val_accuracy\",\n",
    "        save_best_only=True,\n",
    "        save_weights_only=True,\n",
    "    )\n",
    "\n",
    "    history = model.fit(\n",
    "        x=x_train,\n",
    "        y=y_train,\n",
    "        batch_size=batch_size,\n",
    "        epochs=num_epochs,\n",
    "        validation_split=0.1,\n",
    "        callbacks=[checkpoint_callback],\n",
    "    )\n",
    "\n",
    "    model.load_weights(checkpoint_filepath)\n",
    "    _, accuracy, top_5_accuracy = model.evaluate(x_test, y_test)\n",
    "    print(f\"Test accuracy: {round(accuracy * 100, 2)}%\")\n",
    "    print(f\"Test top 5 accuracy: {round(top_5_accuracy * 100, 2)}%\")\n",
    "\n",
    "    return history\n",
    "\n",
    "\n",
    "vit_classifier = create_vit_classifier()\n",
    "history = run_experiment(vit_classifier)\n"
   ]
  },
  {
   "cell_type": "code",
   "execution_count": null,
   "id": "05ae3b7f-797f-4787-835d-f54b1f203522",
   "metadata": {
    "id": "05ae3b7f-797f-4787-835d-f54b1f203522",
    "tags": []
   },
   "outputs": [],
   "source": [
    "model_dir = 'models/vit_classifier'\n",
    "vit_classifier.save(model_dir)"
   ]
  },
  {
   "cell_type": "code",
   "execution_count": 15,
   "id": "ae8b92d2-614d-4772-a2e2-70e4332ebf3c",
   "metadata": {
    "id": "ae8b92d2-614d-4772-a2e2-70e4332ebf3c",
    "tags": []
   },
   "outputs": [
    {
     "ename": "NameError",
     "evalue": "name 'vit_classifier' is not defined",
     "output_type": "error",
     "traceback": [
      "\u001b[0;31m---------------------------------------------------------------------------\u001b[0m",
      "\u001b[0;31mNameError\u001b[0m                                 Traceback (most recent call last)",
      "Cell \u001b[0;32mIn [15], line 27\u001b[0m\n\u001b[1;32m     24\u001b[0m     plt\u001b[38;5;241m.\u001b[39mtitle(\u001b[38;5;124m'\u001b[39m\u001b[38;5;124mTraining and Validation Loss\u001b[39m\u001b[38;5;124m'\u001b[39m)\n\u001b[1;32m     25\u001b[0m     \u001b[38;5;28;01mreturn\u001b[39;00m plt\u001b[38;5;241m.\u001b[39mshow()\n\u001b[0;32m---> 27\u001b[0m visualize_training(\u001b[43mvit_classifier\u001b[49m,num_epochs,\u001b[38;5;124m'\u001b[39m\u001b[38;5;124maccuracy\u001b[39m\u001b[38;5;124m'\u001b[39m)\n",
      "\u001b[0;31mNameError\u001b[0m: name 'vit_classifier' is not defined"
     ]
    }
   ],
   "source": [
    "# visualize training function\n",
    "\n",
    "def visualize_training(model,epochs,  accuracy='categorical_accuracy'):\n",
    "    acc = history.history[accuracy]\n",
    "    val_acc_name = 'val_' + accuracy\n",
    "    val_acc = history.history[val_acc_name]\n",
    "\n",
    "    loss = history.history['loss']\n",
    "    val_loss = history.history['val_loss']\n",
    "\n",
    "    epochs_range = range(epochs)\n",
    "    \n",
    "    plt.figure(figsize=(16, 8))\n",
    "    plt.subplot(1, 2, 1)\n",
    "    plt.plot(epochs_range, acc, label='Training Accuracy')\n",
    "    plt.plot(epochs_range, val_acc, label='Validation Accuracy')\n",
    "    plt.legend(loc='lower right')\n",
    "    plt.title('Training and Validation Accuracy')\n",
    "    \n",
    "    plt.subplot(1, 2, 2)\n",
    "    plt.plot(epochs_range, loss, label='Training Loss')\n",
    "    plt.plot(epochs_range, val_loss, label='Validation Loss')\n",
    "    plt.legend(loc='upper right')\n",
    "    plt.title('Training and Validation Loss')\n",
    "    return plt.show()\n",
    "\n",
    "visualize_training(vit_classifier,num_epochs,'accuracy')"
   ]
  },
  {
   "cell_type": "markdown",
   "id": "4ec8099e-0596-477e-a032-966254a3bdc4",
   "metadata": {
    "id": "4ec8099e-0596-477e-a032-966254a3bdc4"
   },
   "source": [
    "# Whole-model saving & loading - SavedModel\n",
    "\n",
    "There are two formats you can use to save an entire model to disk: the TensorFlow SavedModel format, and the older Keras H5 format. The recommended format is SavedModel. It is the default when you use model.save().\n",
    "\n",
    "\n",
    "You can save an entire model to a single artifact. It will include:\n",
    "\n",
    "    * The model's architecture/config\n",
    "    * The model's weight values (which were learned during training)\n",
    "    * The model's compilation information (if compile() was called)\n",
    "    * The optimizer and its state, if any (this enables you to restart training where you left)\n",
    "\n",
    "APIs\n",
    "\n",
    "    * model.save() or tf.keras.models.save_model()\n",
    "    * tf.keras.models.load_model()\n",
    "\n",
    "You can switch to the H5 format by:\n",
    "\n",
    "    * Passing save_format='h5' to save().\n",
    "    * Passing a filename that ends in .h5 or .keras to save()."
   ]
  },
  {
   "cell_type": "code",
   "execution_count": 1,
   "id": "9e3c139c-1db3-4b00-a48d-c7d69a5a1db9",
   "metadata": {
    "id": "9e3c139c-1db3-4b00-a48d-c7d69a5a1db9",
    "outputId": "bb927cef-3f36-4483-ae0a-a739f62834a5"
   },
   "outputs": [
    {
     "name": "stdout",
     "output_type": "stream",
     "text": [
      "Requirement already satisfied: keras in /Users/nlory/.pyenv/versions/3.9.8/lib/python3.9/site-packages (2.11.0)\n"
     ]
    }
   ],
   "source": [
    "!pip install keras"
   ]
  },
  {
   "cell_type": "code",
   "execution_count": 2,
   "id": "fe2af4af-bcd6-4016-b879-c01b04f140f4",
   "metadata": {
    "id": "fe2af4af-bcd6-4016-b879-c01b04f140f4",
    "outputId": "525643cb-04d5-4f6d-ef7e-a13aaf4c0b9b"
   },
   "outputs": [
    {
     "name": "stdout",
     "output_type": "stream",
     "text": [
      "Requirement already satisfied: tensorflow-macos in /Users/nlory/.pyenv/versions/3.9.8/lib/python3.9/site-packages (2.11.0)\n",
      "Requirement already satisfied: six>=1.12.0 in /Users/nlory/.pyenv/versions/3.9.8/lib/python3.9/site-packages (from tensorflow-macos) (1.16.0)\n",
      "Requirement already satisfied: google-pasta>=0.1.1 in /Users/nlory/.pyenv/versions/3.9.8/lib/python3.9/site-packages (from tensorflow-macos) (0.2.0)\n",
      "Requirement already satisfied: packaging in /Users/nlory/.pyenv/versions/3.9.8/lib/python3.9/site-packages (from tensorflow-macos) (21.3)\n",
      "Requirement already satisfied: tensorflow-estimator<2.12,>=2.11.0 in /Users/nlory/.pyenv/versions/3.9.8/lib/python3.9/site-packages (from tensorflow-macos) (2.11.0)\n",
      "Requirement already satisfied: h5py>=2.9.0 in /Users/nlory/.pyenv/versions/3.9.8/lib/python3.9/site-packages (from tensorflow-macos) (3.8.0)\n",
      "Requirement already satisfied: libclang>=13.0.0 in /Users/nlory/.pyenv/versions/3.9.8/lib/python3.9/site-packages (from tensorflow-macos) (15.0.6.1)\n",
      "Requirement already satisfied: wrapt>=1.11.0 in /Users/nlory/.pyenv/versions/3.9.8/lib/python3.9/site-packages (from tensorflow-macos) (1.14.1)\n",
      "Requirement already satisfied: flatbuffers>=2.0 in /Users/nlory/.pyenv/versions/3.9.8/lib/python3.9/site-packages (from tensorflow-macos) (23.1.21)\n",
      "Requirement already satisfied: tensorboard<2.12,>=2.11 in /Users/nlory/.pyenv/versions/3.9.8/lib/python3.9/site-packages (from tensorflow-macos) (2.11.2)\n",
      "Requirement already satisfied: keras<2.12,>=2.11.0 in /Users/nlory/.pyenv/versions/3.9.8/lib/python3.9/site-packages (from tensorflow-macos) (2.11.0)\n",
      "Requirement already satisfied: astunparse>=1.6.0 in /Users/nlory/.pyenv/versions/3.9.8/lib/python3.9/site-packages (from tensorflow-macos) (1.6.3)\n",
      "Requirement already satisfied: gast<=0.4.0,>=0.2.1 in /Users/nlory/.pyenv/versions/3.9.8/lib/python3.9/site-packages (from tensorflow-macos) (0.4.0)\n",
      "Requirement already satisfied: grpcio<2.0,>=1.24.3 in /Users/nlory/.pyenv/versions/3.9.8/lib/python3.9/site-packages (from tensorflow-macos) (1.51.1)\n",
      "Requirement already satisfied: numpy>=1.20 in /Users/nlory/.pyenv/versions/3.9.8/lib/python3.9/site-packages (from tensorflow-macos) (1.24.2)\n",
      "Requirement already satisfied: typing-extensions>=3.6.6 in /Users/nlory/.pyenv/versions/3.9.8/lib/python3.9/site-packages (from tensorflow-macos) (4.4.0)\n",
      "Requirement already satisfied: protobuf<3.20,>=3.9.2 in /Users/nlory/.pyenv/versions/3.9.8/lib/python3.9/site-packages (from tensorflow-macos) (3.19.6)\n",
      "Requirement already satisfied: setuptools in /Users/nlory/.pyenv/versions/3.9.8/lib/python3.9/site-packages (from tensorflow-macos) (58.1.0)\n",
      "Requirement already satisfied: absl-py>=1.0.0 in /Users/nlory/.pyenv/versions/3.9.8/lib/python3.9/site-packages (from tensorflow-macos) (1.4.0)\n",
      "Requirement already satisfied: opt-einsum>=2.3.2 in /Users/nlory/.pyenv/versions/3.9.8/lib/python3.9/site-packages (from tensorflow-macos) (3.3.0)\n",
      "Requirement already satisfied: termcolor>=1.1.0 in /Users/nlory/.pyenv/versions/3.9.8/lib/python3.9/site-packages (from tensorflow-macos) (2.2.0)\n",
      "Requirement already satisfied: wheel<1.0,>=0.23.0 in /Users/nlory/.pyenv/versions/3.9.8/lib/python3.9/site-packages (from astunparse>=1.6.0->tensorflow-macos) (0.38.4)\n",
      "Requirement already satisfied: tensorboard-data-server<0.7.0,>=0.6.0 in /Users/nlory/.pyenv/versions/3.9.8/lib/python3.9/site-packages (from tensorboard<2.12,>=2.11->tensorflow-macos) (0.6.1)\n",
      "Requirement already satisfied: tensorboard-plugin-wit>=1.6.0 in /Users/nlory/.pyenv/versions/3.9.8/lib/python3.9/site-packages (from tensorboard<2.12,>=2.11->tensorflow-macos) (1.8.1)\n",
      "Requirement already satisfied: werkzeug>=1.0.1 in /Users/nlory/.pyenv/versions/3.9.8/lib/python3.9/site-packages (from tensorboard<2.12,>=2.11->tensorflow-macos) (2.2.2)\n",
      "Requirement already satisfied: google-auth<3,>=1.6.3 in /Users/nlory/.pyenv/versions/3.9.8/lib/python3.9/site-packages (from tensorboard<2.12,>=2.11->tensorflow-macos) (2.16.0)\n",
      "Requirement already satisfied: google-auth-oauthlib<0.5,>=0.4.1 in /Users/nlory/.pyenv/versions/3.9.8/lib/python3.9/site-packages (from tensorboard<2.12,>=2.11->tensorflow-macos) (0.4.6)\n",
      "Requirement already satisfied: markdown>=2.6.8 in /Users/nlory/.pyenv/versions/3.9.8/lib/python3.9/site-packages (from tensorboard<2.12,>=2.11->tensorflow-macos) (3.4.1)\n",
      "Requirement already satisfied: requests<3,>=2.21.0 in /Users/nlory/.pyenv/versions/3.9.8/lib/python3.9/site-packages (from tensorboard<2.12,>=2.11->tensorflow-macos) (2.28.1)\n",
      "Requirement already satisfied: pyparsing!=3.0.5,>=2.0.2 in /Users/nlory/.pyenv/versions/3.9.8/lib/python3.9/site-packages (from packaging->tensorflow-macos) (3.0.9)\n",
      "Requirement already satisfied: rsa<5,>=3.1.4 in /Users/nlory/.pyenv/versions/3.9.8/lib/python3.9/site-packages (from google-auth<3,>=1.6.3->tensorboard<2.12,>=2.11->tensorflow-macos) (4.9)\n",
      "Requirement already satisfied: cachetools<6.0,>=2.0.0 in /Users/nlory/.pyenv/versions/3.9.8/lib/python3.9/site-packages (from google-auth<3,>=1.6.3->tensorboard<2.12,>=2.11->tensorflow-macos) (5.3.0)\n",
      "Requirement already satisfied: pyasn1-modules>=0.2.1 in /Users/nlory/.pyenv/versions/3.9.8/lib/python3.9/site-packages (from google-auth<3,>=1.6.3->tensorboard<2.12,>=2.11->tensorflow-macos) (0.2.8)\n",
      "Requirement already satisfied: requests-oauthlib>=0.7.0 in /Users/nlory/.pyenv/versions/3.9.8/lib/python3.9/site-packages (from google-auth-oauthlib<0.5,>=0.4.1->tensorboard<2.12,>=2.11->tensorflow-macos) (1.3.1)\n",
      "Requirement already satisfied: importlib-metadata>=4.4 in /Users/nlory/.pyenv/versions/3.9.8/lib/python3.9/site-packages (from markdown>=2.6.8->tensorboard<2.12,>=2.11->tensorflow-macos) (5.0.0)\n",
      "Requirement already satisfied: charset-normalizer<3,>=2 in /Users/nlory/.pyenv/versions/3.9.8/lib/python3.9/site-packages (from requests<3,>=2.21.0->tensorboard<2.12,>=2.11->tensorflow-macos) (2.1.1)\n",
      "Requirement already satisfied: idna<4,>=2.5 in /Users/nlory/.pyenv/versions/3.9.8/lib/python3.9/site-packages (from requests<3,>=2.21.0->tensorboard<2.12,>=2.11->tensorflow-macos) (3.4)\n",
      "Requirement already satisfied: urllib3<1.27,>=1.21.1 in /Users/nlory/.pyenv/versions/3.9.8/lib/python3.9/site-packages (from requests<3,>=2.21.0->tensorboard<2.12,>=2.11->tensorflow-macos) (1.26.12)\n",
      "Requirement already satisfied: certifi>=2017.4.17 in /Users/nlory/.pyenv/versions/3.9.8/lib/python3.9/site-packages (from requests<3,>=2.21.0->tensorboard<2.12,>=2.11->tensorflow-macos) (2022.9.24)\n",
      "Requirement already satisfied: MarkupSafe>=2.1.1 in /Users/nlory/.pyenv/versions/3.9.8/lib/python3.9/site-packages (from werkzeug>=1.0.1->tensorboard<2.12,>=2.11->tensorflow-macos) (2.1.1)\n",
      "Requirement already satisfied: zipp>=0.5 in /Users/nlory/.pyenv/versions/3.9.8/lib/python3.9/site-packages (from importlib-metadata>=4.4->markdown>=2.6.8->tensorboard<2.12,>=2.11->tensorflow-macos) (3.10.0)\n",
      "Requirement already satisfied: pyasn1<0.5.0,>=0.4.6 in /Users/nlory/.pyenv/versions/3.9.8/lib/python3.9/site-packages (from pyasn1-modules>=0.2.1->google-auth<3,>=1.6.3->tensorboard<2.12,>=2.11->tensorflow-macos) (0.4.8)\n",
      "Requirement already satisfied: oauthlib>=3.0.0 in /Users/nlory/.pyenv/versions/3.9.8/lib/python3.9/site-packages (from requests-oauthlib>=0.7.0->google-auth-oauthlib<0.5,>=0.4.1->tensorboard<2.12,>=2.11->tensorflow-macos) (3.2.2)\n"
     ]
    }
   ],
   "source": [
    "!pip install tensorflow-macos"
   ]
  },
  {
   "cell_type": "code",
   "execution_count": 3,
   "id": "19c2987f-73ae-44d5-961e-0b31808cf05b",
   "metadata": {
    "id": "19c2987f-73ae-44d5-961e-0b31808cf05b",
    "outputId": "fad0fa49-c8e6-4075-9c6f-98107d6ca7fa"
   },
   "outputs": [
    {
     "name": "stderr",
     "output_type": "stream",
     "text": [
      "/Users/nlory/.pyenv/versions/3.9.8/lib/python3.9/site-packages/scipy/__init__.py:146: UserWarning: A NumPy version >=1.16.5 and <1.23.0 is required for this version of SciPy (detected version 1.24.2\n",
      "  warnings.warn(f\"A NumPy version >={np_minversion} and <{np_maxversion}\"\n"
     ]
    }
   ],
   "source": [
    "import numpy as np\n",
    "import tensorflow as tf\n",
    "from tensorflow import keras"
   ]
  },
  {
   "cell_type": "code",
   "execution_count": 8,
   "id": "805188b2-45b4-4ee7-9538-83b3b1068399",
   "metadata": {
    "id": "805188b2-45b4-4ee7-9538-83b3b1068399"
   },
   "outputs": [],
   "source": [
    "model_dir = 'models/230202_vit_classifier'\n",
    "img_dim_1, img_dim_2 = 32, 32"
   ]
  },
  {
   "cell_type": "code",
   "execution_count": 9,
   "id": "1ca64a18-6d99-4741-b143-057552896cd4",
   "metadata": {
    "id": "1ca64a18-6d99-4741-b143-057552896cd4"
   },
   "outputs": [],
   "source": [
    "# used to save the model\n",
    "# vit_classifier.save(model_dir)"
   ]
  },
  {
   "cell_type": "code",
   "execution_count": 13,
   "id": "045b2ef0-9e2e-4d06-974f-e1138faf3624",
   "metadata": {
    "id": "045b2ef0-9e2e-4d06-974f-e1138faf3624"
   },
   "outputs": [
    {
     "name": "stdout",
     "output_type": "stream",
     "text": [
      "WARNING:tensorflow:Using a while_loop for converting RngReadAndSkip cause there is no registered converter for this op.\n",
      "WARNING:tensorflow:Using a while_loop for converting Bitcast cause there is no registered converter for this op.\n",
      "WARNING:tensorflow:Using a while_loop for converting Bitcast cause there is no registered converter for this op.\n",
      "WARNING:tensorflow:Using a while_loop for converting StatelessRandomUniformV2 cause there is no registered converter for this op.\n",
      "WARNING:tensorflow:Using a while_loop for converting ImageProjectiveTransformV3 cause there is no registered converter for this op.\n",
      "WARNING:tensorflow:Using a while_loop for converting RngReadAndSkip cause there is no registered converter for this op.\n",
      "WARNING:tensorflow:Using a while_loop for converting Bitcast cause there is no registered converter for this op.\n",
      "WARNING:tensorflow:Using a while_loop for converting Bitcast cause there is no registered converter for this op.\n",
      "WARNING:tensorflow:Using a while_loop for converting StatelessRandomUniformV2 cause there is no registered converter for this op.\n",
      "WARNING:tensorflow:Using a while_loop for converting RngReadAndSkip cause there is no registered converter for this op.\n",
      "WARNING:tensorflow:Using a while_loop for converting Bitcast cause there is no registered converter for this op.\n",
      "WARNING:tensorflow:Using a while_loop for converting Bitcast cause there is no registered converter for this op.\n",
      "WARNING:tensorflow:Using a while_loop for converting StatelessRandomUniformV2 cause there is no registered converter for this op.\n",
      "WARNING:tensorflow:Using a while_loop for converting ImageProjectiveTransformV3 cause there is no registered converter for this op.\n",
      "WARNING:tensorflow:Using a while_loop for converting RngReadAndSkip cause there is no registered converter for this op.\n",
      "WARNING:tensorflow:Using a while_loop for converting Bitcast cause there is no registered converter for this op.\n",
      "WARNING:tensorflow:Using a while_loop for converting Bitcast cause there is no registered converter for this op.\n",
      "WARNING:tensorflow:Using a while_loop for converting StatelessRandomUniformV2 cause there is no registered converter for this op.\n",
      "WARNING:tensorflow:Using a while_loop for converting ImageProjectiveTransformV3 cause there is no registered converter for this op.\n",
      "WARNING:tensorflow:Using a while_loop for converting RngReadAndSkip cause there is no registered converter for this op.\n",
      "WARNING:tensorflow:Using a while_loop for converting Bitcast cause there is no registered converter for this op.\n",
      "WARNING:tensorflow:Using a while_loop for converting Bitcast cause there is no registered converter for this op.\n",
      "WARNING:tensorflow:Using a while_loop for converting StatelessRandomUniformV2 cause there is no registered converter for this op.\n",
      "WARNING:tensorflow:Using a while_loop for converting RngReadAndSkip cause there is no registered converter for this op.\n",
      "WARNING:tensorflow:Using a while_loop for converting Bitcast cause there is no registered converter for this op.\n",
      "WARNING:tensorflow:Using a while_loop for converting Bitcast cause there is no registered converter for this op.\n",
      "WARNING:tensorflow:Using a while_loop for converting StatelessRandomUniformV2 cause there is no registered converter for this op.\n",
      "WARNING:tensorflow:Using a while_loop for converting ImageProjectiveTransformV3 cause there is no registered converter for this op.\n"
     ]
    }
   ],
   "source": [
    "model = keras.models.load_model(model_dir)"
   ]
  },
  {
   "cell_type": "code",
   "execution_count": 14,
   "id": "9b309212-f2be-4f46-b7eb-d087788fd04a",
   "metadata": {
    "id": "9b309212-f2be-4f46-b7eb-d087788fd04a",
    "outputId": "a8d87a75-bd64-4c54-8ad5-43de4e653589"
   },
   "outputs": [
    {
     "name": "stdout",
     "output_type": "stream",
     "text": [
      "1/1 [==============================] - 1s 514ms/step\n",
      "Predicted class: 470 - triaenodon_obesus\n"
     ]
    }
   ],
   "source": [
    "import numpy as np\n",
    "import tensorflow as tf\n",
    "from tensorflow import keras\n",
    "from tensorflow.keras.preprocessing import image\n",
    "\n",
    "class_names = ['A73EGS-P', 'CUNWCB-Y', 'Istiophorus_platypterus', 'P1ROZC-Z', 'PQV7DP-S', 'acanthaluteres_brownii', 'acanthaluteres_spilomelanurus', 'acanthaluteres_vittiger', 'acanthistius_cinctus', 'Acanthopagrus australis', 'Acanthopagrus berda', 'acanthopagrus_latus', 'achoerodus_gouldii', 'achoerodus_viridis', 'acreichthys_tomentosus', 'aesopia_cornuta', 'aethaloperca_rogaa', 'alectis_ciliaris', 'alectis_indica', 'alepes_kleinii', 'aluterus_monoceros', 'aluterus_scriptus', 'amanses_scopas', 'anampses_caeruleopunctatus', 'anampses_elegans', 'anampses_femininus', 'anampses_geographicus', 'anampses_lennardi', 'anampses_melanurus', 'anampses_meleagrides', 'anampses_neoguinaicus', 'anampses_twistii', 'anodontostoma_chacunda', 'anyperodon_leucogrammicus', 'aphareus_furca', 'aphareus_rutilans', 'aprion_virescens', 'argyrops_spinifer', 'aseraggodes_melanostictus', 'atractoscion_aequidens', 'atule_mate', 'auxis_rochei', 'auxis_thazard', 'bathylagichthys_greyae', 'beryx_decadactylus', 'bodianus_anthioides', 'bodianus_axillaris', 'bodianus_bilunulatus', 'bodianus_bimaculatus', 'bodianus_diana', 'bodianus_loxozonus', 'bodianus_mesothorax', 'bodianus_perditio', 'bodianus_unimaculatus', 'bodianus_vulpinus', 'bothus_mancus', 'bothus_myriaster', 'bothus_pantherinus', 'brachaluteres_jacksonianus', 'brachirus_orientalis', 'caesioperca_lepidopterus', 'cantherhines_dumerilii', 'cantherhines_fronticinctus', 'cantherhines_pardalis', 'cantheschenia_grandisquamis', 'caprodon_longimanus', 'caprodon_schlegelii', 'carangoides_caeruleopinnatus', 'carangoides_chrysophrys', 'carangoides_equula', 'carangoides_ferdau', 'carangoides_fulvoguttatus', 'carangoides_hedlandensis', 'carangoides_malabaricus', 'carangoides_orthogrammus', 'carangoides_plagiotaenia', 'caranx_ignobilis', 'caranx_lugubris', 'caranx_melampygus', 'caranx_sexfasciatus', 'carcharhinus_albimarginatus', 'carcharhinus_amblyrhynchos', 'carcharhinus_falciformis', 'carcharhinus_galapagensis', 'carcharhinus_limbatus', 'carcharhinus_melanopterus', 'carcharhinus_obscurus', 'carcharhinus_plumbeus', 'carcharhinus_sorrah', 'centroberyx_affinis', 'centrogenys_vaigiensis', 'centroscymnus_coelolepis', 'cephalopholis_argus', 'cephalopholis_boenak', 'cephalopholis_cyanostigma', 'cephalopholis_formosa', 'cephalopholis_igarashiensis', 'cephalopholis_leopardus', 'cephalopholis_microprion', 'cephalopholis_miniata', 'cephalopholis_sexmaculata', 'cephalopholis_sonnerati', 'cephalopholis_spiloparaea', 'chascanopsetta_lugubris', 'cheilinus_chlorourus', 'cheilinus_fasciatus', 'cheilinus_oxycephalus', 'cheilinus_trilobatus', 'cheilinus_undulatus', 'cheilio_inermis', 'cheilodactylus_ephippium', 'cheilodactylus_fuscus', 'cheilodactylus_spectabilis', 'cheilodactylus_vestitus', 'chelidonichthys_kumu', 'chirocentrus_dorab', 'chirocentrus_nudus', 'choerodon_anchorago', 'choerodon_cauteroma', 'choerodon_cyanodus', 'choerodon_fasciatus', 'choerodon_graphicus', 'choerodon_jordani', 'choerodon_rubescens', 'choerodon_schoenleinii', 'choerodon_venustus', 'choerodon_vitta', 'choerodon_zamboangae', 'chromileptes_altivelis', 'cirrhilabrus_bathyphilus', 'cirrhilabrus_condei', 'cirrhilabrus_cyanopleura', 'cirrhilabrus_exquisitus', 'cirrhilabrus_laboutei', 'cirrhilabrus_punctatus', 'cirrhilabrus_scottorum', 'cirrhilabrus_temminckii', 'coris_aygula', 'coris_batuensis', 'coris_bulbifrons', 'coris_caudimacula', 'coris_dorsomacula', 'coris_gaimard', 'coris_picta', 'coris_pictoides', 'coris_sandeyeri', 'crenimugil_crenilabis', 'cymbacephalus_nematophthalmus', 'cymolutes_praetextatus', 'cymolutes_torquatus', 'cynoglossus_puncticeps', 'cyttopsis_rosea', 'dactylophora_nigricans', 'decapterus_macrosoma', 'decapterus_russelli', 'diproctacanthus_xanthurus', 'dotalabrus_aurantiacus', 'elagatis_bipinnulata', 'epibulus_insidiator', 'epinephelus_areolatus', 'epinephelus_bleekeri', 'epinephelus_chlorostigma', 'epinephelus_coeruleopunctatus', 'epinephelus_coioides', 'epinephelus_corallicola', 'epinephelus_cyanopodus', 'epinephelus_epistictus', 'epinephelus_fasciatus', 'epinephelus_fuscoguttatus', 'epinephelus_hexagonatus', 'epinephelus_howlandi', 'epinephelus_lanceolatus', 'epinephelus_latifasciatus', 'epinephelus_macrospilos', 'epinephelus_maculatus', 'epinephelus_melanostigma', 'epinephelus_merra', 'epinephelus_morrhua', 'epinephelus_multinotatus', 'epinephelus_ongus', 'epinephelus_polyphekadion', 'epinephelus_quoyanus', 'epinephelus_radiatus', 'epinephelus_retouti', 'epinephelus_rivulatus', 'epinephelus_sexfasciatus', 'epinephelus_spilotoceps', 'epinephelus_tauvina', 'epinephelus_undulatostriatus', 'etelis_carbunculus', 'etelis_coruscans', 'eubalichthys_cyanoura', 'eubalichthys_mosaicus', 'eupetrichthys_angustipes', 'euthynnus_affinis', 'evistias_acutirostris', 'gempylus_serpens', 'gnathanodon_speciosus', 'gnathodentex_aureolineatus', 'gracila_albomarginata', 'gymnocranius_audleyi', 'gymnocranius_euanus', 'gymnocranius_grandoculis', 'gymnocranius_microdon', 'gymnosarda_unicolor', 'halichoeres_argus', 'halichoeres_biocellatus', 'halichoeres_chloropterus', 'halichoeres_chrysus', 'halichoeres_hartzfeldii', 'halichoeres_hortulanus', 'halichoeres_leucurus', 'halichoeres_margaritaceus', 'halichoeres_marginatus', 'halichoeres_melanochir', 'halichoeres_melanurus', 'halichoeres_melasmapomus', 'halichoeres_miniatus', 'halichoeres_nebulosus', 'halichoeres_nigrescens', 'halichoeres_scapularis', 'halichoeres_trimaculatus', 'harriotta_raleighana', 'hemigymnus_fasciatus', 'hemigymnus_melapterus', 'hemiramphus_far', 'herklotsichthys_quadrimaculatus', 'hologymnosus_annulatus', 'hologymnosus_doliatus', 'hyporhamphus_affinis', 'hyporhamphus_dussumieri', 'inegocia_japonica', 'johnius_borneensis', 'katsuwonus_pelamis', 'labrichthys_unilineatus', 'labroides_bicolor', 'labroides_dimidiatus', 'labroides_pectoralis', 'labropsis_australis', 'labropsis_manabei', 'labropsis_xanthonota', 'latridopsis_forsteri', 'lepidocybium_flavobrunneum', 'leptojulis_cyanopleura', 'lethrinus_amboinensis', 'lethrinus_atkinsoni', 'lethrinus_erythracanthus', 'lethrinus_genivittatus', 'lethrinus_harak', 'lethrinus_lentjan', 'lethrinus_microdon', 'lethrinus_miniatus', 'lethrinus_nebulosus', 'lethrinus_obsoletus', 'lethrinus_olivaceus', 'lethrinus_ornatus', 'lethrinus_rubrioperculatus', 'lethrinus_semicinctus', 'lethrinus_variegatus', 'lethrinus_xanthochilus', 'liopropoma_mitratum', 'liopropoma_susumi', 'liza_subviridis', 'liza_vaigiensis', 'lniistius_aneitensis', 'lniistius_pavo', 'lutjanus_adetii', 'lutjanus_argentimaculatus', 'lutjanus_biguttatus', 'lutjanus_bohar', 'lutjanus_carponotatus', 'lutjanus_decussatus', 'lutjanus_ehrenbergii', 'lutjanus_erythropterus', 'lutjanus_fulviflamma', 'lutjanus_fulvus', 'lutjanus_gibbus', 'lutjanus_johnii', 'lutjanus_kasmira', 'lutjanus_lemniscatus', 'lutjanus_lutjanus', 'lutjanus_malabaricus', 'lutjanus_monostigma', 'lutjanus_quinquelineatus', 'lutjanus_rivulatus', 'lutjanus_russellii', 'lutjanus_sebae', 'lutjanus_semicinctus', 'lutjanus_semicinctus_quoy', 'lutjanus_timoriensis', 'lutjanus_vitta', 'macolor_macularis', 'macolor_niger', 'macropharyngodon_choati', 'macropharyngodon_kuiteri', 'macropharyngodon_meleagris', 'macropharyngodon_negrosensis', 'macropharyngodon_ornatus', 'megalaspis_cordyla', 'meuschenia_australis', 'meuschenia_freycineti', 'meuschenia_galii', 'meuschenia_hippocrepis', 'meuschenia_scaber', 'meuschenia_trachylepis', 'monacanthus_chinensis', 'monotaxis_grandoculis', 'mugim_cephalus', 'naucrates_ductor', 'negaprion_acutidens', 'nemadactylus_douglasii', 'nemipterus_furcosus', 'nemipterus_hexodon', 'nemipterus_peronii', 'netuma_thalassina', 'nibea_soldado', 'notolabrus_fucicola', 'notolabrus_gymnogenis', 'notolabrus_tetricus', 'notorynchus_cepedianus', 'novaculichthys_taeniourus', 'novaculoides_macrolepidotus', 'oedalechilus_labiosus', 'ophthalmolepis_lineolatus', 'otolithes_ruber', 'oxycheilinus_bimaculatus', 'oxycheilinus_celebicus', 'oxycheilinus_digrammus', 'oxycheilinus_unifasciatus', 'oxymonacanthus_longirostris', 'pagrus_auratus', 'paracaesio_kusakarii', 'paracheilinus_filamentosus', 'paraluteres_prionurus', 'paramonacanthus_choirocephalus', 'paraplagusia_bilineata', 'parastromateus_niger', 'pardachirus_hedleyi', 'pardachirus_pavoninus', 'pentapodus_aureofasciatus', 'pentapodus_paradiseus', 'pentapodus_vitta_quoy', 'pervagor_alternans', 'pervagor_aspricaudus', 'pervagor_janthinosoma', 'pervagor_melanocephalus', 'pervagor_nigrolineatus', 'pinjalo_lewisi', 'platycephalus_indicus', 'plectranthias_longimanus', 'plectranthias_nanus', 'plectranthias_winniensis', 'plectropomus_areolatus', 'plectropomus_laevis', 'plectropomus_leopardus', 'plectropomus_maculatus', 'plectropomus_oligacanthus', 'plotosus_lineatus', 'pristipomoides_argyrogrammicus', 'pristipomoides_auricilla', 'pristipomoides_filamentosus', 'pristipomoides_flavipinnis', 'pristipomoides_sieboldii', 'pristipomoides_zonatus', 'promethichthys_prometheus', 'protonibea_diacanthus', 'psettodes_erumei', 'pseudalutarius_nasicornis', 'pseudanthias_bicolor', 'pseudanthias_cooperi', 'pseudanthias_dispar', 'pseudanthias_fasciatus', 'pseudanthias_huchtii', 'pseudanthias_hypselosoma', 'pseudanthias_lori', 'pseudanthias_luzonensis', 'pseudanthias_pictilis', 'pseudanthias_pleurotaenia', 'pseudanthias_rubrizonatus', 'pseudanthias_sheni', 'pseudanthias_smithvanizi', 'pseudanthias_squamipinnis', 'pseudanthias_tuka', 'pseudanthias_ventralis', 'pseudocaranx_dentex', 'pseudocarcharias_kamoharai', 'pseudocheilinus_evanidus', 'pseudocheilinus_hexataenia', 'pseudocheilinus_ocellatus', 'pseudocheilinus_octotaenia', 'pseudodax_moluccanus', 'pseudojuloides_cerasinus', 'pseudolabrus_biserialis', 'pseudolabrus_guentheri', 'pseudolabrus_luculentus', 'pseudorhombus_argus', 'pseudorhombus_arsius', 'pseudorhombus_elevatus', 'pteragogus_cryptus', 'pteragogus_enneacanthus', 'pteragogus_flagellifer', 'rastrelliger_kanagurta', 'retropinna_semoni', 'rhabdosargus_sarba', 'rhincodon_typus', 'rhizoprionodon_acutus', 'ruvettus_pretiosus', 'samaris_cristatus', 'samariscus_triocellatus', 'sarda_orientalis', 'sardinella_albella', 'sardinella_gibbosa', 'sardinops_sagax', 'scaevius_milii', 'scolopsis_affinis', 'scolopsis_bilineata', 'scolopsis_lineata', 'scolopsis_margaritifer', 'scolopsis_monogramma', 'scolopsis_trilineata', 'scolopsis_vosmeri', 'scolopsis_xenochrous', 'scomberoides_commersonnianus', 'scomberoides_lysan', 'scomberomorus_commerson', 'selar_crumenophthalmus', 'selaroides_leptolepis', 'seriola_dumerili', 'seriola_hippos', 'seriola_rivoliana', 'seriolina_nigrofasciata', 'serranocirrhitus_latus', 'sillago_ciliata', 'sillago_sihama', 'soleichthys_heterorhinos', 'sphyraena_barracuda', 'sphyraena_forsteri', 'sphyraena_jello', 'sphyraena_obtusata', 'stegostoma_fasciatum', 'stethojulis_bandanensis', 'stethojulis_interrupta', 'stethojulis_strigiventer', 'stethojulis_trilineata', 'stolephorus_waitei', 'suezichthys_arquatus', 'suezichthys_cyanolaemus', 'suezichthys_gracilis', 'symphorichthys_spilurus', 'symphorus_nematophorus', 'thalassoma_amblycephalum', 'thalassoma_hardwicke', 'thalassoma_jansenii', 'thalassoma_lunare', 'thalassoma_lutescens', 'thalassoma_nigrofasciatum', 'thalassoma_purpureum', 'thalassoma_quinquevittatum', 'thalassoma_trilobatum', 'thryssa_baelama', 'thryssa_hamiltonii', 'thunnus_alalunga', 'thunnus_albacares', 'thysanophrys_celebica', 'thysanophrys_chiltonae', 'trachichthys_australis', 'trachinotus_baillonii', 'trachinotus_blochii', 'trachinotus_botla', 'trachypoma_macracanthus', 'triaenodon_obesus', 'uraspis_secunda', 'valamugil_cunnesius', 'valamugil_engeli', 'valamugil_seheli', 'variola_albimarginata', 'variola_louti', 'wattsia_mossambica', 'wetmorella_albofasciata', 'wetmorella_nigropinnata', 'xiphocheilus_typus', 'zenarchopterus_dispar', 'zeus_faber']\n",
    "class_dict = {key: idx for idx, key in enumerate(class_names)}\n",
    "# Load the model\n",
    "#model = keras.models.load_model('model.h5')\n",
    "\n",
    "# Load the image and resize it to (224, 224)\n",
    "img = image.load_img('data/fish_data/images/numbered/acanthopagrus_berda/43.png', target_size=(img_dim_1, img_dim_2))\n",
    "\n",
    "# Convert the image to a numpy array\n",
    "img_array = image.img_to_array(img)\n",
    "\n",
    "# Expand the shape of the image array from (224, 224, 3) to (1, 224, 224, 3)\n",
    "img_array = np.expand_dims(img_array, axis=0)\n",
    "\n",
    "# Normalize the pixel values from [0, 255] to [-1, 1]\n",
    "img_array = (img_array / 127.5) - 1\n",
    "\n",
    "# Use the model to make a prediction\n",
    "predictions = model.predict(img_array)\n",
    "\n",
    "# Get the class with the highest prediction probability\n",
    "class_index = np.argmax(predictions[0])\n",
    "\n",
    "# creating a new dictionary\n",
    "# list out keys and values separately\n",
    "def translate_class_index(class_index):\n",
    "    key_list = list(class_dict.keys())\n",
    "    val_list = list(class_dict.values())\n",
    "    # print key\n",
    "    position = val_list.index(class_index)\n",
    "    return key_list[position]\n",
    "\n",
    "# Print the predicted class\n",
    "print(\"Predicted class:\", class_index, '-', translate_class_index(class_index))\n"
   ]
  }
 ],
 "metadata": {
  "accelerator": "GPU",
  "colab": {
   "provenance": [],
   "toc_visible": true
  },
  "gpuClass": "standard",
  "kernelspec": {
   "display_name": "venv",
   "language": "python",
   "name": "venv"
  },
  "language_info": {
   "codemirror_mode": {
    "name": "ipython",
    "version": 3
   },
   "file_extension": ".py",
   "mimetype": "text/x-python",
   "name": "python",
   "nbconvert_exporter": "python",
   "pygments_lexer": "ipython3",
   "version": "3.9.8"
  }
 },
 "nbformat": 4,
 "nbformat_minor": 5
}
