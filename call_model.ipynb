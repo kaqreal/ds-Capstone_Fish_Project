{
 "cells": [
  {
   "cell_type": "code",
   "execution_count": 1,
   "id": "7496e021-be33-4334-9951-0bd63077054a",
   "metadata": {},
   "outputs": [],
   "source": [
    "#!pip install numpy # I need this because my tensorflow version crashes all the time...\n",
    "import call_model"
   ]
  },
  {
   "cell_type": "code",
   "execution_count": 2,
   "id": "a3a5d9a0-4f7b-42e8-8a65-7c2217b5579f",
   "metadata": {},
   "outputs": [
    {
     "name": "stdin",
     "output_type": "stream",
     "text": [
      "Which model would you like to use? (saved model folder inside /models): 230203_modelmaker_40epochs\n",
      "Please specify an image file (img file inside data/fish_examples folder): 42.png\n"
     ]
    },
    {
     "name": "stderr",
     "output_type": "stream",
     "text": [
      "/Users/nlory/.pyenv/versions/3.9.8/lib/python3.9/site-packages/scipy/__init__.py:146: UserWarning: A NumPy version >=1.16.5 and <1.23.0 is required for this version of SciPy (detected version 1.24.1\n",
      "  warnings.warn(f\"A NumPy version >={np_minversion} and <{np_maxversion}\"\n",
      "2023-02-03 18:02:25.571739: W tensorflow/tsl/platform/profile_utils/cpu_utils.cc:128] Failed to get CPU frequency: 0 Hz\n"
     ]
    },
    {
     "name": "stdout",
     "output_type": "stream",
     "text": [
      "1/1 [==============================] - 0s 195ms/step\n",
      "Predicted species: Cheilinus undulatus, \n",
      "the next most likely predictions are Rhabdosargus sarba, Lutjanus argentimaculatus or Acanthopagrus berda\n"
     ]
    }
   ],
   "source": [
    "# 230203_modelmaker_40epochs\n",
    "# 42.png - \n",
    "# 70.png - \n",
    "# 42.png -\n",
    "\n",
    "call_model.main()"
   ]
  },
  {
   "cell_type": "code",
   "execution_count": null,
   "id": "a274b891-7c02-4f17-996b-9f65bc9e74a0",
   "metadata": {},
   "outputs": [],
   "source": []
  }
 ],
 "metadata": {
  "kernelspec": {
   "display_name": "Python 3 (ipykernel)",
   "language": "python",
   "name": "python3"
  },
  "language_info": {
   "codemirror_mode": {
    "name": "ipython",
    "version": 3
   },
   "file_extension": ".py",
   "mimetype": "text/x-python",
   "name": "python",
   "nbconvert_exporter": "python",
   "pygments_lexer": "ipython3",
   "version": "3.9.8"
  }
 },
 "nbformat": 4,
 "nbformat_minor": 5
}
